{
 "cells": [
  {
   "cell_type": "markdown",
   "metadata": {},
   "source": [
    "<h1><b><p style=\"background-color:#09375b;font-family:camtasia;font-size:110%;color:white;text-align:center;border-radius:15px 50px; padding:7px; border:solid 2px #09375b; box-shadow: 10px 10px 10px #042b4c\">Project Title: Calories in Food</p></b></h1>\n",
    "\n",
    "<a href=\"https://github.com/Saadat-Khalid/food_calories_app\" style=\"color: #4CAF50;text-align:center;font-size: 18px;\" target=\"_blank\"> Github Repository: Food Calories App</a>\n",
    "\n",
    "<a href=\"https://foodcaloriesapp.streamlit.app/\" style=\"color: #4CAF50;text-align:center;font-size: 18px;\" target=\"_blank\">Streamlit App:Food Calories App</a>\n",
    "\n",
    "___________________________\n",
    "\n",
    "# About Dataset\n",
    "__Name:__ Calories in Food Items (per 100 grams)\\\n",
    "2225 food items across 44 food categories\n",
    "## Calories in Food\n",
    "\n",
    "A dataset that will help you discover the caloric content and other facts about common foods. When you use this dataset to understand how your body gets energy out of your favorite meals and snacks, paying particular attention to the number of calories in food you’ve eaten, you’ll be empowered to make dietary choices that never leave you with guilt (or a spare tire).\n",
    "Content\n",
    "\n",
    "Calories/KJ for 2225 food items per 100 grams across 44 food categories.\n",
    "\n",
    "### Acknowledgements\n",
    "\n",
    "Calories.info\n",
    "\n",
    "### Inspiration\n",
    "\n",
    "Being a runner & fitness enthusiast I'm concious about the calories I put into my body and hence wanted to know the calories that are in each food items.\n",
    "\n",
    "__Dataset Overview:__\n",
    "\n",
    "  🌐 Source: __Dataset is taken from [Kaggle](https://www.kaggle.com/datasets/kkhandekar/calories-in-food-items-per-100-grams/data)__\n"
   ]
  },
  {
   "cell_type": "markdown",
   "metadata": {},
   "source": [
    "<div style=\"border: 3px solid #4CAF50; border-radius: 15px; padding: 20px; width: fit-content; font-family: 'Arial', sans-serif; background-color: #f9f9f9;\">\n",
    "  <h2 style=\"color: #4CAF50;\">About Author:</h2>\n",
    "  <p style=\"font-style: italic; font-weight: bold;\">Author: <span style=\"color: #333;\">Saadat Khalid Awan</span></p>\n",
    "\n",
    "<div style=\"border-top: 2px solid #4CAF50; margin-top: 20px; padding-top: 10px;\">\n",
    "    <p style=\"font-size: 1.2em; color: #4CAF50;\">I'm Saadat Khalid Awan, a software engineer with a keen interest in data science. I hold a BS degree in Software Engineering and am currently learning about the field of data science.</p>\n",
    "  </div>\n",
    "\n",
    "  <h3 style=\"color: #4CAF50;\">Contact Information:</h3>\n",
    "  <table style=\"width: 100%; border-collapse: collapse;\">\n",
    "    <tr>\n",
    "      <td style=\"font-weight: bold; color: #4CAF50;\">Email:</td>\n",
    "      <td style=\"color: #333;\">me.saadi96@gmail.com</td>\n",
    "    </tr>\n",
    "    <tr>\n",
    "      <td style=\"font-weight: bold; color: #4CAF50;\">Website:</td>\n",
    "      <td style=\"color: #333;\"><a href=\"https://thesaadat.blogspot.com\" style=\"color: #4CAF50; text-decoration: none;\">https://thesaadat.blogspot.com</a></td>\n",
    "    </tr>\n",
    "  </table>\n",
    "\n",
    "  <h3 style=\"color: #4CAF50;\">🌐 Let's Connect:</h3>\n",
    "  <table style=\"width: 100%; border-collapse: collapse;\">\n",
    "    <tr>\n",
    "      <td><a href=\"https://facebook.com/Saadat.Khalid.Awan\" style=\"text-decoration: none;\"><img src=\"https://img.shields.io/badge/Facebook-%231877F2.svg?logo=Facebook&logoColor=white\" alt=\"Facebook\"></a></td>\n",
    "      <td><a href=\"https://instagram.com/saadii_awan66\" style=\"text-decoration: none;\"><img src=\"https://img.shields.io/badge/Instagram-%23E4405F.svg?logo=Instagram&logoColor=white\" alt=\"Instagram\"></a></td>\n",
    "      <td><a href=\"https://linkedin.com/in/saadatawan\" style=\"text-decoration: none;\"><img src=\"https://img.shields.io/badge/LinkedIn-%230077B5.svg?logo=linkedin&logoColor=white\" alt=\"LinkedIn\"></a></td>\n",
    "      <td><a href=\"https://medium.com/@me.saadat\" style=\"text-decoration: none;\"><img src=\"https://img.shields.io/badge/Medium-12100E?logo=medium&logoColor=white\" alt=\"Medium\"></a></td>\n",
    "    </tr>\n",
    "    <tr>\n",
    "      <td><a href=\"https://pinterest.com/its_saadatkhalid\" style=\"text-decoration: none;\"><img src=\"https://img.shields.io/badge/Pinterest-%23E60023.svg?logo=Pinterest&logoColor=white\" alt=\"Pinterest\"></a></td>\n",
    "      <td><a href=\"https://quora.com/profile/Saadat-Khalid-Awan\" style=\"text-decoration: none;\"><img src=\"https://img.shields.io/badge/Quora-%23B92B27.svg?logo=Quora&logoColor=white\" alt=\"Quora\"></a></td>\n",
    "      <td><a href=\"https://tiktok.com/@saadat.awan\" style=\"text-decoration: none;\"><img src=\"https://img.shields.io/badge/TikTok-%23000000.svg?logo=TikTok&logoColor=white\" alt=\"TikTok\"></a></td>\n",
    "      <td><a href=\"https://twitter.com/saadat_96\" style=\"text-decoration: none;\"><img src=\"https://img.shields.io/badge/Twitter-%231DA1F2.svg?logo=Twitter&logoColor=white\" alt=\"Twitter\"></a></td>\n",
    "    </tr>\n",
    "    <tr>\n",
    "      <td><a href=\"https://youtube.com/@saadatkhalidawan\" style=\"text-decoration: none;\"><img src=\"https://img.shields.io/badge/YouTube-%23FF0000.svg?logo=YouTube&logoColor=white\" alt=\"YouTube\"></a></td>\n",
    "      <td><a href=\"https://github.com/Saadat-Khalid\" style=\"text-decoration: none;\"><img src=\"https://img.shields.io/badge/Github-%23FF0000.svg?logo=Github&logoColor=Black\" alt=\"Github\"></a></td>\n",
    "    </tr>\n",
    "  </table>\n",
    "\n",
    "</div>\n"
   ]
  },
  {
   "cell_type": "markdown",
   "metadata": {},
   "source": [
    "<!-- from IPython.core.display import display, HTML\n",
    "\n",
    "html_code = \"\"\" -->\n",
    "<style>\n",
    "@keyframes colorChange {\n",
    "    0% { background-color: #ff9999; border-color: #ff6666; color: #660000; }\n",
    "    25% { background-color: #99ccff; border-color: #3399ff; color: #003366; }\n",
    "    50% { background-color: #99ff99; border-color: #33cc33; color: #006600; }\n",
    "    75% { background-color: #ffff99; border-color: #cccc33; color: #666600; }\n",
    "    100% { background-color: #ff9999; border-color: #ff6666; color: #660000; }\n",
    "}\n",
    "\n",
    ".fancy-card {\n",
    "    font-family: 'Courier New', Courier, monospace;\n",
    "    font-size: 2em;\n",
    "    padding: 20px;\n",
    "    margin: 20px;\n",
    "    border: 5px solid;\n",
    "    border-radius: 15px;\n",
    "    text-align: center;\n",
    "    animation: colorChange 10s infinite;\n",
    "}\n",
    "</style>\n",
    "<div class=\"fancy-card\">\n",
    "    IMPORTING LIBRARIES\n",
    "</div>\n",
    "<!-- \"\"\" -->\n",
    "\n",
    "<!-- display(HTML(html_code))  -->\n"
   ]
  },
  {
   "cell_type": "code",
   "execution_count": 31,
   "metadata": {},
   "outputs": [],
   "source": [
    "import pandas as pd\n",
    "import numpy as np\n",
    "import matplotlib.pyplot as plt\n",
    "import seaborn as sns\n",
    "import plotly.express as px"
   ]
  },
  {
   "cell_type": "markdown",
   "metadata": {},
   "source": [
    "<!-- from IPython.core.display import display, HTML\n",
    "\n",
    "html_code = \"\"\" -->\n",
    "<style>\n",
    "@keyframes colorChange {\n",
    "    0% { background-color: #ff9999; border-color: #ff6666; color: #660000; }\n",
    "    25% { background-color: #99ccff; border-color: #3399ff; color: #003366; }\n",
    "    50% { background-color: #99ff99; border-color: #33cc33; color: #006600; }\n",
    "    75% { background-color: #ffff99; border-color: #cccc33; color: #666600; }\n",
    "    100% { background-color: #ff9999; border-color: #ff6666; color: #660000; }\n",
    "}\n",
    "\n",
    ".fancy-card {\n",
    "    font-family: 'Courier New', Courier, monospace;\n",
    "    font-size: 2em;\n",
    "    padding: 20px;\n",
    "    margin: 20px;\n",
    "    border: 5px solid;\n",
    "    border-radius: 15px;\n",
    "    text-align: center;\n",
    "    animation: colorChange 10s infinite;\n",
    "}\n",
    "</style>\n",
    "<div class=\"fancy-card\">\n",
    "    IMPORTING OUR DATASET\n",
    "</div>\n",
    "<!-- \"\"\" -->\n",
    "\n",
    "<!-- display(HTML(html_code))  -->\n"
   ]
  },
  {
   "cell_type": "code",
   "execution_count": 32,
   "metadata": {},
   "outputs": [],
   "source": [
    "df = pd.read_csv('calories.csv')"
   ]
  },
  {
   "cell_type": "markdown",
   "metadata": {},
   "source": [
    "<!-- from IPython.core.display import display, HTML\n",
    "\n",
    "html_code = \"\"\" -->\n",
    "<style>\n",
    "@keyframes colorChange {\n",
    "    0% { background-color: #ff9999; border-color: #ff6666; color: #660000; }\n",
    "    25% { background-color: #99ccff; border-color: #3399ff; color: #003366; }\n",
    "    50% { background-color: #99ff99; border-color: #33cc33; color: #006600; }\n",
    "    75% { background-color: #ffff99; border-color: #cccc33; color: #666600; }\n",
    "    100% { background-color: #ff9999; border-color: #ff6666; color: #660000; }\n",
    "}\n",
    "\n",
    ".fancy-card {\n",
    "    font-family: 'Courier New', Courier, monospace;\n",
    "    font-size: 2em;\n",
    "    padding: 20px;\n",
    "    margin: 20px;\n",
    "    border: 5px solid;\n",
    "    border-radius: 15px;\n",
    "    text-align: center;\n",
    "    animation: colorChange 10s infinite;\n",
    "}\n",
    "</style>\n",
    "<div class=\"fancy-card\">\n",
    "EXPLORATORY DATA ANALYSIS (EDA)\n",
    "</div>\n",
    "<!-- \"\"\" -->\n",
    "\n",
    "<!-- display(HTML(html_code))  -->\n"
   ]
  },
  {
   "cell_type": "markdown",
   "metadata": {},
   "source": [
    "<h2 style=\"color: #4CAF50;text-align:center\">First 5 Rows of Our Dataset</h2>"
   ]
  },
  {
   "cell_type": "code",
   "execution_count": 33,
   "metadata": {},
   "outputs": [
    {
     "data": {
      "text/html": [
       "<div>\n",
       "<style scoped>\n",
       "    .dataframe tbody tr th:only-of-type {\n",
       "        vertical-align: middle;\n",
       "    }\n",
       "\n",
       "    .dataframe tbody tr th {\n",
       "        vertical-align: top;\n",
       "    }\n",
       "\n",
       "    .dataframe thead th {\n",
       "        text-align: right;\n",
       "    }\n",
       "</style>\n",
       "<table border=\"1\" class=\"dataframe\">\n",
       "  <thead>\n",
       "    <tr style=\"text-align: right;\">\n",
       "      <th></th>\n",
       "      <th>FoodCategory</th>\n",
       "      <th>FoodItem</th>\n",
       "      <th>per100grams</th>\n",
       "      <th>Cals_per100grams</th>\n",
       "      <th>KJ_per100grams</th>\n",
       "    </tr>\n",
       "  </thead>\n",
       "  <tbody>\n",
       "    <tr>\n",
       "      <th>0</th>\n",
       "      <td>CannedFruit</td>\n",
       "      <td>Applesauce</td>\n",
       "      <td>100g</td>\n",
       "      <td>62 cal</td>\n",
       "      <td>260 kJ</td>\n",
       "    </tr>\n",
       "    <tr>\n",
       "      <th>1</th>\n",
       "      <td>CannedFruit</td>\n",
       "      <td>Canned Apricots</td>\n",
       "      <td>100g</td>\n",
       "      <td>48 cal</td>\n",
       "      <td>202 kJ</td>\n",
       "    </tr>\n",
       "    <tr>\n",
       "      <th>2</th>\n",
       "      <td>CannedFruit</td>\n",
       "      <td>Canned Blackberries</td>\n",
       "      <td>100g</td>\n",
       "      <td>92 cal</td>\n",
       "      <td>386 kJ</td>\n",
       "    </tr>\n",
       "    <tr>\n",
       "      <th>3</th>\n",
       "      <td>CannedFruit</td>\n",
       "      <td>Canned Blueberries</td>\n",
       "      <td>100g</td>\n",
       "      <td>88 cal</td>\n",
       "      <td>370 kJ</td>\n",
       "    </tr>\n",
       "    <tr>\n",
       "      <th>4</th>\n",
       "      <td>CannedFruit</td>\n",
       "      <td>Canned Cherries</td>\n",
       "      <td>100g</td>\n",
       "      <td>54 cal</td>\n",
       "      <td>227 kJ</td>\n",
       "    </tr>\n",
       "  </tbody>\n",
       "</table>\n",
       "</div>"
      ],
      "text/plain": [
       "  FoodCategory             FoodItem per100grams Cals_per100grams  \\\n",
       "0  CannedFruit           Applesauce        100g           62 cal   \n",
       "1  CannedFruit      Canned Apricots        100g           48 cal   \n",
       "2  CannedFruit  Canned Blackberries        100g           92 cal   \n",
       "3  CannedFruit   Canned Blueberries        100g           88 cal   \n",
       "4  CannedFruit      Canned Cherries        100g           54 cal   \n",
       "\n",
       "  KJ_per100grams  \n",
       "0         260 kJ  \n",
       "1         202 kJ  \n",
       "2         386 kJ  \n",
       "3         370 kJ  \n",
       "4         227 kJ  "
      ]
     },
     "execution_count": 33,
     "metadata": {},
     "output_type": "execute_result"
    }
   ],
   "source": [
    "df.head()"
   ]
  },
  {
   "cell_type": "markdown",
   "metadata": {},
   "source": [
    "<h2 style=\"color: #4CAF50;text-align:center\">INFO</h2>"
   ]
  },
  {
   "cell_type": "code",
   "execution_count": 34,
   "metadata": {},
   "outputs": [
    {
     "name": "stdout",
     "output_type": "stream",
     "text": [
      "<class 'pandas.core.frame.DataFrame'>\n",
      "RangeIndex: 2225 entries, 0 to 2224\n",
      "Data columns (total 5 columns):\n",
      " #   Column            Non-Null Count  Dtype \n",
      "---  ------            --------------  ----- \n",
      " 0   FoodCategory      2225 non-null   object\n",
      " 1   FoodItem          2225 non-null   object\n",
      " 2   per100grams       2225 non-null   object\n",
      " 3   Cals_per100grams  2225 non-null   object\n",
      " 4   KJ_per100grams    2225 non-null   object\n",
      "dtypes: object(5)\n",
      "memory usage: 87.0+ KB\n"
     ]
    }
   ],
   "source": [
    "df.info()"
   ]
  },
  {
   "cell_type": "markdown",
   "metadata": {},
   "source": [
    "<h2 style=\"color: #4CAF50;text-align:center\">Checking Missing Values</h2>"
   ]
  },
  {
   "cell_type": "code",
   "execution_count": 35,
   "metadata": {},
   "outputs": [
    {
     "data": {
      "text/plain": [
       "FoodCategory        0\n",
       "FoodItem            0\n",
       "per100grams         0\n",
       "Cals_per100grams    0\n",
       "KJ_per100grams      0\n",
       "dtype: int64"
      ]
     },
     "execution_count": 35,
     "metadata": {},
     "output_type": "execute_result"
    }
   ],
   "source": [
    "df.isnull().sum()"
   ]
  },
  {
   "cell_type": "markdown",
   "metadata": {},
   "source": [
    "<h2 style=\"color: #4CAF50;text-align:center\">Converting Data Types</h2>"
   ]
  },
  {
   "cell_type": "markdown",
   "metadata": {},
   "source": [
    "The data in the columns `per100grams`, `Cals_per100grams`, and `KJ_per100grams` are of type `object`. Containing Values with their units. So, we need to convert them. \n",
    "\n",
    "We'll split the number from the units and change the data type to integer."
   ]
  },
  {
   "cell_type": "code",
   "execution_count": 36,
   "metadata": {},
   "outputs": [],
   "source": [
    "# Convert the per100grams column to numeric\n",
    "df['per100grams'] = df['per100grams'].str.extract('(\\d+)', expand=False).astype(int)\n",
    "\n",
    "# Convert the Cals_per100grams column to numeric\n",
    "df['Cals_per100grams'] = df['Cals_per100grams'].str.replace(' cal', '').astype(int)\n",
    "\n",
    "# Convert the KJ_per100grams column to numeric\n",
    "df['KJ_per100grams'] = df['KJ_per100grams'].str.replace(' kJ', '').astype(int)"
   ]
  },
  {
   "cell_type": "markdown",
   "metadata": {},
   "source": [
    "* After Convertion..."
   ]
  },
  {
   "cell_type": "code",
   "execution_count": 37,
   "metadata": {},
   "outputs": [
    {
     "data": {
      "text/html": [
       "<div>\n",
       "<style scoped>\n",
       "    .dataframe tbody tr th:only-of-type {\n",
       "        vertical-align: middle;\n",
       "    }\n",
       "\n",
       "    .dataframe tbody tr th {\n",
       "        vertical-align: top;\n",
       "    }\n",
       "\n",
       "    .dataframe thead th {\n",
       "        text-align: right;\n",
       "    }\n",
       "</style>\n",
       "<table border=\"1\" class=\"dataframe\">\n",
       "  <thead>\n",
       "    <tr style=\"text-align: right;\">\n",
       "      <th></th>\n",
       "      <th>FoodCategory</th>\n",
       "      <th>FoodItem</th>\n",
       "      <th>per100grams</th>\n",
       "      <th>Cals_per100grams</th>\n",
       "      <th>KJ_per100grams</th>\n",
       "    </tr>\n",
       "  </thead>\n",
       "  <tbody>\n",
       "    <tr>\n",
       "      <th>0</th>\n",
       "      <td>CannedFruit</td>\n",
       "      <td>Applesauce</td>\n",
       "      <td>100</td>\n",
       "      <td>62</td>\n",
       "      <td>260</td>\n",
       "    </tr>\n",
       "    <tr>\n",
       "      <th>1</th>\n",
       "      <td>CannedFruit</td>\n",
       "      <td>Canned Apricots</td>\n",
       "      <td>100</td>\n",
       "      <td>48</td>\n",
       "      <td>202</td>\n",
       "    </tr>\n",
       "    <tr>\n",
       "      <th>2</th>\n",
       "      <td>CannedFruit</td>\n",
       "      <td>Canned Blackberries</td>\n",
       "      <td>100</td>\n",
       "      <td>92</td>\n",
       "      <td>386</td>\n",
       "    </tr>\n",
       "    <tr>\n",
       "      <th>3</th>\n",
       "      <td>CannedFruit</td>\n",
       "      <td>Canned Blueberries</td>\n",
       "      <td>100</td>\n",
       "      <td>88</td>\n",
       "      <td>370</td>\n",
       "    </tr>\n",
       "    <tr>\n",
       "      <th>4</th>\n",
       "      <td>CannedFruit</td>\n",
       "      <td>Canned Cherries</td>\n",
       "      <td>100</td>\n",
       "      <td>54</td>\n",
       "      <td>227</td>\n",
       "    </tr>\n",
       "  </tbody>\n",
       "</table>\n",
       "</div>"
      ],
      "text/plain": [
       "  FoodCategory             FoodItem  per100grams  Cals_per100grams  \\\n",
       "0  CannedFruit           Applesauce          100                62   \n",
       "1  CannedFruit      Canned Apricots          100                48   \n",
       "2  CannedFruit  Canned Blackberries          100                92   \n",
       "3  CannedFruit   Canned Blueberries          100                88   \n",
       "4  CannedFruit      Canned Cherries          100                54   \n",
       "\n",
       "   KJ_per100grams  \n",
       "0             260  \n",
       "1             202  \n",
       "2             386  \n",
       "3             370  \n",
       "4             227  "
      ]
     },
     "execution_count": 37,
     "metadata": {},
     "output_type": "execute_result"
    }
   ],
   "source": [
    "df.head()"
   ]
  },
  {
   "cell_type": "markdown",
   "metadata": {},
   "source": [
    "<h2 style=\"color: #4CAF50;text-align:center\">Descriptive Statistics</h2>"
   ]
  },
  {
   "cell_type": "code",
   "execution_count": 38,
   "metadata": {},
   "outputs": [
    {
     "data": {
      "text/html": [
       "<div>\n",
       "<style scoped>\n",
       "    .dataframe tbody tr th:only-of-type {\n",
       "        vertical-align: middle;\n",
       "    }\n",
       "\n",
       "    .dataframe tbody tr th {\n",
       "        vertical-align: top;\n",
       "    }\n",
       "\n",
       "    .dataframe thead th {\n",
       "        text-align: right;\n",
       "    }\n",
       "</style>\n",
       "<table border=\"1\" class=\"dataframe\">\n",
       "  <thead>\n",
       "    <tr style=\"text-align: right;\">\n",
       "      <th></th>\n",
       "      <th>per100grams</th>\n",
       "      <th>Cals_per100grams</th>\n",
       "      <th>KJ_per100grams</th>\n",
       "    </tr>\n",
       "  </thead>\n",
       "  <tbody>\n",
       "    <tr>\n",
       "      <th>count</th>\n",
       "      <td>2225.0</td>\n",
       "      <td>2225.000000</td>\n",
       "      <td>2225.000000</td>\n",
       "    </tr>\n",
       "    <tr>\n",
       "      <th>mean</th>\n",
       "      <td>100.0</td>\n",
       "      <td>236.648989</td>\n",
       "      <td>993.906966</td>\n",
       "    </tr>\n",
       "    <tr>\n",
       "      <th>std</th>\n",
       "      <td>0.0</td>\n",
       "      <td>187.021780</td>\n",
       "      <td>785.485331</td>\n",
       "    </tr>\n",
       "    <tr>\n",
       "      <th>min</th>\n",
       "      <td>100.0</td>\n",
       "      <td>0.000000</td>\n",
       "      <td>0.000000</td>\n",
       "    </tr>\n",
       "    <tr>\n",
       "      <th>25%</th>\n",
       "      <td>100.0</td>\n",
       "      <td>82.000000</td>\n",
       "      <td>344.000000</td>\n",
       "    </tr>\n",
       "    <tr>\n",
       "      <th>50%</th>\n",
       "      <td>100.0</td>\n",
       "      <td>218.000000</td>\n",
       "      <td>916.000000</td>\n",
       "    </tr>\n",
       "    <tr>\n",
       "      <th>75%</th>\n",
       "      <td>100.0</td>\n",
       "      <td>344.000000</td>\n",
       "      <td>1445.000000</td>\n",
       "    </tr>\n",
       "    <tr>\n",
       "      <th>max</th>\n",
       "      <td>100.0</td>\n",
       "      <td>1009.000000</td>\n",
       "      <td>4238.000000</td>\n",
       "    </tr>\n",
       "  </tbody>\n",
       "</table>\n",
       "</div>"
      ],
      "text/plain": [
       "       per100grams  Cals_per100grams  KJ_per100grams\n",
       "count       2225.0       2225.000000     2225.000000\n",
       "mean         100.0        236.648989      993.906966\n",
       "std            0.0        187.021780      785.485331\n",
       "min          100.0          0.000000        0.000000\n",
       "25%          100.0         82.000000      344.000000\n",
       "50%          100.0        218.000000      916.000000\n",
       "75%          100.0        344.000000     1445.000000\n",
       "max          100.0       1009.000000     4238.000000"
      ]
     },
     "execution_count": 38,
     "metadata": {},
     "output_type": "execute_result"
    }
   ],
   "source": [
    "df.describe()"
   ]
  },
  {
   "cell_type": "markdown",
   "metadata": {},
   "source": [
    "* `per100grams:` All the values are per 100 grams so minimum, maximum, and average values are same `100g`.\n",
    "* `Cals_per100grams:` The average value is `236.65` calories per 100 grams. The minimum value is `0` calories per 100 grams. The maximum value is `1009` calories per 100 grams.\n",
    "* `KJ_per100grams:` The average value is `993.91` kilojoules per 100 grams. The minimum value is `0` kilojoules per 100 grams. The maximum value is `4238` kilojoules per 100 grams."
   ]
  },
  {
   "cell_type": "markdown",
   "metadata": {},
   "source": [
    "<!-- from IPython.core.display import display, HTML\n",
    "\n",
    "html_code = \"\"\" -->\n",
    "<style>\n",
    "@keyframes colorChange {\n",
    "    0% { background-color: #ff9999; border-color: #ff6666; color: #660000; }\n",
    "    25% { background-color: #99ccff; border-color: #3399ff; color: #003366; }\n",
    "    50% { background-color: #99ff99; border-color: #33cc33; color: #006600; }\n",
    "    75% { background-color: #ffff99; border-color: #cccc33; color: #666600; }\n",
    "    100% { background-color: #ff9999; border-color: #ff6666; color: #660000; }\n",
    "}\n",
    "\n",
    ".fancy-card {\n",
    "    font-family: 'Courier New', Courier, monospace;\n",
    "    font-size: 2em;\n",
    "    padding: 20px;\n",
    "    margin: 20px;\n",
    "    border: 5px solid;\n",
    "    border-radius: 15px;\n",
    "    text-align: center;\n",
    "    animation: colorChange 10s infinite;\n",
    "}\n",
    "</style>\n",
    "<div class=\"fancy-card\">\n",
    "VISUALISATION\n",
    "</div>\n",
    "<!-- \"\"\" -->\n",
    "\n",
    "<!-- display(HTML(html_code))  -->\n"
   ]
  },
  {
   "cell_type": "markdown",
   "metadata": {},
   "source": [
    "<h2 style=\"color: #4CAF50;text-align:center\">Food Categories</h2>"
   ]
  },
  {
   "cell_type": "code",
   "execution_count": 39,
   "metadata": {},
   "outputs": [
    {
     "data": {
      "text/plain": [
       "44"
      ]
     },
     "execution_count": 39,
     "metadata": {},
     "output_type": "execute_result"
    }
   ],
   "source": [
    "df['FoodCategory'].nunique()"
   ]
  },
  {
   "cell_type": "code",
   "execution_count": 40,
   "metadata": {},
   "outputs": [
    {
     "data": {
      "application/vnd.plotly.v1+json": {
       "config": {
        "plotlyServerURL": "https://plot.ly"
       },
       "data": [
        {
         "alignmentgroup": "True",
         "bingroup": "x",
         "hovertemplate": "FoodCategory=%{x}<br>count=%{y}<extra></extra>",
         "legendgroup": "",
         "marker": {
          "color": "#00224e",
          "pattern": {
           "shape": ""
          }
         },
         "name": "",
         "offsetgroup": "",
         "orientation": "v",
         "showlegend": false,
         "type": "histogram",
         "x": [
          "CannedFruit",
          "CannedFruit",
          "CannedFruit",
          "CannedFruit",
          "CannedFruit",
          "CannedFruit",
          "CannedFruit",
          "CannedFruit",
          "CannedFruit",
          "CannedFruit",
          "CannedFruit",
          "CannedFruit",
          "CannedFruit",
          "CannedFruit",
          "CannedFruit",
          "CannedFruit",
          "CannedFruit",
          "CannedFruit",
          "CannedFruit",
          "CannedFruit",
          "CannedFruit",
          "CannedFruit",
          "CannedFruit",
          "CannedFruit",
          "CannedFruit",
          "CannedFruit",
          "CannedFruit",
          "CannedFruit",
          "CannedFruit",
          "Fruits",
          "Fruits",
          "Fruits",
          "Fruits",
          "Fruits",
          "Fruits",
          "Fruits",
          "Fruits",
          "Fruits",
          "Fruits",
          "Fruits",
          "Fruits",
          "Fruits",
          "Fruits",
          "Fruits",
          "Fruits",
          "Fruits",
          "Fruits",
          "Fruits",
          "Fruits",
          "Fruits",
          "Fruits",
          "Fruits",
          "Fruits",
          "Fruits",
          "Fruits",
          "Fruits",
          "Fruits",
          "Fruits",
          "Fruits",
          "Fruits",
          "Fruits",
          "Fruits",
          "Fruits",
          "Fruits",
          "Fruits",
          "Fruits",
          "Fruits",
          "Fruits",
          "Fruits",
          "Fruits",
          "Fruits",
          "Fruits",
          "Fruits",
          "Fruits",
          "Fruits",
          "Fruits",
          "Fruits",
          "Fruits",
          "Fruits",
          "Fruits",
          "Fruits",
          "Fruits",
          "Fruits",
          "Tropical&ExoticFruits",
          "Tropical&ExoticFruits",
          "Tropical&ExoticFruits",
          "Tropical&ExoticFruits",
          "Tropical&ExoticFruits",
          "Tropical&ExoticFruits",
          "Tropical&ExoticFruits",
          "Tropical&ExoticFruits",
          "Tropical&ExoticFruits",
          "Tropical&ExoticFruits",
          "Tropical&ExoticFruits",
          "Tropical&ExoticFruits",
          "Tropical&ExoticFruits",
          "Tropical&ExoticFruits",
          "Tropical&ExoticFruits",
          "Tropical&ExoticFruits",
          "Tropical&ExoticFruits",
          "Tropical&ExoticFruits",
          "Tropical&ExoticFruits",
          "Tropical&ExoticFruits",
          "Tropical&ExoticFruits",
          "Tropical&ExoticFruits",
          "Tropical&ExoticFruits",
          "Tropical&ExoticFruits",
          "Tropical&ExoticFruits",
          "Tropical&ExoticFruits",
          "Tropical&ExoticFruits",
          "Tropical&ExoticFruits",
          "Tropical&ExoticFruits",
          "Tropical&ExoticFruits",
          "Tropical&ExoticFruits",
          "Tropical&ExoticFruits",
          "Tropical&ExoticFruits",
          "Tropical&ExoticFruits",
          "Tropical&ExoticFruits",
          "Tropical&ExoticFruits",
          "Tropical&ExoticFruits",
          "Tropical&ExoticFruits",
          "Tropical&ExoticFruits",
          "PotatoProducts",
          "PotatoProducts",
          "PotatoProducts",
          "PotatoProducts",
          "PotatoProducts",
          "PotatoProducts",
          "PotatoProducts",
          "PotatoProducts",
          "PotatoProducts",
          "PotatoProducts",
          "PotatoProducts",
          "PotatoProducts",
          "PotatoProducts",
          "PotatoProducts",
          "PotatoProducts",
          "PotatoProducts",
          "PotatoProducts",
          "PotatoProducts",
          "PotatoProducts",
          "PotatoProducts",
          "PotatoProducts",
          "PotatoProducts",
          "PotatoProducts",
          "PotatoProducts",
          "PotatoProducts",
          "PotatoProducts",
          "PotatoProducts",
          "PotatoProducts",
          "PotatoProducts",
          "PotatoProducts",
          "PotatoProducts",
          "PotatoProducts",
          "PotatoProducts",
          "PotatoProducts",
          "PotatoProducts",
          "PotatoProducts",
          "PotatoProducts",
          "PotatoProducts",
          "PotatoProducts",
          "Vegetables",
          "Vegetables",
          "Vegetables",
          "Vegetables",
          "Vegetables",
          "Vegetables",
          "Vegetables",
          "Vegetables",
          "Vegetables",
          "Vegetables",
          "Vegetables",
          "Vegetables",
          "Vegetables",
          "Vegetables",
          "Vegetables",
          "Vegetables",
          "Vegetables",
          "Vegetables",
          "Vegetables",
          "Vegetables",
          "Vegetables",
          "Vegetables",
          "Vegetables",
          "Vegetables",
          "Vegetables",
          "Vegetables",
          "Vegetables",
          "Vegetables",
          "Vegetables",
          "Vegetables",
          "Vegetables",
          "Vegetables",
          "Vegetables",
          "Vegetables",
          "Vegetables",
          "Vegetables",
          "Vegetables",
          "Vegetables",
          "Vegetables",
          "Vegetables",
          "Vegetables",
          "Vegetables",
          "Vegetables",
          "Vegetables",
          "Vegetables",
          "Vegetables",
          "Vegetables",
          "Vegetables",
          "Vegetables",
          "Vegetables",
          "Vegetables",
          "Vegetables",
          "Vegetables",
          "Vegetables",
          "Vegetables",
          "Vegetables",
          "Vegetables",
          "Vegetables",
          "Vegetables",
          "Vegetables",
          "Vegetables",
          "Vegetables",
          "Vegetables",
          "FastFood",
          "FastFood",
          "FastFood",
          "FastFood",
          "FastFood",
          "FastFood",
          "FastFood",
          "FastFood",
          "FastFood",
          "FastFood",
          "FastFood",
          "FastFood",
          "FastFood",
          "FastFood",
          "FastFood",
          "FastFood",
          "FastFood",
          "FastFood",
          "FastFood",
          "FastFood",
          "FastFood",
          "FastFood",
          "FastFood",
          "FastFood",
          "FastFood",
          "FastFood",
          "FastFood",
          "FastFood",
          "FastFood",
          "FastFood",
          "FastFood",
          "FastFood",
          "FastFood",
          "FastFood",
          "FastFood",
          "FastFood",
          "FastFood",
          "FastFood",
          "FastFood",
          "FastFood",
          "FastFood",
          "FastFood",
          "FastFood",
          "FastFood",
          "FastFood",
          "FastFood",
          "FastFood",
          "FastFood",
          "FastFood",
          "FastFood",
          "FastFood",
          "FastFood",
          "FastFood",
          "FastFood",
          "FastFood",
          "FastFood",
          "FastFood",
          "FastFood",
          "FastFood",
          "FastFood",
          "FastFood",
          "FastFood",
          "FastFood",
          "FastFood",
          "FastFood",
          "FastFood",
          "FastFood",
          "FastFood",
          "FastFood",
          "FastFood",
          "FastFood",
          "FastFood",
          "Pizza",
          "Pizza",
          "Pizza",
          "Pizza",
          "Pizza",
          "Pizza",
          "Pizza",
          "Pizza",
          "Pizza",
          "Pizza",
          "Pizza",
          "Pizza",
          "Pizza",
          "Pizza",
          "Pizza",
          "Pizza",
          "Pizza",
          "Pizza",
          "Pizza",
          "Pizza",
          "Pizza",
          "Pizza",
          "Pizza",
          "Pizza",
          "Pizza",
          "Pizza",
          "Pizza",
          "Pizza",
          "Pizza",
          "Pizza",
          "Pizza",
          "Pizza",
          "Pizza",
          "Pizza",
          "Pizza",
          "Pizza",
          "Pizza",
          "Pizza",
          "Pizza",
          "Pizza",
          "Pizza",
          "Pizza",
          "Pizza",
          "Cheese",
          "Cheese",
          "Cheese",
          "Cheese",
          "Cheese",
          "Cheese",
          "Cheese",
          "Cheese",
          "Cheese",
          "Cheese",
          "Cheese",
          "Cheese",
          "Cheese",
          "Cheese",
          "Cheese",
          "Cheese",
          "Cheese",
          "Cheese",
          "Cheese",
          "Cheese",
          "Cheese",
          "Cheese",
          "Cheese",
          "Cheese",
          "Cheese",
          "Cheese",
          "Cheese",
          "Cheese",
          "Cheese",
          "Cheese",
          "Cheese",
          "Cheese",
          "Cheese",
          "Cheese",
          "Cheese",
          "Cheese",
          "Cheese",
          "Cheese",
          "Cheese",
          "Cheese",
          "Cheese",
          "Cheese",
          "Cheese",
          "Cheese",
          "Cheese",
          "Cheese",
          "Cheese",
          "Cheese",
          "Cheese",
          "Cheese",
          "Cheese",
          "Cheese",
          "Cheese",
          "CreamCheese",
          "CreamCheese",
          "CreamCheese",
          "CreamCheese",
          "CreamCheese",
          "CreamCheese",
          "CreamCheese",
          "CreamCheese",
          "CreamCheese",
          "CreamCheese",
          "CreamCheese",
          "CreamCheese",
          "CreamCheese",
          "CreamCheese",
          "CreamCheese",
          "CreamCheese",
          "CreamCheese",
          "Milk&DairyProducts",
          "Milk&DairyProducts",
          "Milk&DairyProducts",
          "Milk&DairyProducts",
          "Milk&DairyProducts",
          "Milk&DairyProducts",
          "Milk&DairyProducts",
          "Milk&DairyProducts",
          "Milk&DairyProducts",
          "Milk&DairyProducts",
          "Milk&DairyProducts",
          "Milk&DairyProducts",
          "Milk&DairyProducts",
          "Milk&DairyProducts",
          "Milk&DairyProducts",
          "Milk&DairyProducts",
          "Milk&DairyProducts",
          "Milk&DairyProducts",
          "Milk&DairyProducts",
          "Milk&DairyProducts",
          "Milk&DairyProducts",
          "Milk&DairyProducts",
          "Milk&DairyProducts",
          "Milk&DairyProducts",
          "Milk&DairyProducts",
          "Milk&DairyProducts",
          "Milk&DairyProducts",
          "Milk&DairyProducts",
          "Milk&DairyProducts",
          "Milk&DairyProducts",
          "Milk&DairyProducts",
          "Milk&DairyProducts",
          "Milk&DairyProducts",
          "SlicedCheese",
          "SlicedCheese",
          "SlicedCheese",
          "SlicedCheese",
          "SlicedCheese",
          "SlicedCheese",
          "SlicedCheese",
          "SlicedCheese",
          "SlicedCheese",
          "SlicedCheese",
          "SlicedCheese",
          "SlicedCheese",
          "SlicedCheese",
          "SlicedCheese",
          "SlicedCheese",
          "SlicedCheese",
          "SlicedCheese",
          "SlicedCheese",
          "SlicedCheese",
          "SlicedCheese",
          "SlicedCheese",
          "SlicedCheese",
          "SlicedCheese",
          "SlicedCheese",
          "SlicedCheese",
          "SlicedCheese",
          "SlicedCheese",
          "SlicedCheese",
          "SlicedCheese",
          "SlicedCheese",
          "SlicedCheese",
          "SlicedCheese",
          "SlicedCheese",
          "SlicedCheese",
          "Yogurt",
          "Yogurt",
          "Yogurt",
          "Yogurt",
          "Yogurt",
          "Yogurt",
          "Yogurt",
          "Yogurt",
          "Yogurt",
          "Yogurt",
          "Yogurt",
          "Yogurt",
          "Yogurt",
          "Yogurt",
          "Yogurt",
          "Yogurt",
          "Yogurt",
          "Yogurt",
          "Yogurt",
          "Yogurt",
          "Yogurt",
          "Yogurt",
          "Yogurt",
          "Yogurt",
          "Yogurt",
          "Yogurt",
          "Yogurt",
          "Yogurt",
          "Yogurt",
          "Yogurt",
          "Yogurt",
          "Yogurt",
          "Yogurt",
          "Yogurt",
          "Yogurt",
          "Yogurt",
          "Yogurt",
          "Yogurt",
          "Yogurt",
          "Yogurt",
          "Beef&Veal",
          "Beef&Veal",
          "Beef&Veal",
          "Beef&Veal",
          "Beef&Veal",
          "Beef&Veal",
          "Beef&Veal",
          "Beef&Veal",
          "Beef&Veal",
          "Beef&Veal",
          "Beef&Veal",
          "Beef&Veal",
          "Beef&Veal",
          "Beef&Veal",
          "Beef&Veal",
          "Beef&Veal",
          "Beef&Veal",
          "Beef&Veal",
          "Beef&Veal",
          "Beef&Veal",
          "Beef&Veal",
          "Beef&Veal",
          "Beef&Veal",
          "Beef&Veal",
          "Beef&Veal",
          "Beef&Veal",
          "Beef&Veal",
          "Beef&Veal",
          "Beef&Veal",
          "Beef&Veal",
          "Beef&Veal",
          "Beef&Veal",
          "Beef&Veal",
          "Beef&Veal",
          "Beef&Veal",
          "Beef&Veal",
          "Beef&Veal",
          "Beef&Veal",
          "Beef&Veal",
          "ColdCuts&LunchMeat",
          "ColdCuts&LunchMeat",
          "ColdCuts&LunchMeat",
          "ColdCuts&LunchMeat",
          "ColdCuts&LunchMeat",
          "ColdCuts&LunchMeat",
          "ColdCuts&LunchMeat",
          "ColdCuts&LunchMeat",
          "ColdCuts&LunchMeat",
          "ColdCuts&LunchMeat",
          "ColdCuts&LunchMeat",
          "ColdCuts&LunchMeat",
          "ColdCuts&LunchMeat",
          "ColdCuts&LunchMeat",
          "ColdCuts&LunchMeat",
          "ColdCuts&LunchMeat",
          "ColdCuts&LunchMeat",
          "ColdCuts&LunchMeat",
          "ColdCuts&LunchMeat",
          "ColdCuts&LunchMeat",
          "ColdCuts&LunchMeat",
          "ColdCuts&LunchMeat",
          "ColdCuts&LunchMeat",
          "ColdCuts&LunchMeat",
          "ColdCuts&LunchMeat",
          "ColdCuts&LunchMeat",
          "ColdCuts&LunchMeat",
          "ColdCuts&LunchMeat",
          "ColdCuts&LunchMeat",
          "ColdCuts&LunchMeat",
          "ColdCuts&LunchMeat",
          "ColdCuts&LunchMeat",
          "ColdCuts&LunchMeat",
          "ColdCuts&LunchMeat",
          "ColdCuts&LunchMeat",
          "Meat",
          "Meat",
          "Meat",
          "Meat",
          "Meat",
          "Meat",
          "Meat",
          "Meat",
          "Meat",
          "Meat",
          "Meat",
          "Meat",
          "Meat",
          "Meat",
          "Meat",
          "Meat",
          "Meat",
          "Meat",
          "Meat",
          "Meat",
          "Meat",
          "Meat",
          "Meat",
          "Meat",
          "Meat",
          "Meat",
          "Meat",
          "Meat",
          "Meat",
          "Meat",
          "Meat",
          "Meat",
          "Meat",
          "Meat",
          "Meat",
          "Meat",
          "Meat",
          "Meat",
          "Meat",
          "Meat",
          "Meat",
          "Meat",
          "Meat",
          "Meat",
          "Meat",
          "Meat",
          "Offal&Giblets",
          "Offal&Giblets",
          "Offal&Giblets",
          "Offal&Giblets",
          "Offal&Giblets",
          "Offal&Giblets",
          "Offal&Giblets",
          "Offal&Giblets",
          "Offal&Giblets",
          "Offal&Giblets",
          "Offal&Giblets",
          "Offal&Giblets",
          "Offal&Giblets",
          "Offal&Giblets",
          "Offal&Giblets",
          "Offal&Giblets",
          "Offal&Giblets",
          "Offal&Giblets",
          "Offal&Giblets",
          "Offal&Giblets",
          "Offal&Giblets",
          "Offal&Giblets",
          "Offal&Giblets",
          "Offal&Giblets",
          "Offal&Giblets",
          "Offal&Giblets",
          "Offal&Giblets",
          "Offal&Giblets",
          "Offal&Giblets",
          "Offal&Giblets",
          "Offal&Giblets",
          "Offal&Giblets",
          "Offal&Giblets",
          "Pork",
          "Pork",
          "Pork",
          "Pork",
          "Pork",
          "Pork",
          "Pork",
          "Pork",
          "Pork",
          "Pork",
          "Pork",
          "Pork",
          "Pork",
          "Pork",
          "Pork",
          "Pork",
          "Pork",
          "Pork",
          "Pork",
          "Pork",
          "Pork",
          "Pork",
          "Pork",
          "Pork",
          "Pork",
          "Pork",
          "Pork",
          "Pork",
          "Pork",
          "Pork",
          "Pork",
          "Pork",
          "Pork",
          "Pork",
          "Pork",
          "Pork",
          "Pork",
          "Pork",
          "Pork",
          "Poultry&Fowl",
          "Poultry&Fowl",
          "Poultry&Fowl",
          "Poultry&Fowl",
          "Poultry&Fowl",
          "Poultry&Fowl",
          "Poultry&Fowl",
          "Poultry&Fowl",
          "Poultry&Fowl",
          "Poultry&Fowl",
          "Poultry&Fowl",
          "Poultry&Fowl",
          "Poultry&Fowl",
          "Poultry&Fowl",
          "Poultry&Fowl",
          "Poultry&Fowl",
          "Poultry&Fowl",
          "Poultry&Fowl",
          "Poultry&Fowl",
          "Poultry&Fowl",
          "Poultry&Fowl",
          "Poultry&Fowl",
          "Poultry&Fowl",
          "Poultry&Fowl",
          "Poultry&Fowl",
          "Poultry&Fowl",
          "Poultry&Fowl",
          "Poultry&Fowl",
          "Poultry&Fowl",
          "Poultry&Fowl",
          "Poultry&Fowl",
          "Poultry&Fowl",
          "Poultry&Fowl",
          "Sausage",
          "Sausage",
          "Sausage",
          "Sausage",
          "Sausage",
          "Sausage",
          "Sausage",
          "Sausage",
          "Sausage",
          "Sausage",
          "Sausage",
          "Sausage",
          "Sausage",
          "Sausage",
          "Sausage",
          "Sausage",
          "Sausage",
          "Sausage",
          "Sausage",
          "Sausage",
          "Sausage",
          "Sausage",
          "Sausage",
          "Sausage",
          "Sausage",
          "Sausage",
          "Sausage",
          "Sausage",
          "Sausage",
          "Sausage",
          "Sausage",
          "Sausage",
          "Sausage",
          "Sausage",
          "Sausage",
          "Sausage",
          "Sausage",
          "Sausage",
          "Sausage",
          "Sausage",
          "Sausage",
          "Sausage",
          "Sausage",
          "Sausage",
          "Sausage",
          "Sausage",
          "Sausage",
          "Venison&Game",
          "Venison&Game",
          "Venison&Game",
          "Venison&Game",
          "Venison&Game",
          "Venison&Game",
          "Venison&Game",
          "Venison&Game",
          "Venison&Game",
          "Venison&Game",
          "Venison&Game",
          "Venison&Game",
          "Venison&Game",
          "Venison&Game",
          "Venison&Game",
          "Venison&Game",
          "Venison&Game",
          "Venison&Game",
          "Venison&Game",
          "Venison&Game",
          "Venison&Game",
          "Venison&Game",
          "Venison&Game",
          "Venison&Game",
          "Venison&Game",
          "Venison&Game",
          "Venison&Game",
          "Venison&Game",
          "Venison&Game",
          "Venison&Game",
          "Venison&Game",
          "Venison&Game",
          "Venison&Game",
          "Venison&Game",
          "Venison&Game",
          "Venison&Game",
          "Cakes&Pies",
          "Cakes&Pies",
          "Cakes&Pies",
          "Cakes&Pies",
          "Cakes&Pies",
          "Cakes&Pies",
          "Cakes&Pies",
          "Cakes&Pies",
          "Cakes&Pies",
          "Cakes&Pies",
          "Cakes&Pies",
          "Cakes&Pies",
          "Cakes&Pies",
          "Cakes&Pies",
          "Cakes&Pies",
          "Cakes&Pies",
          "Cakes&Pies",
          "Cakes&Pies",
          "Cakes&Pies",
          "Cakes&Pies",
          "Cakes&Pies",
          "Cakes&Pies",
          "Cakes&Pies",
          "Cakes&Pies",
          "Cakes&Pies",
          "Cakes&Pies",
          "Cakes&Pies",
          "Cakes&Pies",
          "Cakes&Pies",
          "Cakes&Pies",
          "Cakes&Pies",
          "Cakes&Pies",
          "Cakes&Pies",
          "Cakes&Pies",
          "Cakes&Pies",
          "Cakes&Pies",
          "Cakes&Pies",
          "Cakes&Pies",
          "Cakes&Pies",
          "Cakes&Pies",
          "Cakes&Pies",
          "Cakes&Pies",
          "Cakes&Pies",
          "Cakes&Pies",
          "Cakes&Pies",
          "Cakes&Pies",
          "Cakes&Pies",
          "Cakes&Pies",
          "Cakes&Pies",
          "Cakes&Pies",
          "Cakes&Pies",
          "Cakes&Pies",
          "Cakes&Pies",
          "Cakes&Pies",
          "Cakes&Pies",
          "Cakes&Pies",
          "Cakes&Pies",
          "Cakes&Pies",
          "Cakes&Pies",
          "Cakes&Pies",
          "Cakes&Pies",
          "Cakes&Pies",
          "Cakes&Pies",
          "Cakes&Pies",
          "Cakes&Pies",
          "Cakes&Pies",
          "Cakes&Pies",
          "Cakes&Pies",
          "Cakes&Pies",
          "Cakes&Pies",
          "Cakes&Pies",
          "Cakes&Pies",
          "Cakes&Pies",
          "Cakes&Pies",
          "Cakes&Pies",
          "Cakes&Pies",
          "Cakes&Pies",
          "Cakes&Pies",
          "Cakes&Pies",
          "Cakes&Pies",
          "Cakes&Pies",
          "Cakes&Pies",
          "Cakes&Pies",
          "Cakes&Pies",
          "Cakes&Pies",
          "Cakes&Pies",
          "Cakes&Pies",
          "Cakes&Pies",
          "Cakes&Pies",
          "Cakes&Pies",
          "Cakes&Pies",
          "Candy&Sweets",
          "Candy&Sweets",
          "Candy&Sweets",
          "Candy&Sweets",
          "Candy&Sweets",
          "Candy&Sweets",
          "Candy&Sweets",
          "Candy&Sweets",
          "Candy&Sweets",
          "Candy&Sweets",
          "Candy&Sweets",
          "Candy&Sweets",
          "Candy&Sweets",
          "Candy&Sweets",
          "Candy&Sweets",
          "Candy&Sweets",
          "Candy&Sweets",
          "Candy&Sweets",
          "Candy&Sweets",
          "Candy&Sweets",
          "Candy&Sweets",
          "Candy&Sweets",
          "Candy&Sweets",
          "Candy&Sweets",
          "Candy&Sweets",
          "Candy&Sweets",
          "Candy&Sweets",
          "Candy&Sweets",
          "Candy&Sweets",
          "Candy&Sweets",
          "Candy&Sweets",
          "Candy&Sweets",
          "Candy&Sweets",
          "Candy&Sweets",
          "Candy&Sweets",
          "Candy&Sweets",
          "Candy&Sweets",
          "Candy&Sweets",
          "Candy&Sweets",
          "Candy&Sweets",
          "Candy&Sweets",
          "Candy&Sweets",
          "Candy&Sweets",
          "Candy&Sweets",
          "Candy&Sweets",
          "Candy&Sweets",
          "Candy&Sweets",
          "Candy&Sweets",
          "Candy&Sweets",
          "Candy&Sweets",
          "Candy&Sweets",
          "Candy&Sweets",
          "Candy&Sweets",
          "Candy&Sweets",
          "Candy&Sweets",
          "Candy&Sweets",
          "Candy&Sweets",
          "Candy&Sweets",
          "Candy&Sweets",
          "Candy&Sweets",
          "Candy&Sweets",
          "Candy&Sweets",
          "Candy&Sweets",
          "Candy&Sweets",
          "Candy&Sweets",
          "Candy&Sweets",
          "Candy&Sweets",
          "Candy&Sweets",
          "Candy&Sweets",
          "Candy&Sweets",
          "Candy&Sweets",
          "Candy&Sweets",
          "Candy&Sweets",
          "Candy&Sweets",
          "Candy&Sweets",
          "Candy&Sweets",
          "Candy&Sweets",
          "Candy&Sweets",
          "Candy&Sweets",
          "Candy&Sweets",
          "Candy&Sweets",
          "IceCream",
          "IceCream",
          "IceCream",
          "IceCream",
          "IceCream",
          "IceCream",
          "IceCream",
          "IceCream",
          "IceCream",
          "IceCream",
          "IceCream",
          "IceCream",
          "IceCream",
          "IceCream",
          "IceCream",
          "IceCream",
          "IceCream",
          "IceCream",
          "IceCream",
          "IceCream",
          "IceCream",
          "IceCream",
          "IceCream",
          "IceCream",
          "IceCream",
          "IceCream",
          "IceCream",
          "IceCream",
          "IceCream",
          "IceCream",
          "IceCream",
          "IceCream",
          "IceCream",
          "IceCream",
          "IceCream",
          "IceCream",
          "IceCream",
          "IceCream",
          "IceCream",
          "IceCream",
          "IceCream",
          "IceCream",
          "IceCream",
          "IceCream",
          "IceCream",
          "(Fruit)Juices",
          "(Fruit)Juices",
          "(Fruit)Juices",
          "(Fruit)Juices",
          "(Fruit)Juices",
          "(Fruit)Juices",
          "(Fruit)Juices",
          "(Fruit)Juices",
          "(Fruit)Juices",
          "(Fruit)Juices",
          "(Fruit)Juices",
          "(Fruit)Juices",
          "(Fruit)Juices",
          "(Fruit)Juices",
          "(Fruit)Juices",
          "(Fruit)Juices",
          "(Fruit)Juices",
          "(Fruit)Juices",
          "(Fruit)Juices",
          "(Fruit)Juices",
          "(Fruit)Juices",
          "(Fruit)Juices",
          "(Fruit)Juices",
          "(Fruit)Juices",
          "(Fruit)Juices",
          "(Fruit)Juices",
          "(Fruit)Juices",
          "(Fruit)Juices",
          "(Fruit)Juices",
          "(Fruit)Juices",
          "(Fruit)Juices",
          "(Fruit)Juices",
          "(Fruit)Juices",
          "(Fruit)Juices",
          "(Fruit)Juices",
          "(Fruit)Juices",
          "(Fruit)Juices",
          "(Fruit)Juices",
          "(Fruit)Juices",
          "(Fruit)Juices",
          "(Fruit)Juices",
          "(Fruit)Juices",
          "(Fruit)Juices",
          "(Fruit)Juices",
          "(Fruit)Juices",
          "(Fruit)Juices",
          "AlcoholicDrinks&Beverages",
          "AlcoholicDrinks&Beverages",
          "AlcoholicDrinks&Beverages",
          "AlcoholicDrinks&Beverages",
          "AlcoholicDrinks&Beverages",
          "AlcoholicDrinks&Beverages",
          "AlcoholicDrinks&Beverages",
          "AlcoholicDrinks&Beverages",
          "AlcoholicDrinks&Beverages",
          "AlcoholicDrinks&Beverages",
          "AlcoholicDrinks&Beverages",
          "AlcoholicDrinks&Beverages",
          "AlcoholicDrinks&Beverages",
          "AlcoholicDrinks&Beverages",
          "AlcoholicDrinks&Beverages",
          "AlcoholicDrinks&Beverages",
          "AlcoholicDrinks&Beverages",
          "AlcoholicDrinks&Beverages",
          "AlcoholicDrinks&Beverages",
          "AlcoholicDrinks&Beverages",
          "AlcoholicDrinks&Beverages",
          "AlcoholicDrinks&Beverages",
          "AlcoholicDrinks&Beverages",
          "AlcoholicDrinks&Beverages",
          "AlcoholicDrinks&Beverages",
          "AlcoholicDrinks&Beverages",
          "AlcoholicDrinks&Beverages",
          "AlcoholicDrinks&Beverages",
          "AlcoholicDrinks&Beverages",
          "AlcoholicDrinks&Beverages",
          "AlcoholicDrinks&Beverages",
          "AlcoholicDrinks&Beverages",
          "AlcoholicDrinks&Beverages",
          "AlcoholicDrinks&Beverages",
          "AlcoholicDrinks&Beverages",
          "AlcoholicDrinks&Beverages",
          "AlcoholicDrinks&Beverages",
          "AlcoholicDrinks&Beverages",
          "AlcoholicDrinks&Beverages",
          "AlcoholicDrinks&Beverages",
          "AlcoholicDrinks&Beverages",
          "AlcoholicDrinks&Beverages",
          "AlcoholicDrinks&Beverages",
          "AlcoholicDrinks&Beverages",
          "AlcoholicDrinks&Beverages",
          "AlcoholicDrinks&Beverages",
          "AlcoholicDrinks&Beverages",
          "AlcoholicDrinks&Beverages",
          "Beer",
          "Beer",
          "Beer",
          "Beer",
          "Beer",
          "Beer",
          "Beer",
          "Beer",
          "Beer",
          "Beer",
          "Beer",
          "Beer",
          "Beer",
          "Beer",
          "Beer",
          "Beer",
          "Beer",
          "Beer",
          "Beer",
          "Beer",
          "Beer",
          "Beer",
          "Beer",
          "Beer",
          "Beer",
          "Beer",
          "Beer",
          "Beer",
          "Beer",
          "Beer",
          "Beer",
          "Beer",
          "Beer",
          "Beer",
          "Beer",
          "Beer",
          "Beer",
          "Beer",
          "Beer",
          "Beer",
          "Beer",
          "Beer",
          "Beer",
          "Beer",
          "Beer",
          "Beer",
          "Beer",
          "Beer",
          "Beer",
          "Beer",
          "Beer",
          "Beer",
          "Beer",
          "Beer",
          "Beer",
          "Beer",
          "Beer",
          "Beer",
          "Beer",
          "Beer",
          "Beer",
          "Beer",
          "Beer",
          "Beer",
          "Beer",
          "Beer",
          "Beer",
          "Beer",
          "Beer",
          "Beer",
          "Beer",
          "Beer",
          "Beer",
          "Beer",
          "Beer",
          "Beer",
          "Beer",
          "Beer",
          "Beer",
          "Beer",
          "Beer",
          "Beer",
          "Beer",
          "Beer",
          "Beer",
          "Non-AlcoholicDrinks&Beverages",
          "Non-AlcoholicDrinks&Beverages",
          "Non-AlcoholicDrinks&Beverages",
          "Non-AlcoholicDrinks&Beverages",
          "Non-AlcoholicDrinks&Beverages",
          "Non-AlcoholicDrinks&Beverages",
          "Non-AlcoholicDrinks&Beverages",
          "Non-AlcoholicDrinks&Beverages",
          "Non-AlcoholicDrinks&Beverages",
          "Non-AlcoholicDrinks&Beverages",
          "Non-AlcoholicDrinks&Beverages",
          "Non-AlcoholicDrinks&Beverages",
          "Non-AlcoholicDrinks&Beverages",
          "Non-AlcoholicDrinks&Beverages",
          "Non-AlcoholicDrinks&Beverages",
          "Non-AlcoholicDrinks&Beverages",
          "Non-AlcoholicDrinks&Beverages",
          "Non-AlcoholicDrinks&Beverages",
          "Non-AlcoholicDrinks&Beverages",
          "Non-AlcoholicDrinks&Beverages",
          "Non-AlcoholicDrinks&Beverages",
          "Non-AlcoholicDrinks&Beverages",
          "Non-AlcoholicDrinks&Beverages",
          "Non-AlcoholicDrinks&Beverages",
          "Non-AlcoholicDrinks&Beverages",
          "Non-AlcoholicDrinks&Beverages",
          "Non-AlcoholicDrinks&Beverages",
          "Non-AlcoholicDrinks&Beverages",
          "Non-AlcoholicDrinks&Beverages",
          "Non-AlcoholicDrinks&Beverages",
          "Non-AlcoholicDrinks&Beverages",
          "Non-AlcoholicDrinks&Beverages",
          "Non-AlcoholicDrinks&Beverages",
          "Non-AlcoholicDrinks&Beverages",
          "Non-AlcoholicDrinks&Beverages",
          "Non-AlcoholicDrinks&Beverages",
          "Non-AlcoholicDrinks&Beverages",
          "Non-AlcoholicDrinks&Beverages",
          "Non-AlcoholicDrinks&Beverages",
          "Non-AlcoholicDrinks&Beverages",
          "Non-AlcoholicDrinks&Beverages",
          "Non-AlcoholicDrinks&Beverages",
          "Non-AlcoholicDrinks&Beverages",
          "Non-AlcoholicDrinks&Beverages",
          "Non-AlcoholicDrinks&Beverages",
          "Non-AlcoholicDrinks&Beverages",
          "Non-AlcoholicDrinks&Beverages",
          "Non-AlcoholicDrinks&Beverages",
          "Non-AlcoholicDrinks&Beverages",
          "Non-AlcoholicDrinks&Beverages",
          "Non-AlcoholicDrinks&Beverages",
          "Soda&SoftDrinks",
          "Soda&SoftDrinks",
          "Soda&SoftDrinks",
          "Soda&SoftDrinks",
          "Soda&SoftDrinks",
          "Soda&SoftDrinks",
          "Soda&SoftDrinks",
          "Soda&SoftDrinks",
          "Soda&SoftDrinks",
          "Soda&SoftDrinks",
          "Soda&SoftDrinks",
          "Soda&SoftDrinks",
          "Soda&SoftDrinks",
          "Soda&SoftDrinks",
          "Soda&SoftDrinks",
          "Soda&SoftDrinks",
          "Soda&SoftDrinks",
          "Soda&SoftDrinks",
          "Soda&SoftDrinks",
          "Soda&SoftDrinks",
          "Soda&SoftDrinks",
          "Soda&SoftDrinks",
          "Soda&SoftDrinks",
          "Soda&SoftDrinks",
          "Soda&SoftDrinks",
          "Soda&SoftDrinks",
          "Soda&SoftDrinks",
          "Soda&SoftDrinks",
          "Soda&SoftDrinks",
          "Soda&SoftDrinks",
          "Soda&SoftDrinks",
          "Soda&SoftDrinks",
          "Soda&SoftDrinks",
          "Soda&SoftDrinks",
          "Soda&SoftDrinks",
          "Soda&SoftDrinks",
          "Soda&SoftDrinks",
          "Soda&SoftDrinks",
          "Soda&SoftDrinks",
          "Soda&SoftDrinks",
          "Soda&SoftDrinks",
          "Soda&SoftDrinks",
          "Soda&SoftDrinks",
          "Soda&SoftDrinks",
          "Soda&SoftDrinks",
          "Wine",
          "Wine",
          "Wine",
          "Wine",
          "Wine",
          "Wine",
          "Wine",
          "Wine",
          "Wine",
          "Wine",
          "Wine",
          "Wine",
          "Wine",
          "Wine",
          "Wine",
          "Wine",
          "Wine",
          "Wine",
          "Wine",
          "Wine",
          "Wine",
          "Wine",
          "Wine",
          "Wine",
          "Wine",
          "Wine",
          "Wine",
          "Wine",
          "Wine",
          "Wine",
          "Wine",
          "Wine",
          "Wine",
          "Wine",
          "Wine",
          "Wine",
          "Wine",
          "Wine",
          "Wine",
          "CerealProducts",
          "CerealProducts",
          "CerealProducts",
          "CerealProducts",
          "CerealProducts",
          "CerealProducts",
          "CerealProducts",
          "CerealProducts",
          "CerealProducts",
          "CerealProducts",
          "CerealProducts",
          "CerealProducts",
          "CerealProducts",
          "CerealProducts",
          "CerealProducts",
          "CerealProducts",
          "CerealProducts",
          "CerealProducts",
          "CerealProducts",
          "CerealProducts",
          "CerealProducts",
          "CerealProducts",
          "CerealProducts",
          "CerealProducts",
          "CerealProducts",
          "CerealProducts",
          "CerealProducts",
          "CerealProducts",
          "CerealProducts",
          "CerealProducts",
          "CerealProducts",
          "CerealProducts",
          "CerealProducts",
          "CerealProducts",
          "CerealProducts",
          "CerealProducts",
          "CerealProducts",
          "CerealProducts",
          "CerealProducts",
          "CerealProducts",
          "CerealProducts",
          "CerealProducts",
          "CerealProducts",
          "CerealProducts",
          "Oatmeal,Muesli&Cereals",
          "Oatmeal,Muesli&Cereals",
          "Oatmeal,Muesli&Cereals",
          "Oatmeal,Muesli&Cereals",
          "Oatmeal,Muesli&Cereals",
          "Oatmeal,Muesli&Cereals",
          "Oatmeal,Muesli&Cereals",
          "Oatmeal,Muesli&Cereals",
          "Oatmeal,Muesli&Cereals",
          "Oatmeal,Muesli&Cereals",
          "Oatmeal,Muesli&Cereals",
          "Oatmeal,Muesli&Cereals",
          "Oatmeal,Muesli&Cereals",
          "Oatmeal,Muesli&Cereals",
          "Oatmeal,Muesli&Cereals",
          "Oatmeal,Muesli&Cereals",
          "Oatmeal,Muesli&Cereals",
          "Oatmeal,Muesli&Cereals",
          "Oatmeal,Muesli&Cereals",
          "Oatmeal,Muesli&Cereals",
          "Oatmeal,Muesli&Cereals",
          "Oatmeal,Muesli&Cereals",
          "Oatmeal,Muesli&Cereals",
          "Oatmeal,Muesli&Cereals",
          "Oatmeal,Muesli&Cereals",
          "Oatmeal,Muesli&Cereals",
          "Oatmeal,Muesli&Cereals",
          "Oatmeal,Muesli&Cereals",
          "Oatmeal,Muesli&Cereals",
          "Oatmeal,Muesli&Cereals",
          "Oatmeal,Muesli&Cereals",
          "Oatmeal,Muesli&Cereals",
          "Oatmeal,Muesli&Cereals",
          "Oatmeal,Muesli&Cereals",
          "Oatmeal,Muesli&Cereals",
          "Oatmeal,Muesli&Cereals",
          "Oatmeal,Muesli&Cereals",
          "Oatmeal,Muesli&Cereals",
          "Oatmeal,Muesli&Cereals",
          "Oatmeal,Muesli&Cereals",
          "Oatmeal,Muesli&Cereals",
          "Oatmeal,Muesli&Cereals",
          "Oatmeal,Muesli&Cereals",
          "Oatmeal,Muesli&Cereals",
          "Oatmeal,Muesli&Cereals",
          "Oatmeal,Muesli&Cereals",
          "Oatmeal,Muesli&Cereals",
          "Oatmeal,Muesli&Cereals",
          "Oatmeal,Muesli&Cereals",
          "Oatmeal,Muesli&Cereals",
          "Oatmeal,Muesli&Cereals",
          "Oatmeal,Muesli&Cereals",
          "Oatmeal,Muesli&Cereals",
          "Oatmeal,Muesli&Cereals",
          "Oatmeal,Muesli&Cereals",
          "Oatmeal,Muesli&Cereals",
          "Oatmeal,Muesli&Cereals",
          "Oatmeal,Muesli&Cereals",
          "Oatmeal,Muesli&Cereals",
          "Oatmeal,Muesli&Cereals",
          "Oatmeal,Muesli&Cereals",
          "Oatmeal,Muesli&Cereals",
          "Oatmeal,Muesli&Cereals",
          "Oatmeal,Muesli&Cereals",
          "Oatmeal,Muesli&Cereals",
          "Oatmeal,Muesli&Cereals",
          "Oatmeal,Muesli&Cereals",
          "Oatmeal,Muesli&Cereals",
          "Oatmeal,Muesli&Cereals",
          "Oatmeal,Muesli&Cereals",
          "Oatmeal,Muesli&Cereals",
          "Oatmeal,Muesli&Cereals",
          "Oatmeal,Muesli&Cereals",
          "Oatmeal,Muesli&Cereals",
          "Oatmeal,Muesli&Cereals",
          "Oatmeal,Muesli&Cereals",
          "Pasta&Noodles",
          "Pasta&Noodles",
          "Pasta&Noodles",
          "Pasta&Noodles",
          "Pasta&Noodles",
          "Pasta&Noodles",
          "Pasta&Noodles",
          "Pasta&Noodles",
          "Pasta&Noodles",
          "Pasta&Noodles",
          "Pasta&Noodles",
          "Pasta&Noodles",
          "Pasta&Noodles",
          "Pasta&Noodles",
          "Pasta&Noodles",
          "Pasta&Noodles",
          "Pasta&Noodles",
          "Pasta&Noodles",
          "Pasta&Noodles",
          "Pasta&Noodles",
          "Pasta&Noodles",
          "Pasta&Noodles",
          "Pasta&Noodles",
          "Pasta&Noodles",
          "Pasta&Noodles",
          "Pasta&Noodles",
          "Pasta&Noodles",
          "Pasta&Noodles",
          "Pasta&Noodles",
          "Pasta&Noodles",
          "Pasta&Noodles",
          "Pasta&Noodles",
          "Pasta&Noodles",
          "Pasta&Noodles",
          "Pasta&Noodles",
          "Pasta&Noodles",
          "Pasta&Noodles",
          "Pasta&Noodles",
          "Pasta&Noodles",
          "Pasta&Noodles",
          "Dishes&Meals",
          "Dishes&Meals",
          "Dishes&Meals",
          "Dishes&Meals",
          "Dishes&Meals",
          "Dishes&Meals",
          "Dishes&Meals",
          "Dishes&Meals",
          "Dishes&Meals",
          "Dishes&Meals",
          "Dishes&Meals",
          "Dishes&Meals",
          "Dishes&Meals",
          "Dishes&Meals",
          "Dishes&Meals",
          "Dishes&Meals",
          "Dishes&Meals",
          "Dishes&Meals",
          "Dishes&Meals",
          "Dishes&Meals",
          "Dishes&Meals",
          "Dishes&Meals",
          "Dishes&Meals",
          "Dishes&Meals",
          "Dishes&Meals",
          "Dishes&Meals",
          "Dishes&Meals",
          "Dishes&Meals",
          "Dishes&Meals",
          "Dishes&Meals",
          "Dishes&Meals",
          "Dishes&Meals",
          "Dishes&Meals",
          "Dishes&Meals",
          "Dishes&Meals",
          "Dishes&Meals",
          "Dishes&Meals",
          "Dishes&Meals",
          "Dishes&Meals",
          "Dishes&Meals",
          "Dishes&Meals",
          "Dishes&Meals",
          "Dishes&Meals",
          "Dishes&Meals",
          "Dishes&Meals",
          "Dishes&Meals",
          "Dishes&Meals",
          "Dishes&Meals",
          "Dishes&Meals",
          "Dishes&Meals",
          "Dishes&Meals",
          "Dishes&Meals",
          "Dishes&Meals",
          "Dishes&Meals",
          "Dishes&Meals",
          "Dishes&Meals",
          "Dishes&Meals",
          "Dishes&Meals",
          "Dishes&Meals",
          "Dishes&Meals",
          "Dishes&Meals",
          "Dishes&Meals",
          "Dishes&Meals",
          "Dishes&Meals",
          "Dishes&Meals",
          "Dishes&Meals",
          "Dishes&Meals",
          "Dishes&Meals",
          "Dishes&Meals",
          "Dishes&Meals",
          "Dishes&Meals",
          "Dishes&Meals",
          "Dishes&Meals",
          "Dishes&Meals",
          "Dishes&Meals",
          "Dishes&Meals",
          "Dishes&Meals",
          "Dishes&Meals",
          "Soups",
          "Soups",
          "Soups",
          "Soups",
          "Soups",
          "Soups",
          "Soups",
          "Soups",
          "Soups",
          "Soups",
          "Soups",
          "Soups",
          "Soups",
          "Soups",
          "Soups",
          "Soups",
          "Soups",
          "Soups",
          "Soups",
          "Soups",
          "Soups",
          "Soups",
          "Soups",
          "Soups",
          "Soups",
          "Soups",
          "Soups",
          "Soups",
          "Soups",
          "Soups",
          "Soups",
          "Soups",
          "Soups",
          "Soups",
          "Soups",
          "Soups",
          "Soups",
          "Soups",
          "Soups",
          "Soups",
          "Soups",
          "Soups",
          "Soups",
          "Soups",
          "Soups",
          "Soups",
          "Soups",
          "Soups",
          "Soups",
          "Soups",
          "Soups",
          "Soups",
          "Legumes",
          "Legumes",
          "Legumes",
          "Legumes",
          "Legumes",
          "Legumes",
          "Legumes",
          "Legumes",
          "Legumes",
          "Legumes",
          "Legumes",
          "Legumes",
          "Legumes",
          "Legumes",
          "Legumes",
          "Legumes",
          "Legumes",
          "Legumes",
          "Legumes",
          "Legumes",
          "Legumes",
          "Legumes",
          "Legumes",
          "Legumes",
          "Legumes",
          "Legumes",
          "Legumes",
          "Legumes",
          "Legumes",
          "Legumes",
          "Legumes",
          "Legumes",
          "Legumes",
          "Legumes",
          "Legumes",
          "Legumes",
          "Legumes",
          "Legumes",
          "Legumes",
          "Legumes",
          "Legumes",
          "Legumes",
          "Legumes",
          "Legumes",
          "Legumes",
          "Legumes",
          "Legumes",
          "Legumes",
          "Legumes",
          "Legumes",
          "Legumes",
          "Legumes",
          "Legumes",
          "Legumes",
          "Legumes",
          "Legumes",
          "Legumes",
          "Legumes",
          "Legumes",
          "Legumes",
          "Legumes",
          "Legumes",
          "Nuts&Seeds",
          "Nuts&Seeds",
          "Nuts&Seeds",
          "Nuts&Seeds",
          "Nuts&Seeds",
          "Nuts&Seeds",
          "Nuts&Seeds",
          "Nuts&Seeds",
          "Nuts&Seeds",
          "Nuts&Seeds",
          "Nuts&Seeds",
          "Nuts&Seeds",
          "Nuts&Seeds",
          "Nuts&Seeds",
          "Nuts&Seeds",
          "Nuts&Seeds",
          "Nuts&Seeds",
          "Nuts&Seeds",
          "Nuts&Seeds",
          "Nuts&Seeds",
          "Nuts&Seeds",
          "Nuts&Seeds",
          "Nuts&Seeds",
          "Nuts&Seeds",
          "Nuts&Seeds",
          "Nuts&Seeds",
          "Nuts&Seeds",
          "Nuts&Seeds",
          "Nuts&Seeds",
          "Nuts&Seeds",
          "Nuts&Seeds",
          "Nuts&Seeds",
          "Nuts&Seeds",
          "Nuts&Seeds",
          "Nuts&Seeds",
          "Nuts&Seeds",
          "Nuts&Seeds",
          "Nuts&Seeds",
          "Nuts&Seeds",
          "Oils&Fats",
          "Oils&Fats",
          "Oils&Fats",
          "Oils&Fats",
          "Oils&Fats",
          "Oils&Fats",
          "Oils&Fats",
          "Oils&Fats",
          "Oils&Fats",
          "Oils&Fats",
          "Oils&Fats",
          "Oils&Fats",
          "Oils&Fats",
          "Oils&Fats",
          "Oils&Fats",
          "Oils&Fats",
          "Oils&Fats",
          "Oils&Fats",
          "Oils&Fats",
          "Oils&Fats",
          "Oils&Fats",
          "Oils&Fats",
          "Oils&Fats",
          "Oils&Fats",
          "Oils&Fats",
          "Oils&Fats",
          "Oils&Fats",
          "Oils&Fats",
          "Oils&Fats",
          "Oils&Fats",
          "VegetableOils",
          "VegetableOils",
          "VegetableOils",
          "VegetableOils",
          "VegetableOils",
          "VegetableOils",
          "VegetableOils",
          "VegetableOils",
          "VegetableOils",
          "VegetableOils",
          "VegetableOils",
          "VegetableOils",
          "VegetableOils",
          "VegetableOils",
          "VegetableOils",
          "VegetableOils",
          "VegetableOils",
          "VegetableOils",
          "VegetableOils",
          "VegetableOils",
          "VegetableOils",
          "VegetableOils",
          "VegetableOils",
          "VegetableOils",
          "VegetableOils",
          "VegetableOils",
          "VegetableOils",
          "VegetableOils",
          "VegetableOils",
          "VegetableOils",
          "VegetableOils",
          "VegetableOils",
          "VegetableOils",
          "BakingIngredients",
          "BakingIngredients",
          "BakingIngredients",
          "BakingIngredients",
          "BakingIngredients",
          "BakingIngredients",
          "BakingIngredients",
          "BakingIngredients",
          "BakingIngredients",
          "BakingIngredients",
          "BakingIngredients",
          "BakingIngredients",
          "BakingIngredients",
          "BakingIngredients",
          "BakingIngredients",
          "BakingIngredients",
          "BakingIngredients",
          "BakingIngredients",
          "BakingIngredients",
          "BakingIngredients",
          "BakingIngredients",
          "BakingIngredients",
          "BakingIngredients",
          "BakingIngredients",
          "BakingIngredients",
          "BakingIngredients",
          "BakingIngredients",
          "BakingIngredients",
          "BakingIngredients",
          "BakingIngredients",
          "BakingIngredients",
          "BakingIngredients",
          "BakingIngredients",
          "BakingIngredients",
          "BakingIngredients",
          "BakingIngredients",
          "BakingIngredients",
          "BakingIngredients",
          "BakingIngredients",
          "BakingIngredients",
          "BakingIngredients",
          "BakingIngredients",
          "BakingIngredients",
          "BakingIngredients",
          "BakingIngredients",
          "BakingIngredients",
          "BakingIngredients",
          "BakingIngredients",
          "BakingIngredients",
          "BakingIngredients",
          "BakingIngredients",
          "BakingIngredients",
          "BakingIngredients",
          "BakingIngredients",
          "BakingIngredients",
          "BakingIngredients",
          "BakingIngredients",
          "BakingIngredients",
          "BakingIngredients",
          "BakingIngredients",
          "BakingIngredients",
          "BakingIngredients",
          "BakingIngredients",
          "BakingIngredients",
          "BakingIngredients",
          "BakingIngredients",
          "BakingIngredients",
          "BakingIngredients",
          "BakingIngredients",
          "BakingIngredients",
          "BakingIngredients",
          "BakingIngredients",
          "BakingIngredients",
          "BakingIngredients",
          "BakingIngredients",
          "BakingIngredients",
          "BakingIngredients",
          "BakingIngredients",
          "BakingIngredients",
          "BakingIngredients",
          "BakingIngredients",
          "BakingIngredients",
          "BakingIngredients",
          "BakingIngredients",
          "BakingIngredients",
          "BakingIngredients",
          "BakingIngredients",
          "BakingIngredients",
          "BakingIngredients",
          "BakingIngredients",
          "BakingIngredients",
          "BakingIngredients",
          "BakingIngredients",
          "BakingIngredients",
          "BakingIngredients",
          "Fish&Seafood",
          "Fish&Seafood",
          "Fish&Seafood",
          "Fish&Seafood",
          "Fish&Seafood",
          "Fish&Seafood",
          "Fish&Seafood",
          "Fish&Seafood",
          "Fish&Seafood",
          "Fish&Seafood",
          "Fish&Seafood",
          "Fish&Seafood",
          "Fish&Seafood",
          "Fish&Seafood",
          "Fish&Seafood",
          "Fish&Seafood",
          "Fish&Seafood",
          "Fish&Seafood",
          "Fish&Seafood",
          "Fish&Seafood",
          "Fish&Seafood",
          "Fish&Seafood",
          "Fish&Seafood",
          "Fish&Seafood",
          "Fish&Seafood",
          "Fish&Seafood",
          "Fish&Seafood",
          "Fish&Seafood",
          "Fish&Seafood",
          "Fish&Seafood",
          "Fish&Seafood",
          "Fish&Seafood",
          "Fish&Seafood",
          "Fish&Seafood",
          "Fish&Seafood",
          "Fish&Seafood",
          "Fish&Seafood",
          "Fish&Seafood",
          "Fish&Seafood",
          "Fish&Seafood",
          "Fish&Seafood",
          "Fish&Seafood",
          "Fish&Seafood",
          "Fish&Seafood",
          "Fish&Seafood",
          "Fish&Seafood",
          "Fish&Seafood",
          "Fish&Seafood",
          "Fish&Seafood",
          "Fish&Seafood",
          "Fish&Seafood",
          "Fish&Seafood",
          "Fish&Seafood",
          "Fish&Seafood",
          "Fish&Seafood",
          "Fish&Seafood",
          "Fish&Seafood",
          "Fish&Seafood",
          "Fish&Seafood",
          "Fish&Seafood",
          "Herbs&Spices",
          "Herbs&Spices",
          "Herbs&Spices",
          "Herbs&Spices",
          "Herbs&Spices",
          "Herbs&Spices",
          "Herbs&Spices",
          "Herbs&Spices",
          "Herbs&Spices",
          "Herbs&Spices",
          "Herbs&Spices",
          "Herbs&Spices",
          "Herbs&Spices",
          "Herbs&Spices",
          "Herbs&Spices",
          "Herbs&Spices",
          "Herbs&Spices",
          "Herbs&Spices",
          "Herbs&Spices",
          "Herbs&Spices",
          "Herbs&Spices",
          "Herbs&Spices",
          "Herbs&Spices",
          "Herbs&Spices",
          "Herbs&Spices",
          "Herbs&Spices",
          "Herbs&Spices",
          "Herbs&Spices",
          "Herbs&Spices",
          "Herbs&Spices",
          "Herbs&Spices",
          "Herbs&Spices",
          "Herbs&Spices",
          "Herbs&Spices",
          "Herbs&Spices",
          "Herbs&Spices",
          "Herbs&Spices",
          "Herbs&Spices",
          "Herbs&Spices",
          "Herbs&Spices",
          "Herbs&Spices",
          "Herbs&Spices",
          "Herbs&Spices",
          "Herbs&Spices",
          "Herbs&Spices",
          "Herbs&Spices",
          "Herbs&Spices",
          "Herbs&Spices",
          "Herbs&Spices",
          "Herbs&Spices",
          "Herbs&Spices",
          "Herbs&Spices",
          "Herbs&Spices",
          "Herbs&Spices",
          "Herbs&Spices",
          "Herbs&Spices",
          "Herbs&Spices",
          "Herbs&Spices",
          "Herbs&Spices",
          "Herbs&Spices",
          "Herbs&Spices",
          "Herbs&Spices",
          "Herbs&Spices",
          "Herbs&Spices",
          "Herbs&Spices",
          "Herbs&Spices",
          "Herbs&Spices",
          "Herbs&Spices",
          "Herbs&Spices",
          "Herbs&Spices",
          "Herbs&Spices",
          "Herbs&Spices",
          "Herbs&Spices",
          "Herbs&Spices",
          "Herbs&Spices",
          "Herbs&Spices",
          "Herbs&Spices",
          "Herbs&Spices",
          "Herbs&Spices",
          "Herbs&Spices",
          "Herbs&Spices",
          "Herbs&Spices",
          "Herbs&Spices",
          "Herbs&Spices",
          "Herbs&Spices",
          "Herbs&Spices",
          "Herbs&Spices",
          "Herbs&Spices",
          "Herbs&Spices",
          "Herbs&Spices",
          "Pastries,Breads&Rolls",
          "Pastries,Breads&Rolls",
          "Pastries,Breads&Rolls",
          "Pastries,Breads&Rolls",
          "Pastries,Breads&Rolls",
          "Pastries,Breads&Rolls",
          "Pastries,Breads&Rolls",
          "Pastries,Breads&Rolls",
          "Pastries,Breads&Rolls",
          "Pastries,Breads&Rolls",
          "Pastries,Breads&Rolls",
          "Pastries,Breads&Rolls",
          "Pastries,Breads&Rolls",
          "Pastries,Breads&Rolls",
          "Pastries,Breads&Rolls",
          "Pastries,Breads&Rolls",
          "Pastries,Breads&Rolls",
          "Pastries,Breads&Rolls",
          "Pastries,Breads&Rolls",
          "Pastries,Breads&Rolls",
          "Pastries,Breads&Rolls",
          "Pastries,Breads&Rolls",
          "Pastries,Breads&Rolls",
          "Pastries,Breads&Rolls",
          "Pastries,Breads&Rolls",
          "Pastries,Breads&Rolls",
          "Pastries,Breads&Rolls",
          "Pastries,Breads&Rolls",
          "Pastries,Breads&Rolls",
          "Pastries,Breads&Rolls",
          "Pastries,Breads&Rolls",
          "Pastries,Breads&Rolls",
          "Pastries,Breads&Rolls",
          "Pastries,Breads&Rolls",
          "Pastries,Breads&Rolls",
          "Pastries,Breads&Rolls",
          "Pastries,Breads&Rolls",
          "Pastries,Breads&Rolls",
          "Pastries,Breads&Rolls",
          "Pastries,Breads&Rolls",
          "Pastries,Breads&Rolls",
          "Pastries,Breads&Rolls",
          "Pastries,Breads&Rolls",
          "Pastries,Breads&Rolls",
          "Pastries,Breads&Rolls",
          "Pastries,Breads&Rolls",
          "Pastries,Breads&Rolls",
          "Pastries,Breads&Rolls",
          "Pastries,Breads&Rolls",
          "Pastries,Breads&Rolls",
          "Pastries,Breads&Rolls",
          "Pastries,Breads&Rolls",
          "Pastries,Breads&Rolls",
          "Pastries,Breads&Rolls",
          "Pastries,Breads&Rolls",
          "Pastries,Breads&Rolls",
          "Pastries,Breads&Rolls",
          "Pastries,Breads&Rolls",
          "Pastries,Breads&Rolls",
          "Pastries,Breads&Rolls",
          "Pastries,Breads&Rolls",
          "Pastries,Breads&Rolls",
          "Pastries,Breads&Rolls",
          "Pastries,Breads&Rolls",
          "Pastries,Breads&Rolls",
          "Pastries,Breads&Rolls",
          "Pastries,Breads&Rolls",
          "Pastries,Breads&Rolls",
          "Pastries,Breads&Rolls",
          "Pastries,Breads&Rolls",
          "Pastries,Breads&Rolls",
          "Pastries,Breads&Rolls",
          "Pastries,Breads&Rolls",
          "Pastries,Breads&Rolls",
          "Pastries,Breads&Rolls",
          "Pastries,Breads&Rolls",
          "Pastries,Breads&Rolls",
          "Pastries,Breads&Rolls",
          "Sauces&Dressings",
          "Sauces&Dressings",
          "Sauces&Dressings",
          "Sauces&Dressings",
          "Sauces&Dressings",
          "Sauces&Dressings",
          "Sauces&Dressings",
          "Sauces&Dressings",
          "Sauces&Dressings",
          "Sauces&Dressings",
          "Sauces&Dressings",
          "Sauces&Dressings",
          "Sauces&Dressings",
          "Sauces&Dressings",
          "Sauces&Dressings",
          "Sauces&Dressings",
          "Sauces&Dressings",
          "Sauces&Dressings",
          "Sauces&Dressings",
          "Sauces&Dressings",
          "Sauces&Dressings",
          "Sauces&Dressings",
          "Sauces&Dressings",
          "Sauces&Dressings",
          "Sauces&Dressings",
          "Sauces&Dressings",
          "Sauces&Dressings",
          "Sauces&Dressings",
          "Sauces&Dressings",
          "Sauces&Dressings",
          "Sauces&Dressings",
          "Sauces&Dressings",
          "Sauces&Dressings",
          "Sauces&Dressings",
          "Sauces&Dressings",
          "Sauces&Dressings",
          "Sauces&Dressings",
          "Sauces&Dressings",
          "Sauces&Dressings",
          "Sauces&Dressings",
          "Sauces&Dressings",
          "Sauces&Dressings",
          "Sauces&Dressings",
          "Sauces&Dressings",
          "Sauces&Dressings",
          "Sauces&Dressings",
          "Sauces&Dressings",
          "Sauces&Dressings",
          "Sauces&Dressings",
          "Sauces&Dressings",
          "Sauces&Dressings",
          "Sauces&Dressings",
          "Sauces&Dressings",
          "Sauces&Dressings",
          "Spreads",
          "Spreads",
          "Spreads",
          "Spreads",
          "Spreads",
          "Spreads",
          "Spreads",
          "Spreads",
          "Spreads",
          "Spreads",
          "Spreads",
          "Spreads",
          "Spreads",
          "Spreads",
          "Spreads",
          "Spreads",
          "Spreads",
          "Spreads",
          "Spreads",
          "Spreads",
          "Spreads",
          "Spreads",
          "Spreads",
          "Spreads",
          "Spreads",
          "Spreads",
          "Spreads",
          "Spreads",
          "Spreads",
          "Spreads",
          "Spreads",
          "Spreads",
          "Spreads",
          "Spreads",
          "Spreads",
          "Spreads",
          "Spreads",
          "Spreads",
          "Spreads"
         ],
         "xaxis": "x",
         "yaxis": "y"
        }
       ],
       "layout": {
        "barmode": "relative",
        "legend": {
         "tracegroupgap": 0
        },
        "template": {
         "data": {
          "bar": [
           {
            "error_x": {
             "color": "#2a3f5f"
            },
            "error_y": {
             "color": "#2a3f5f"
            },
            "marker": {
             "line": {
              "color": "#E5ECF6",
              "width": 0.5
             },
             "pattern": {
              "fillmode": "overlay",
              "size": 10,
              "solidity": 0.2
             }
            },
            "type": "bar"
           }
          ],
          "barpolar": [
           {
            "marker": {
             "line": {
              "color": "#E5ECF6",
              "width": 0.5
             },
             "pattern": {
              "fillmode": "overlay",
              "size": 10,
              "solidity": 0.2
             }
            },
            "type": "barpolar"
           }
          ],
          "carpet": [
           {
            "aaxis": {
             "endlinecolor": "#2a3f5f",
             "gridcolor": "white",
             "linecolor": "white",
             "minorgridcolor": "white",
             "startlinecolor": "#2a3f5f"
            },
            "baxis": {
             "endlinecolor": "#2a3f5f",
             "gridcolor": "white",
             "linecolor": "white",
             "minorgridcolor": "white",
             "startlinecolor": "#2a3f5f"
            },
            "type": "carpet"
           }
          ],
          "choropleth": [
           {
            "colorbar": {
             "outlinewidth": 0,
             "ticks": ""
            },
            "type": "choropleth"
           }
          ],
          "contour": [
           {
            "colorbar": {
             "outlinewidth": 0,
             "ticks": ""
            },
            "colorscale": [
             [
              0,
              "#0d0887"
             ],
             [
              0.1111111111111111,
              "#46039f"
             ],
             [
              0.2222222222222222,
              "#7201a8"
             ],
             [
              0.3333333333333333,
              "#9c179e"
             ],
             [
              0.4444444444444444,
              "#bd3786"
             ],
             [
              0.5555555555555556,
              "#d8576b"
             ],
             [
              0.6666666666666666,
              "#ed7953"
             ],
             [
              0.7777777777777778,
              "#fb9f3a"
             ],
             [
              0.8888888888888888,
              "#fdca26"
             ],
             [
              1,
              "#f0f921"
             ]
            ],
            "type": "contour"
           }
          ],
          "contourcarpet": [
           {
            "colorbar": {
             "outlinewidth": 0,
             "ticks": ""
            },
            "type": "contourcarpet"
           }
          ],
          "heatmap": [
           {
            "colorbar": {
             "outlinewidth": 0,
             "ticks": ""
            },
            "colorscale": [
             [
              0,
              "#0d0887"
             ],
             [
              0.1111111111111111,
              "#46039f"
             ],
             [
              0.2222222222222222,
              "#7201a8"
             ],
             [
              0.3333333333333333,
              "#9c179e"
             ],
             [
              0.4444444444444444,
              "#bd3786"
             ],
             [
              0.5555555555555556,
              "#d8576b"
             ],
             [
              0.6666666666666666,
              "#ed7953"
             ],
             [
              0.7777777777777778,
              "#fb9f3a"
             ],
             [
              0.8888888888888888,
              "#fdca26"
             ],
             [
              1,
              "#f0f921"
             ]
            ],
            "type": "heatmap"
           }
          ],
          "heatmapgl": [
           {
            "colorbar": {
             "outlinewidth": 0,
             "ticks": ""
            },
            "colorscale": [
             [
              0,
              "#0d0887"
             ],
             [
              0.1111111111111111,
              "#46039f"
             ],
             [
              0.2222222222222222,
              "#7201a8"
             ],
             [
              0.3333333333333333,
              "#9c179e"
             ],
             [
              0.4444444444444444,
              "#bd3786"
             ],
             [
              0.5555555555555556,
              "#d8576b"
             ],
             [
              0.6666666666666666,
              "#ed7953"
             ],
             [
              0.7777777777777778,
              "#fb9f3a"
             ],
             [
              0.8888888888888888,
              "#fdca26"
             ],
             [
              1,
              "#f0f921"
             ]
            ],
            "type": "heatmapgl"
           }
          ],
          "histogram": [
           {
            "marker": {
             "pattern": {
              "fillmode": "overlay",
              "size": 10,
              "solidity": 0.2
             }
            },
            "type": "histogram"
           }
          ],
          "histogram2d": [
           {
            "colorbar": {
             "outlinewidth": 0,
             "ticks": ""
            },
            "colorscale": [
             [
              0,
              "#0d0887"
             ],
             [
              0.1111111111111111,
              "#46039f"
             ],
             [
              0.2222222222222222,
              "#7201a8"
             ],
             [
              0.3333333333333333,
              "#9c179e"
             ],
             [
              0.4444444444444444,
              "#bd3786"
             ],
             [
              0.5555555555555556,
              "#d8576b"
             ],
             [
              0.6666666666666666,
              "#ed7953"
             ],
             [
              0.7777777777777778,
              "#fb9f3a"
             ],
             [
              0.8888888888888888,
              "#fdca26"
             ],
             [
              1,
              "#f0f921"
             ]
            ],
            "type": "histogram2d"
           }
          ],
          "histogram2dcontour": [
           {
            "colorbar": {
             "outlinewidth": 0,
             "ticks": ""
            },
            "colorscale": [
             [
              0,
              "#0d0887"
             ],
             [
              0.1111111111111111,
              "#46039f"
             ],
             [
              0.2222222222222222,
              "#7201a8"
             ],
             [
              0.3333333333333333,
              "#9c179e"
             ],
             [
              0.4444444444444444,
              "#bd3786"
             ],
             [
              0.5555555555555556,
              "#d8576b"
             ],
             [
              0.6666666666666666,
              "#ed7953"
             ],
             [
              0.7777777777777778,
              "#fb9f3a"
             ],
             [
              0.8888888888888888,
              "#fdca26"
             ],
             [
              1,
              "#f0f921"
             ]
            ],
            "type": "histogram2dcontour"
           }
          ],
          "mesh3d": [
           {
            "colorbar": {
             "outlinewidth": 0,
             "ticks": ""
            },
            "type": "mesh3d"
           }
          ],
          "parcoords": [
           {
            "line": {
             "colorbar": {
              "outlinewidth": 0,
              "ticks": ""
             }
            },
            "type": "parcoords"
           }
          ],
          "pie": [
           {
            "automargin": true,
            "type": "pie"
           }
          ],
          "scatter": [
           {
            "fillpattern": {
             "fillmode": "overlay",
             "size": 10,
             "solidity": 0.2
            },
            "type": "scatter"
           }
          ],
          "scatter3d": [
           {
            "line": {
             "colorbar": {
              "outlinewidth": 0,
              "ticks": ""
             }
            },
            "marker": {
             "colorbar": {
              "outlinewidth": 0,
              "ticks": ""
             }
            },
            "type": "scatter3d"
           }
          ],
          "scattercarpet": [
           {
            "marker": {
             "colorbar": {
              "outlinewidth": 0,
              "ticks": ""
             }
            },
            "type": "scattercarpet"
           }
          ],
          "scattergeo": [
           {
            "marker": {
             "colorbar": {
              "outlinewidth": 0,
              "ticks": ""
             }
            },
            "type": "scattergeo"
           }
          ],
          "scattergl": [
           {
            "marker": {
             "colorbar": {
              "outlinewidth": 0,
              "ticks": ""
             }
            },
            "type": "scattergl"
           }
          ],
          "scattermapbox": [
           {
            "marker": {
             "colorbar": {
              "outlinewidth": 0,
              "ticks": ""
             }
            },
            "type": "scattermapbox"
           }
          ],
          "scatterpolar": [
           {
            "marker": {
             "colorbar": {
              "outlinewidth": 0,
              "ticks": ""
             }
            },
            "type": "scatterpolar"
           }
          ],
          "scatterpolargl": [
           {
            "marker": {
             "colorbar": {
              "outlinewidth": 0,
              "ticks": ""
             }
            },
            "type": "scatterpolargl"
           }
          ],
          "scatterternary": [
           {
            "marker": {
             "colorbar": {
              "outlinewidth": 0,
              "ticks": ""
             }
            },
            "type": "scatterternary"
           }
          ],
          "surface": [
           {
            "colorbar": {
             "outlinewidth": 0,
             "ticks": ""
            },
            "colorscale": [
             [
              0,
              "#0d0887"
             ],
             [
              0.1111111111111111,
              "#46039f"
             ],
             [
              0.2222222222222222,
              "#7201a8"
             ],
             [
              0.3333333333333333,
              "#9c179e"
             ],
             [
              0.4444444444444444,
              "#bd3786"
             ],
             [
              0.5555555555555556,
              "#d8576b"
             ],
             [
              0.6666666666666666,
              "#ed7953"
             ],
             [
              0.7777777777777778,
              "#fb9f3a"
             ],
             [
              0.8888888888888888,
              "#fdca26"
             ],
             [
              1,
              "#f0f921"
             ]
            ],
            "type": "surface"
           }
          ],
          "table": [
           {
            "cells": {
             "fill": {
              "color": "#EBF0F8"
             },
             "line": {
              "color": "white"
             }
            },
            "header": {
             "fill": {
              "color": "#C8D4E3"
             },
             "line": {
              "color": "white"
             }
            },
            "type": "table"
           }
          ]
         },
         "layout": {
          "annotationdefaults": {
           "arrowcolor": "#2a3f5f",
           "arrowhead": 0,
           "arrowwidth": 1
          },
          "autotypenumbers": "strict",
          "coloraxis": {
           "colorbar": {
            "outlinewidth": 0,
            "ticks": ""
           }
          },
          "colorscale": {
           "diverging": [
            [
             0,
             "#8e0152"
            ],
            [
             0.1,
             "#c51b7d"
            ],
            [
             0.2,
             "#de77ae"
            ],
            [
             0.3,
             "#f1b6da"
            ],
            [
             0.4,
             "#fde0ef"
            ],
            [
             0.5,
             "#f7f7f7"
            ],
            [
             0.6,
             "#e6f5d0"
            ],
            [
             0.7,
             "#b8e186"
            ],
            [
             0.8,
             "#7fbc41"
            ],
            [
             0.9,
             "#4d9221"
            ],
            [
             1,
             "#276419"
            ]
           ],
           "sequential": [
            [
             0,
             "#0d0887"
            ],
            [
             0.1111111111111111,
             "#46039f"
            ],
            [
             0.2222222222222222,
             "#7201a8"
            ],
            [
             0.3333333333333333,
             "#9c179e"
            ],
            [
             0.4444444444444444,
             "#bd3786"
            ],
            [
             0.5555555555555556,
             "#d8576b"
            ],
            [
             0.6666666666666666,
             "#ed7953"
            ],
            [
             0.7777777777777778,
             "#fb9f3a"
            ],
            [
             0.8888888888888888,
             "#fdca26"
            ],
            [
             1,
             "#f0f921"
            ]
           ],
           "sequentialminus": [
            [
             0,
             "#0d0887"
            ],
            [
             0.1111111111111111,
             "#46039f"
            ],
            [
             0.2222222222222222,
             "#7201a8"
            ],
            [
             0.3333333333333333,
             "#9c179e"
            ],
            [
             0.4444444444444444,
             "#bd3786"
            ],
            [
             0.5555555555555556,
             "#d8576b"
            ],
            [
             0.6666666666666666,
             "#ed7953"
            ],
            [
             0.7777777777777778,
             "#fb9f3a"
            ],
            [
             0.8888888888888888,
             "#fdca26"
            ],
            [
             1,
             "#f0f921"
            ]
           ]
          },
          "colorway": [
           "#636efa",
           "#EF553B",
           "#00cc96",
           "#ab63fa",
           "#FFA15A",
           "#19d3f3",
           "#FF6692",
           "#B6E880",
           "#FF97FF",
           "#FECB52"
          ],
          "font": {
           "color": "#2a3f5f"
          },
          "geo": {
           "bgcolor": "white",
           "lakecolor": "white",
           "landcolor": "#E5ECF6",
           "showlakes": true,
           "showland": true,
           "subunitcolor": "white"
          },
          "hoverlabel": {
           "align": "left"
          },
          "hovermode": "closest",
          "mapbox": {
           "style": "light"
          },
          "paper_bgcolor": "white",
          "plot_bgcolor": "#E5ECF6",
          "polar": {
           "angularaxis": {
            "gridcolor": "white",
            "linecolor": "white",
            "ticks": ""
           },
           "bgcolor": "#E5ECF6",
           "radialaxis": {
            "gridcolor": "white",
            "linecolor": "white",
            "ticks": ""
           }
          },
          "scene": {
           "xaxis": {
            "backgroundcolor": "#E5ECF6",
            "gridcolor": "white",
            "gridwidth": 2,
            "linecolor": "white",
            "showbackground": true,
            "ticks": "",
            "zerolinecolor": "white"
           },
           "yaxis": {
            "backgroundcolor": "#E5ECF6",
            "gridcolor": "white",
            "gridwidth": 2,
            "linecolor": "white",
            "showbackground": true,
            "ticks": "",
            "zerolinecolor": "white"
           },
           "zaxis": {
            "backgroundcolor": "#E5ECF6",
            "gridcolor": "white",
            "gridwidth": 2,
            "linecolor": "white",
            "showbackground": true,
            "ticks": "",
            "zerolinecolor": "white"
           }
          },
          "shapedefaults": {
           "line": {
            "color": "#2a3f5f"
           }
          },
          "ternary": {
           "aaxis": {
            "gridcolor": "white",
            "linecolor": "white",
            "ticks": ""
           },
           "baxis": {
            "gridcolor": "white",
            "linecolor": "white",
            "ticks": ""
           },
           "bgcolor": "#E5ECF6",
           "caxis": {
            "gridcolor": "white",
            "linecolor": "white",
            "ticks": ""
           }
          },
          "title": {
           "x": 0.05
          },
          "xaxis": {
           "automargin": true,
           "gridcolor": "white",
           "linecolor": "white",
           "ticks": "",
           "title": {
            "standoff": 15
           },
           "zerolinecolor": "white",
           "zerolinewidth": 2
          },
          "yaxis": {
           "automargin": true,
           "gridcolor": "white",
           "linecolor": "white",
           "ticks": "",
           "title": {
            "standoff": 15
           },
           "zerolinecolor": "white",
           "zerolinewidth": 2
          }
         }
        },
        "title": {
         "text": "Food Categories"
        },
        "xaxis": {
         "anchor": "y",
         "domain": [
          0,
          1
         ],
         "title": {
          "text": "FoodCategory"
         }
        },
        "yaxis": {
         "anchor": "x",
         "domain": [
          0,
          1
         ],
         "title": {
          "text": "count"
         }
        }
       }
      }
     },
     "metadata": {},
     "output_type": "display_data"
    }
   ],
   "source": [
    "plt = px.histogram(df, x='FoodCategory', title='Food Categories', color_discrete_sequence=px.colors.sequential.Cividis)\n",
    "plt.show()"
   ]
  },
  {
   "cell_type": "markdown",
   "metadata": {},
   "source": [
    "#### There are `44` Food Categories."
   ]
  },
  {
   "cell_type": "markdown",
   "metadata": {},
   "source": [
    "<h2 style=\"color: #4CAF50;text-align:center\">Food Categories and Items by Calories</h2>"
   ]
  },
  {
   "cell_type": "code",
   "execution_count": 41,
   "metadata": {},
   "outputs": [
    {
     "data": {
      "application/vnd.plotly.v1+json": {
       "config": {
        "plotlyServerURL": "https://plot.ly"
       },
       "data": [
        {
         "alignmentgroup": "True",
         "bingroup": "x",
         "histfunc": "sum",
         "hovertemplate": "FoodCategory=%{x}<br>sum of Cals_per100grams=%{y}<extra></extra>",
         "legendgroup": "",
         "marker": {
          "color": "#636efa",
          "pattern": {
           "shape": ""
          }
         },
         "name": "",
         "offsetgroup": "",
         "orientation": "v",
         "showlegend": false,
         "type": "histogram",
         "x": [
          "CannedFruit",
          "CannedFruit",
          "CannedFruit",
          "CannedFruit",
          "CannedFruit",
          "CannedFruit",
          "CannedFruit",
          "CannedFruit",
          "CannedFruit",
          "CannedFruit",
          "CannedFruit",
          "CannedFruit",
          "CannedFruit",
          "CannedFruit",
          "CannedFruit",
          "CannedFruit",
          "CannedFruit",
          "CannedFruit",
          "CannedFruit",
          "CannedFruit",
          "CannedFruit",
          "CannedFruit",
          "CannedFruit",
          "CannedFruit",
          "CannedFruit",
          "CannedFruit",
          "CannedFruit",
          "CannedFruit",
          "CannedFruit",
          "Fruits",
          "Fruits",
          "Fruits",
          "Fruits",
          "Fruits",
          "Fruits",
          "Fruits",
          "Fruits",
          "Fruits",
          "Fruits",
          "Fruits",
          "Fruits",
          "Fruits",
          "Fruits",
          "Fruits",
          "Fruits",
          "Fruits",
          "Fruits",
          "Fruits",
          "Fruits",
          "Fruits",
          "Fruits",
          "Fruits",
          "Fruits",
          "Fruits",
          "Fruits",
          "Fruits",
          "Fruits",
          "Fruits",
          "Fruits",
          "Fruits",
          "Fruits",
          "Fruits",
          "Fruits",
          "Fruits",
          "Fruits",
          "Fruits",
          "Fruits",
          "Fruits",
          "Fruits",
          "Fruits",
          "Fruits",
          "Fruits",
          "Fruits",
          "Fruits",
          "Fruits",
          "Fruits",
          "Fruits",
          "Fruits",
          "Fruits",
          "Fruits",
          "Fruits",
          "Fruits",
          "Fruits",
          "Tropical&ExoticFruits",
          "Tropical&ExoticFruits",
          "Tropical&ExoticFruits",
          "Tropical&ExoticFruits",
          "Tropical&ExoticFruits",
          "Tropical&ExoticFruits",
          "Tropical&ExoticFruits",
          "Tropical&ExoticFruits",
          "Tropical&ExoticFruits",
          "Tropical&ExoticFruits",
          "Tropical&ExoticFruits",
          "Tropical&ExoticFruits",
          "Tropical&ExoticFruits",
          "Tropical&ExoticFruits",
          "Tropical&ExoticFruits",
          "Tropical&ExoticFruits",
          "Tropical&ExoticFruits",
          "Tropical&ExoticFruits",
          "Tropical&ExoticFruits",
          "Tropical&ExoticFruits",
          "Tropical&ExoticFruits",
          "Tropical&ExoticFruits",
          "Tropical&ExoticFruits",
          "Tropical&ExoticFruits",
          "Tropical&ExoticFruits",
          "Tropical&ExoticFruits",
          "Tropical&ExoticFruits",
          "Tropical&ExoticFruits",
          "Tropical&ExoticFruits",
          "Tropical&ExoticFruits",
          "Tropical&ExoticFruits",
          "Tropical&ExoticFruits",
          "Tropical&ExoticFruits",
          "Tropical&ExoticFruits",
          "Tropical&ExoticFruits",
          "Tropical&ExoticFruits",
          "Tropical&ExoticFruits",
          "Tropical&ExoticFruits",
          "Tropical&ExoticFruits",
          "PotatoProducts",
          "PotatoProducts",
          "PotatoProducts",
          "PotatoProducts",
          "PotatoProducts",
          "PotatoProducts",
          "PotatoProducts",
          "PotatoProducts",
          "PotatoProducts",
          "PotatoProducts",
          "PotatoProducts",
          "PotatoProducts",
          "PotatoProducts",
          "PotatoProducts",
          "PotatoProducts",
          "PotatoProducts",
          "PotatoProducts",
          "PotatoProducts",
          "PotatoProducts",
          "PotatoProducts",
          "PotatoProducts",
          "PotatoProducts",
          "PotatoProducts",
          "PotatoProducts",
          "PotatoProducts",
          "PotatoProducts",
          "PotatoProducts",
          "PotatoProducts",
          "PotatoProducts",
          "PotatoProducts",
          "PotatoProducts",
          "PotatoProducts",
          "PotatoProducts",
          "PotatoProducts",
          "PotatoProducts",
          "PotatoProducts",
          "PotatoProducts",
          "PotatoProducts",
          "PotatoProducts",
          "Vegetables",
          "Vegetables",
          "Vegetables",
          "Vegetables",
          "Vegetables",
          "Vegetables",
          "Vegetables",
          "Vegetables",
          "Vegetables",
          "Vegetables",
          "Vegetables",
          "Vegetables",
          "Vegetables",
          "Vegetables",
          "Vegetables",
          "Vegetables",
          "Vegetables",
          "Vegetables",
          "Vegetables",
          "Vegetables",
          "Vegetables",
          "Vegetables",
          "Vegetables",
          "Vegetables",
          "Vegetables",
          "Vegetables",
          "Vegetables",
          "Vegetables",
          "Vegetables",
          "Vegetables",
          "Vegetables",
          "Vegetables",
          "Vegetables",
          "Vegetables",
          "Vegetables",
          "Vegetables",
          "Vegetables",
          "Vegetables",
          "Vegetables",
          "Vegetables",
          "Vegetables",
          "Vegetables",
          "Vegetables",
          "Vegetables",
          "Vegetables",
          "Vegetables",
          "Vegetables",
          "Vegetables",
          "Vegetables",
          "Vegetables",
          "Vegetables",
          "Vegetables",
          "Vegetables",
          "Vegetables",
          "Vegetables",
          "Vegetables",
          "Vegetables",
          "Vegetables",
          "Vegetables",
          "Vegetables",
          "Vegetables",
          "Vegetables",
          "Vegetables",
          "FastFood",
          "FastFood",
          "FastFood",
          "FastFood",
          "FastFood",
          "FastFood",
          "FastFood",
          "FastFood",
          "FastFood",
          "FastFood",
          "FastFood",
          "FastFood",
          "FastFood",
          "FastFood",
          "FastFood",
          "FastFood",
          "FastFood",
          "FastFood",
          "FastFood",
          "FastFood",
          "FastFood",
          "FastFood",
          "FastFood",
          "FastFood",
          "FastFood",
          "FastFood",
          "FastFood",
          "FastFood",
          "FastFood",
          "FastFood",
          "FastFood",
          "FastFood",
          "FastFood",
          "FastFood",
          "FastFood",
          "FastFood",
          "FastFood",
          "FastFood",
          "FastFood",
          "FastFood",
          "FastFood",
          "FastFood",
          "FastFood",
          "FastFood",
          "FastFood",
          "FastFood",
          "FastFood",
          "FastFood",
          "FastFood",
          "FastFood",
          "FastFood",
          "FastFood",
          "FastFood",
          "FastFood",
          "FastFood",
          "FastFood",
          "FastFood",
          "FastFood",
          "FastFood",
          "FastFood",
          "FastFood",
          "FastFood",
          "FastFood",
          "FastFood",
          "FastFood",
          "FastFood",
          "FastFood",
          "FastFood",
          "FastFood",
          "FastFood",
          "FastFood",
          "FastFood",
          "Pizza",
          "Pizza",
          "Pizza",
          "Pizza",
          "Pizza",
          "Pizza",
          "Pizza",
          "Pizza",
          "Pizza",
          "Pizza",
          "Pizza",
          "Pizza",
          "Pizza",
          "Pizza",
          "Pizza",
          "Pizza",
          "Pizza",
          "Pizza",
          "Pizza",
          "Pizza",
          "Pizza",
          "Pizza",
          "Pizza",
          "Pizza",
          "Pizza",
          "Pizza",
          "Pizza",
          "Pizza",
          "Pizza",
          "Pizza",
          "Pizza",
          "Pizza",
          "Pizza",
          "Pizza",
          "Pizza",
          "Pizza",
          "Pizza",
          "Pizza",
          "Pizza",
          "Pizza",
          "Pizza",
          "Pizza",
          "Pizza",
          "Cheese",
          "Cheese",
          "Cheese",
          "Cheese",
          "Cheese",
          "Cheese",
          "Cheese",
          "Cheese",
          "Cheese",
          "Cheese",
          "Cheese",
          "Cheese",
          "Cheese",
          "Cheese",
          "Cheese",
          "Cheese",
          "Cheese",
          "Cheese",
          "Cheese",
          "Cheese",
          "Cheese",
          "Cheese",
          "Cheese",
          "Cheese",
          "Cheese",
          "Cheese",
          "Cheese",
          "Cheese",
          "Cheese",
          "Cheese",
          "Cheese",
          "Cheese",
          "Cheese",
          "Cheese",
          "Cheese",
          "Cheese",
          "Cheese",
          "Cheese",
          "Cheese",
          "Cheese",
          "Cheese",
          "Cheese",
          "Cheese",
          "Cheese",
          "Cheese",
          "Cheese",
          "Cheese",
          "Cheese",
          "Cheese",
          "Cheese",
          "Cheese",
          "Cheese",
          "Cheese",
          "CreamCheese",
          "CreamCheese",
          "CreamCheese",
          "CreamCheese",
          "CreamCheese",
          "CreamCheese",
          "CreamCheese",
          "CreamCheese",
          "CreamCheese",
          "CreamCheese",
          "CreamCheese",
          "CreamCheese",
          "CreamCheese",
          "CreamCheese",
          "CreamCheese",
          "CreamCheese",
          "CreamCheese",
          "Milk&DairyProducts",
          "Milk&DairyProducts",
          "Milk&DairyProducts",
          "Milk&DairyProducts",
          "Milk&DairyProducts",
          "Milk&DairyProducts",
          "Milk&DairyProducts",
          "Milk&DairyProducts",
          "Milk&DairyProducts",
          "Milk&DairyProducts",
          "Milk&DairyProducts",
          "Milk&DairyProducts",
          "Milk&DairyProducts",
          "Milk&DairyProducts",
          "Milk&DairyProducts",
          "Milk&DairyProducts",
          "Milk&DairyProducts",
          "Milk&DairyProducts",
          "Milk&DairyProducts",
          "Milk&DairyProducts",
          "Milk&DairyProducts",
          "Milk&DairyProducts",
          "Milk&DairyProducts",
          "Milk&DairyProducts",
          "Milk&DairyProducts",
          "Milk&DairyProducts",
          "Milk&DairyProducts",
          "Milk&DairyProducts",
          "Milk&DairyProducts",
          "Milk&DairyProducts",
          "Milk&DairyProducts",
          "Milk&DairyProducts",
          "Milk&DairyProducts",
          "SlicedCheese",
          "SlicedCheese",
          "SlicedCheese",
          "SlicedCheese",
          "SlicedCheese",
          "SlicedCheese",
          "SlicedCheese",
          "SlicedCheese",
          "SlicedCheese",
          "SlicedCheese",
          "SlicedCheese",
          "SlicedCheese",
          "SlicedCheese",
          "SlicedCheese",
          "SlicedCheese",
          "SlicedCheese",
          "SlicedCheese",
          "SlicedCheese",
          "SlicedCheese",
          "SlicedCheese",
          "SlicedCheese",
          "SlicedCheese",
          "SlicedCheese",
          "SlicedCheese",
          "SlicedCheese",
          "SlicedCheese",
          "SlicedCheese",
          "SlicedCheese",
          "SlicedCheese",
          "SlicedCheese",
          "SlicedCheese",
          "SlicedCheese",
          "SlicedCheese",
          "SlicedCheese",
          "Yogurt",
          "Yogurt",
          "Yogurt",
          "Yogurt",
          "Yogurt",
          "Yogurt",
          "Yogurt",
          "Yogurt",
          "Yogurt",
          "Yogurt",
          "Yogurt",
          "Yogurt",
          "Yogurt",
          "Yogurt",
          "Yogurt",
          "Yogurt",
          "Yogurt",
          "Yogurt",
          "Yogurt",
          "Yogurt",
          "Yogurt",
          "Yogurt",
          "Yogurt",
          "Yogurt",
          "Yogurt",
          "Yogurt",
          "Yogurt",
          "Yogurt",
          "Yogurt",
          "Yogurt",
          "Yogurt",
          "Yogurt",
          "Yogurt",
          "Yogurt",
          "Yogurt",
          "Yogurt",
          "Yogurt",
          "Yogurt",
          "Yogurt",
          "Yogurt",
          "Beef&Veal",
          "Beef&Veal",
          "Beef&Veal",
          "Beef&Veal",
          "Beef&Veal",
          "Beef&Veal",
          "Beef&Veal",
          "Beef&Veal",
          "Beef&Veal",
          "Beef&Veal",
          "Beef&Veal",
          "Beef&Veal",
          "Beef&Veal",
          "Beef&Veal",
          "Beef&Veal",
          "Beef&Veal",
          "Beef&Veal",
          "Beef&Veal",
          "Beef&Veal",
          "Beef&Veal",
          "Beef&Veal",
          "Beef&Veal",
          "Beef&Veal",
          "Beef&Veal",
          "Beef&Veal",
          "Beef&Veal",
          "Beef&Veal",
          "Beef&Veal",
          "Beef&Veal",
          "Beef&Veal",
          "Beef&Veal",
          "Beef&Veal",
          "Beef&Veal",
          "Beef&Veal",
          "Beef&Veal",
          "Beef&Veal",
          "Beef&Veal",
          "Beef&Veal",
          "Beef&Veal",
          "ColdCuts&LunchMeat",
          "ColdCuts&LunchMeat",
          "ColdCuts&LunchMeat",
          "ColdCuts&LunchMeat",
          "ColdCuts&LunchMeat",
          "ColdCuts&LunchMeat",
          "ColdCuts&LunchMeat",
          "ColdCuts&LunchMeat",
          "ColdCuts&LunchMeat",
          "ColdCuts&LunchMeat",
          "ColdCuts&LunchMeat",
          "ColdCuts&LunchMeat",
          "ColdCuts&LunchMeat",
          "ColdCuts&LunchMeat",
          "ColdCuts&LunchMeat",
          "ColdCuts&LunchMeat",
          "ColdCuts&LunchMeat",
          "ColdCuts&LunchMeat",
          "ColdCuts&LunchMeat",
          "ColdCuts&LunchMeat",
          "ColdCuts&LunchMeat",
          "ColdCuts&LunchMeat",
          "ColdCuts&LunchMeat",
          "ColdCuts&LunchMeat",
          "ColdCuts&LunchMeat",
          "ColdCuts&LunchMeat",
          "ColdCuts&LunchMeat",
          "ColdCuts&LunchMeat",
          "ColdCuts&LunchMeat",
          "ColdCuts&LunchMeat",
          "ColdCuts&LunchMeat",
          "ColdCuts&LunchMeat",
          "ColdCuts&LunchMeat",
          "ColdCuts&LunchMeat",
          "ColdCuts&LunchMeat",
          "Meat",
          "Meat",
          "Meat",
          "Meat",
          "Meat",
          "Meat",
          "Meat",
          "Meat",
          "Meat",
          "Meat",
          "Meat",
          "Meat",
          "Meat",
          "Meat",
          "Meat",
          "Meat",
          "Meat",
          "Meat",
          "Meat",
          "Meat",
          "Meat",
          "Meat",
          "Meat",
          "Meat",
          "Meat",
          "Meat",
          "Meat",
          "Meat",
          "Meat",
          "Meat",
          "Meat",
          "Meat",
          "Meat",
          "Meat",
          "Meat",
          "Meat",
          "Meat",
          "Meat",
          "Meat",
          "Meat",
          "Meat",
          "Meat",
          "Meat",
          "Meat",
          "Meat",
          "Meat",
          "Offal&Giblets",
          "Offal&Giblets",
          "Offal&Giblets",
          "Offal&Giblets",
          "Offal&Giblets",
          "Offal&Giblets",
          "Offal&Giblets",
          "Offal&Giblets",
          "Offal&Giblets",
          "Offal&Giblets",
          "Offal&Giblets",
          "Offal&Giblets",
          "Offal&Giblets",
          "Offal&Giblets",
          "Offal&Giblets",
          "Offal&Giblets",
          "Offal&Giblets",
          "Offal&Giblets",
          "Offal&Giblets",
          "Offal&Giblets",
          "Offal&Giblets",
          "Offal&Giblets",
          "Offal&Giblets",
          "Offal&Giblets",
          "Offal&Giblets",
          "Offal&Giblets",
          "Offal&Giblets",
          "Offal&Giblets",
          "Offal&Giblets",
          "Offal&Giblets",
          "Offal&Giblets",
          "Offal&Giblets",
          "Offal&Giblets",
          "Pork",
          "Pork",
          "Pork",
          "Pork",
          "Pork",
          "Pork",
          "Pork",
          "Pork",
          "Pork",
          "Pork",
          "Pork",
          "Pork",
          "Pork",
          "Pork",
          "Pork",
          "Pork",
          "Pork",
          "Pork",
          "Pork",
          "Pork",
          "Pork",
          "Pork",
          "Pork",
          "Pork",
          "Pork",
          "Pork",
          "Pork",
          "Pork",
          "Pork",
          "Pork",
          "Pork",
          "Pork",
          "Pork",
          "Pork",
          "Pork",
          "Pork",
          "Pork",
          "Pork",
          "Pork",
          "Poultry&Fowl",
          "Poultry&Fowl",
          "Poultry&Fowl",
          "Poultry&Fowl",
          "Poultry&Fowl",
          "Poultry&Fowl",
          "Poultry&Fowl",
          "Poultry&Fowl",
          "Poultry&Fowl",
          "Poultry&Fowl",
          "Poultry&Fowl",
          "Poultry&Fowl",
          "Poultry&Fowl",
          "Poultry&Fowl",
          "Poultry&Fowl",
          "Poultry&Fowl",
          "Poultry&Fowl",
          "Poultry&Fowl",
          "Poultry&Fowl",
          "Poultry&Fowl",
          "Poultry&Fowl",
          "Poultry&Fowl",
          "Poultry&Fowl",
          "Poultry&Fowl",
          "Poultry&Fowl",
          "Poultry&Fowl",
          "Poultry&Fowl",
          "Poultry&Fowl",
          "Poultry&Fowl",
          "Poultry&Fowl",
          "Poultry&Fowl",
          "Poultry&Fowl",
          "Poultry&Fowl",
          "Sausage",
          "Sausage",
          "Sausage",
          "Sausage",
          "Sausage",
          "Sausage",
          "Sausage",
          "Sausage",
          "Sausage",
          "Sausage",
          "Sausage",
          "Sausage",
          "Sausage",
          "Sausage",
          "Sausage",
          "Sausage",
          "Sausage",
          "Sausage",
          "Sausage",
          "Sausage",
          "Sausage",
          "Sausage",
          "Sausage",
          "Sausage",
          "Sausage",
          "Sausage",
          "Sausage",
          "Sausage",
          "Sausage",
          "Sausage",
          "Sausage",
          "Sausage",
          "Sausage",
          "Sausage",
          "Sausage",
          "Sausage",
          "Sausage",
          "Sausage",
          "Sausage",
          "Sausage",
          "Sausage",
          "Sausage",
          "Sausage",
          "Sausage",
          "Sausage",
          "Sausage",
          "Sausage",
          "Venison&Game",
          "Venison&Game",
          "Venison&Game",
          "Venison&Game",
          "Venison&Game",
          "Venison&Game",
          "Venison&Game",
          "Venison&Game",
          "Venison&Game",
          "Venison&Game",
          "Venison&Game",
          "Venison&Game",
          "Venison&Game",
          "Venison&Game",
          "Venison&Game",
          "Venison&Game",
          "Venison&Game",
          "Venison&Game",
          "Venison&Game",
          "Venison&Game",
          "Venison&Game",
          "Venison&Game",
          "Venison&Game",
          "Venison&Game",
          "Venison&Game",
          "Venison&Game",
          "Venison&Game",
          "Venison&Game",
          "Venison&Game",
          "Venison&Game",
          "Venison&Game",
          "Venison&Game",
          "Venison&Game",
          "Venison&Game",
          "Venison&Game",
          "Venison&Game",
          "Cakes&Pies",
          "Cakes&Pies",
          "Cakes&Pies",
          "Cakes&Pies",
          "Cakes&Pies",
          "Cakes&Pies",
          "Cakes&Pies",
          "Cakes&Pies",
          "Cakes&Pies",
          "Cakes&Pies",
          "Cakes&Pies",
          "Cakes&Pies",
          "Cakes&Pies",
          "Cakes&Pies",
          "Cakes&Pies",
          "Cakes&Pies",
          "Cakes&Pies",
          "Cakes&Pies",
          "Cakes&Pies",
          "Cakes&Pies",
          "Cakes&Pies",
          "Cakes&Pies",
          "Cakes&Pies",
          "Cakes&Pies",
          "Cakes&Pies",
          "Cakes&Pies",
          "Cakes&Pies",
          "Cakes&Pies",
          "Cakes&Pies",
          "Cakes&Pies",
          "Cakes&Pies",
          "Cakes&Pies",
          "Cakes&Pies",
          "Cakes&Pies",
          "Cakes&Pies",
          "Cakes&Pies",
          "Cakes&Pies",
          "Cakes&Pies",
          "Cakes&Pies",
          "Cakes&Pies",
          "Cakes&Pies",
          "Cakes&Pies",
          "Cakes&Pies",
          "Cakes&Pies",
          "Cakes&Pies",
          "Cakes&Pies",
          "Cakes&Pies",
          "Cakes&Pies",
          "Cakes&Pies",
          "Cakes&Pies",
          "Cakes&Pies",
          "Cakes&Pies",
          "Cakes&Pies",
          "Cakes&Pies",
          "Cakes&Pies",
          "Cakes&Pies",
          "Cakes&Pies",
          "Cakes&Pies",
          "Cakes&Pies",
          "Cakes&Pies",
          "Cakes&Pies",
          "Cakes&Pies",
          "Cakes&Pies",
          "Cakes&Pies",
          "Cakes&Pies",
          "Cakes&Pies",
          "Cakes&Pies",
          "Cakes&Pies",
          "Cakes&Pies",
          "Cakes&Pies",
          "Cakes&Pies",
          "Cakes&Pies",
          "Cakes&Pies",
          "Cakes&Pies",
          "Cakes&Pies",
          "Cakes&Pies",
          "Cakes&Pies",
          "Cakes&Pies",
          "Cakes&Pies",
          "Cakes&Pies",
          "Cakes&Pies",
          "Cakes&Pies",
          "Cakes&Pies",
          "Cakes&Pies",
          "Cakes&Pies",
          "Cakes&Pies",
          "Cakes&Pies",
          "Cakes&Pies",
          "Cakes&Pies",
          "Cakes&Pies",
          "Cakes&Pies",
          "Candy&Sweets",
          "Candy&Sweets",
          "Candy&Sweets",
          "Candy&Sweets",
          "Candy&Sweets",
          "Candy&Sweets",
          "Candy&Sweets",
          "Candy&Sweets",
          "Candy&Sweets",
          "Candy&Sweets",
          "Candy&Sweets",
          "Candy&Sweets",
          "Candy&Sweets",
          "Candy&Sweets",
          "Candy&Sweets",
          "Candy&Sweets",
          "Candy&Sweets",
          "Candy&Sweets",
          "Candy&Sweets",
          "Candy&Sweets",
          "Candy&Sweets",
          "Candy&Sweets",
          "Candy&Sweets",
          "Candy&Sweets",
          "Candy&Sweets",
          "Candy&Sweets",
          "Candy&Sweets",
          "Candy&Sweets",
          "Candy&Sweets",
          "Candy&Sweets",
          "Candy&Sweets",
          "Candy&Sweets",
          "Candy&Sweets",
          "Candy&Sweets",
          "Candy&Sweets",
          "Candy&Sweets",
          "Candy&Sweets",
          "Candy&Sweets",
          "Candy&Sweets",
          "Candy&Sweets",
          "Candy&Sweets",
          "Candy&Sweets",
          "Candy&Sweets",
          "Candy&Sweets",
          "Candy&Sweets",
          "Candy&Sweets",
          "Candy&Sweets",
          "Candy&Sweets",
          "Candy&Sweets",
          "Candy&Sweets",
          "Candy&Sweets",
          "Candy&Sweets",
          "Candy&Sweets",
          "Candy&Sweets",
          "Candy&Sweets",
          "Candy&Sweets",
          "Candy&Sweets",
          "Candy&Sweets",
          "Candy&Sweets",
          "Candy&Sweets",
          "Candy&Sweets",
          "Candy&Sweets",
          "Candy&Sweets",
          "Candy&Sweets",
          "Candy&Sweets",
          "Candy&Sweets",
          "Candy&Sweets",
          "Candy&Sweets",
          "Candy&Sweets",
          "Candy&Sweets",
          "Candy&Sweets",
          "Candy&Sweets",
          "Candy&Sweets",
          "Candy&Sweets",
          "Candy&Sweets",
          "Candy&Sweets",
          "Candy&Sweets",
          "Candy&Sweets",
          "Candy&Sweets",
          "Candy&Sweets",
          "Candy&Sweets",
          "IceCream",
          "IceCream",
          "IceCream",
          "IceCream",
          "IceCream",
          "IceCream",
          "IceCream",
          "IceCream",
          "IceCream",
          "IceCream",
          "IceCream",
          "IceCream",
          "IceCream",
          "IceCream",
          "IceCream",
          "IceCream",
          "IceCream",
          "IceCream",
          "IceCream",
          "IceCream",
          "IceCream",
          "IceCream",
          "IceCream",
          "IceCream",
          "IceCream",
          "IceCream",
          "IceCream",
          "IceCream",
          "IceCream",
          "IceCream",
          "IceCream",
          "IceCream",
          "IceCream",
          "IceCream",
          "IceCream",
          "IceCream",
          "IceCream",
          "IceCream",
          "IceCream",
          "IceCream",
          "IceCream",
          "IceCream",
          "IceCream",
          "IceCream",
          "IceCream",
          "(Fruit)Juices",
          "(Fruit)Juices",
          "(Fruit)Juices",
          "(Fruit)Juices",
          "(Fruit)Juices",
          "(Fruit)Juices",
          "(Fruit)Juices",
          "(Fruit)Juices",
          "(Fruit)Juices",
          "(Fruit)Juices",
          "(Fruit)Juices",
          "(Fruit)Juices",
          "(Fruit)Juices",
          "(Fruit)Juices",
          "(Fruit)Juices",
          "(Fruit)Juices",
          "(Fruit)Juices",
          "(Fruit)Juices",
          "(Fruit)Juices",
          "(Fruit)Juices",
          "(Fruit)Juices",
          "(Fruit)Juices",
          "(Fruit)Juices",
          "(Fruit)Juices",
          "(Fruit)Juices",
          "(Fruit)Juices",
          "(Fruit)Juices",
          "(Fruit)Juices",
          "(Fruit)Juices",
          "(Fruit)Juices",
          "(Fruit)Juices",
          "(Fruit)Juices",
          "(Fruit)Juices",
          "(Fruit)Juices",
          "(Fruit)Juices",
          "(Fruit)Juices",
          "(Fruit)Juices",
          "(Fruit)Juices",
          "(Fruit)Juices",
          "(Fruit)Juices",
          "(Fruit)Juices",
          "(Fruit)Juices",
          "(Fruit)Juices",
          "(Fruit)Juices",
          "(Fruit)Juices",
          "(Fruit)Juices",
          "AlcoholicDrinks&Beverages",
          "AlcoholicDrinks&Beverages",
          "AlcoholicDrinks&Beverages",
          "AlcoholicDrinks&Beverages",
          "AlcoholicDrinks&Beverages",
          "AlcoholicDrinks&Beverages",
          "AlcoholicDrinks&Beverages",
          "AlcoholicDrinks&Beverages",
          "AlcoholicDrinks&Beverages",
          "AlcoholicDrinks&Beverages",
          "AlcoholicDrinks&Beverages",
          "AlcoholicDrinks&Beverages",
          "AlcoholicDrinks&Beverages",
          "AlcoholicDrinks&Beverages",
          "AlcoholicDrinks&Beverages",
          "AlcoholicDrinks&Beverages",
          "AlcoholicDrinks&Beverages",
          "AlcoholicDrinks&Beverages",
          "AlcoholicDrinks&Beverages",
          "AlcoholicDrinks&Beverages",
          "AlcoholicDrinks&Beverages",
          "AlcoholicDrinks&Beverages",
          "AlcoholicDrinks&Beverages",
          "AlcoholicDrinks&Beverages",
          "AlcoholicDrinks&Beverages",
          "AlcoholicDrinks&Beverages",
          "AlcoholicDrinks&Beverages",
          "AlcoholicDrinks&Beverages",
          "AlcoholicDrinks&Beverages",
          "AlcoholicDrinks&Beverages",
          "AlcoholicDrinks&Beverages",
          "AlcoholicDrinks&Beverages",
          "AlcoholicDrinks&Beverages",
          "AlcoholicDrinks&Beverages",
          "AlcoholicDrinks&Beverages",
          "AlcoholicDrinks&Beverages",
          "AlcoholicDrinks&Beverages",
          "AlcoholicDrinks&Beverages",
          "AlcoholicDrinks&Beverages",
          "AlcoholicDrinks&Beverages",
          "AlcoholicDrinks&Beverages",
          "AlcoholicDrinks&Beverages",
          "AlcoholicDrinks&Beverages",
          "AlcoholicDrinks&Beverages",
          "AlcoholicDrinks&Beverages",
          "AlcoholicDrinks&Beverages",
          "AlcoholicDrinks&Beverages",
          "AlcoholicDrinks&Beverages",
          "Beer",
          "Beer",
          "Beer",
          "Beer",
          "Beer",
          "Beer",
          "Beer",
          "Beer",
          "Beer",
          "Beer",
          "Beer",
          "Beer",
          "Beer",
          "Beer",
          "Beer",
          "Beer",
          "Beer",
          "Beer",
          "Beer",
          "Beer",
          "Beer",
          "Beer",
          "Beer",
          "Beer",
          "Beer",
          "Beer",
          "Beer",
          "Beer",
          "Beer",
          "Beer",
          "Beer",
          "Beer",
          "Beer",
          "Beer",
          "Beer",
          "Beer",
          "Beer",
          "Beer",
          "Beer",
          "Beer",
          "Beer",
          "Beer",
          "Beer",
          "Beer",
          "Beer",
          "Beer",
          "Beer",
          "Beer",
          "Beer",
          "Beer",
          "Beer",
          "Beer",
          "Beer",
          "Beer",
          "Beer",
          "Beer",
          "Beer",
          "Beer",
          "Beer",
          "Beer",
          "Beer",
          "Beer",
          "Beer",
          "Beer",
          "Beer",
          "Beer",
          "Beer",
          "Beer",
          "Beer",
          "Beer",
          "Beer",
          "Beer",
          "Beer",
          "Beer",
          "Beer",
          "Beer",
          "Beer",
          "Beer",
          "Beer",
          "Beer",
          "Beer",
          "Beer",
          "Beer",
          "Beer",
          "Beer",
          "Non-AlcoholicDrinks&Beverages",
          "Non-AlcoholicDrinks&Beverages",
          "Non-AlcoholicDrinks&Beverages",
          "Non-AlcoholicDrinks&Beverages",
          "Non-AlcoholicDrinks&Beverages",
          "Non-AlcoholicDrinks&Beverages",
          "Non-AlcoholicDrinks&Beverages",
          "Non-AlcoholicDrinks&Beverages",
          "Non-AlcoholicDrinks&Beverages",
          "Non-AlcoholicDrinks&Beverages",
          "Non-AlcoholicDrinks&Beverages",
          "Non-AlcoholicDrinks&Beverages",
          "Non-AlcoholicDrinks&Beverages",
          "Non-AlcoholicDrinks&Beverages",
          "Non-AlcoholicDrinks&Beverages",
          "Non-AlcoholicDrinks&Beverages",
          "Non-AlcoholicDrinks&Beverages",
          "Non-AlcoholicDrinks&Beverages",
          "Non-AlcoholicDrinks&Beverages",
          "Non-AlcoholicDrinks&Beverages",
          "Non-AlcoholicDrinks&Beverages",
          "Non-AlcoholicDrinks&Beverages",
          "Non-AlcoholicDrinks&Beverages",
          "Non-AlcoholicDrinks&Beverages",
          "Non-AlcoholicDrinks&Beverages",
          "Non-AlcoholicDrinks&Beverages",
          "Non-AlcoholicDrinks&Beverages",
          "Non-AlcoholicDrinks&Beverages",
          "Non-AlcoholicDrinks&Beverages",
          "Non-AlcoholicDrinks&Beverages",
          "Non-AlcoholicDrinks&Beverages",
          "Non-AlcoholicDrinks&Beverages",
          "Non-AlcoholicDrinks&Beverages",
          "Non-AlcoholicDrinks&Beverages",
          "Non-AlcoholicDrinks&Beverages",
          "Non-AlcoholicDrinks&Beverages",
          "Non-AlcoholicDrinks&Beverages",
          "Non-AlcoholicDrinks&Beverages",
          "Non-AlcoholicDrinks&Beverages",
          "Non-AlcoholicDrinks&Beverages",
          "Non-AlcoholicDrinks&Beverages",
          "Non-AlcoholicDrinks&Beverages",
          "Non-AlcoholicDrinks&Beverages",
          "Non-AlcoholicDrinks&Beverages",
          "Non-AlcoholicDrinks&Beverages",
          "Non-AlcoholicDrinks&Beverages",
          "Non-AlcoholicDrinks&Beverages",
          "Non-AlcoholicDrinks&Beverages",
          "Non-AlcoholicDrinks&Beverages",
          "Non-AlcoholicDrinks&Beverages",
          "Non-AlcoholicDrinks&Beverages",
          "Soda&SoftDrinks",
          "Soda&SoftDrinks",
          "Soda&SoftDrinks",
          "Soda&SoftDrinks",
          "Soda&SoftDrinks",
          "Soda&SoftDrinks",
          "Soda&SoftDrinks",
          "Soda&SoftDrinks",
          "Soda&SoftDrinks",
          "Soda&SoftDrinks",
          "Soda&SoftDrinks",
          "Soda&SoftDrinks",
          "Soda&SoftDrinks",
          "Soda&SoftDrinks",
          "Soda&SoftDrinks",
          "Soda&SoftDrinks",
          "Soda&SoftDrinks",
          "Soda&SoftDrinks",
          "Soda&SoftDrinks",
          "Soda&SoftDrinks",
          "Soda&SoftDrinks",
          "Soda&SoftDrinks",
          "Soda&SoftDrinks",
          "Soda&SoftDrinks",
          "Soda&SoftDrinks",
          "Soda&SoftDrinks",
          "Soda&SoftDrinks",
          "Soda&SoftDrinks",
          "Soda&SoftDrinks",
          "Soda&SoftDrinks",
          "Soda&SoftDrinks",
          "Soda&SoftDrinks",
          "Soda&SoftDrinks",
          "Soda&SoftDrinks",
          "Soda&SoftDrinks",
          "Soda&SoftDrinks",
          "Soda&SoftDrinks",
          "Soda&SoftDrinks",
          "Soda&SoftDrinks",
          "Soda&SoftDrinks",
          "Soda&SoftDrinks",
          "Soda&SoftDrinks",
          "Soda&SoftDrinks",
          "Soda&SoftDrinks",
          "Soda&SoftDrinks",
          "Wine",
          "Wine",
          "Wine",
          "Wine",
          "Wine",
          "Wine",
          "Wine",
          "Wine",
          "Wine",
          "Wine",
          "Wine",
          "Wine",
          "Wine",
          "Wine",
          "Wine",
          "Wine",
          "Wine",
          "Wine",
          "Wine",
          "Wine",
          "Wine",
          "Wine",
          "Wine",
          "Wine",
          "Wine",
          "Wine",
          "Wine",
          "Wine",
          "Wine",
          "Wine",
          "Wine",
          "Wine",
          "Wine",
          "Wine",
          "Wine",
          "Wine",
          "Wine",
          "Wine",
          "Wine",
          "CerealProducts",
          "CerealProducts",
          "CerealProducts",
          "CerealProducts",
          "CerealProducts",
          "CerealProducts",
          "CerealProducts",
          "CerealProducts",
          "CerealProducts",
          "CerealProducts",
          "CerealProducts",
          "CerealProducts",
          "CerealProducts",
          "CerealProducts",
          "CerealProducts",
          "CerealProducts",
          "CerealProducts",
          "CerealProducts",
          "CerealProducts",
          "CerealProducts",
          "CerealProducts",
          "CerealProducts",
          "CerealProducts",
          "CerealProducts",
          "CerealProducts",
          "CerealProducts",
          "CerealProducts",
          "CerealProducts",
          "CerealProducts",
          "CerealProducts",
          "CerealProducts",
          "CerealProducts",
          "CerealProducts",
          "CerealProducts",
          "CerealProducts",
          "CerealProducts",
          "CerealProducts",
          "CerealProducts",
          "CerealProducts",
          "CerealProducts",
          "CerealProducts",
          "CerealProducts",
          "CerealProducts",
          "CerealProducts",
          "Oatmeal,Muesli&Cereals",
          "Oatmeal,Muesli&Cereals",
          "Oatmeal,Muesli&Cereals",
          "Oatmeal,Muesli&Cereals",
          "Oatmeal,Muesli&Cereals",
          "Oatmeal,Muesli&Cereals",
          "Oatmeal,Muesli&Cereals",
          "Oatmeal,Muesli&Cereals",
          "Oatmeal,Muesli&Cereals",
          "Oatmeal,Muesli&Cereals",
          "Oatmeal,Muesli&Cereals",
          "Oatmeal,Muesli&Cereals",
          "Oatmeal,Muesli&Cereals",
          "Oatmeal,Muesli&Cereals",
          "Oatmeal,Muesli&Cereals",
          "Oatmeal,Muesli&Cereals",
          "Oatmeal,Muesli&Cereals",
          "Oatmeal,Muesli&Cereals",
          "Oatmeal,Muesli&Cereals",
          "Oatmeal,Muesli&Cereals",
          "Oatmeal,Muesli&Cereals",
          "Oatmeal,Muesli&Cereals",
          "Oatmeal,Muesli&Cereals",
          "Oatmeal,Muesli&Cereals",
          "Oatmeal,Muesli&Cereals",
          "Oatmeal,Muesli&Cereals",
          "Oatmeal,Muesli&Cereals",
          "Oatmeal,Muesli&Cereals",
          "Oatmeal,Muesli&Cereals",
          "Oatmeal,Muesli&Cereals",
          "Oatmeal,Muesli&Cereals",
          "Oatmeal,Muesli&Cereals",
          "Oatmeal,Muesli&Cereals",
          "Oatmeal,Muesli&Cereals",
          "Oatmeal,Muesli&Cereals",
          "Oatmeal,Muesli&Cereals",
          "Oatmeal,Muesli&Cereals",
          "Oatmeal,Muesli&Cereals",
          "Oatmeal,Muesli&Cereals",
          "Oatmeal,Muesli&Cereals",
          "Oatmeal,Muesli&Cereals",
          "Oatmeal,Muesli&Cereals",
          "Oatmeal,Muesli&Cereals",
          "Oatmeal,Muesli&Cereals",
          "Oatmeal,Muesli&Cereals",
          "Oatmeal,Muesli&Cereals",
          "Oatmeal,Muesli&Cereals",
          "Oatmeal,Muesli&Cereals",
          "Oatmeal,Muesli&Cereals",
          "Oatmeal,Muesli&Cereals",
          "Oatmeal,Muesli&Cereals",
          "Oatmeal,Muesli&Cereals",
          "Oatmeal,Muesli&Cereals",
          "Oatmeal,Muesli&Cereals",
          "Oatmeal,Muesli&Cereals",
          "Oatmeal,Muesli&Cereals",
          "Oatmeal,Muesli&Cereals",
          "Oatmeal,Muesli&Cereals",
          "Oatmeal,Muesli&Cereals",
          "Oatmeal,Muesli&Cereals",
          "Oatmeal,Muesli&Cereals",
          "Oatmeal,Muesli&Cereals",
          "Oatmeal,Muesli&Cereals",
          "Oatmeal,Muesli&Cereals",
          "Oatmeal,Muesli&Cereals",
          "Oatmeal,Muesli&Cereals",
          "Oatmeal,Muesli&Cereals",
          "Oatmeal,Muesli&Cereals",
          "Oatmeal,Muesli&Cereals",
          "Oatmeal,Muesli&Cereals",
          "Oatmeal,Muesli&Cereals",
          "Oatmeal,Muesli&Cereals",
          "Oatmeal,Muesli&Cereals",
          "Oatmeal,Muesli&Cereals",
          "Oatmeal,Muesli&Cereals",
          "Oatmeal,Muesli&Cereals",
          "Pasta&Noodles",
          "Pasta&Noodles",
          "Pasta&Noodles",
          "Pasta&Noodles",
          "Pasta&Noodles",
          "Pasta&Noodles",
          "Pasta&Noodles",
          "Pasta&Noodles",
          "Pasta&Noodles",
          "Pasta&Noodles",
          "Pasta&Noodles",
          "Pasta&Noodles",
          "Pasta&Noodles",
          "Pasta&Noodles",
          "Pasta&Noodles",
          "Pasta&Noodles",
          "Pasta&Noodles",
          "Pasta&Noodles",
          "Pasta&Noodles",
          "Pasta&Noodles",
          "Pasta&Noodles",
          "Pasta&Noodles",
          "Pasta&Noodles",
          "Pasta&Noodles",
          "Pasta&Noodles",
          "Pasta&Noodles",
          "Pasta&Noodles",
          "Pasta&Noodles",
          "Pasta&Noodles",
          "Pasta&Noodles",
          "Pasta&Noodles",
          "Pasta&Noodles",
          "Pasta&Noodles",
          "Pasta&Noodles",
          "Pasta&Noodles",
          "Pasta&Noodles",
          "Pasta&Noodles",
          "Pasta&Noodles",
          "Pasta&Noodles",
          "Pasta&Noodles",
          "Dishes&Meals",
          "Dishes&Meals",
          "Dishes&Meals",
          "Dishes&Meals",
          "Dishes&Meals",
          "Dishes&Meals",
          "Dishes&Meals",
          "Dishes&Meals",
          "Dishes&Meals",
          "Dishes&Meals",
          "Dishes&Meals",
          "Dishes&Meals",
          "Dishes&Meals",
          "Dishes&Meals",
          "Dishes&Meals",
          "Dishes&Meals",
          "Dishes&Meals",
          "Dishes&Meals",
          "Dishes&Meals",
          "Dishes&Meals",
          "Dishes&Meals",
          "Dishes&Meals",
          "Dishes&Meals",
          "Dishes&Meals",
          "Dishes&Meals",
          "Dishes&Meals",
          "Dishes&Meals",
          "Dishes&Meals",
          "Dishes&Meals",
          "Dishes&Meals",
          "Dishes&Meals",
          "Dishes&Meals",
          "Dishes&Meals",
          "Dishes&Meals",
          "Dishes&Meals",
          "Dishes&Meals",
          "Dishes&Meals",
          "Dishes&Meals",
          "Dishes&Meals",
          "Dishes&Meals",
          "Dishes&Meals",
          "Dishes&Meals",
          "Dishes&Meals",
          "Dishes&Meals",
          "Dishes&Meals",
          "Dishes&Meals",
          "Dishes&Meals",
          "Dishes&Meals",
          "Dishes&Meals",
          "Dishes&Meals",
          "Dishes&Meals",
          "Dishes&Meals",
          "Dishes&Meals",
          "Dishes&Meals",
          "Dishes&Meals",
          "Dishes&Meals",
          "Dishes&Meals",
          "Dishes&Meals",
          "Dishes&Meals",
          "Dishes&Meals",
          "Dishes&Meals",
          "Dishes&Meals",
          "Dishes&Meals",
          "Dishes&Meals",
          "Dishes&Meals",
          "Dishes&Meals",
          "Dishes&Meals",
          "Dishes&Meals",
          "Dishes&Meals",
          "Dishes&Meals",
          "Dishes&Meals",
          "Dishes&Meals",
          "Dishes&Meals",
          "Dishes&Meals",
          "Dishes&Meals",
          "Dishes&Meals",
          "Dishes&Meals",
          "Dishes&Meals",
          "Soups",
          "Soups",
          "Soups",
          "Soups",
          "Soups",
          "Soups",
          "Soups",
          "Soups",
          "Soups",
          "Soups",
          "Soups",
          "Soups",
          "Soups",
          "Soups",
          "Soups",
          "Soups",
          "Soups",
          "Soups",
          "Soups",
          "Soups",
          "Soups",
          "Soups",
          "Soups",
          "Soups",
          "Soups",
          "Soups",
          "Soups",
          "Soups",
          "Soups",
          "Soups",
          "Soups",
          "Soups",
          "Soups",
          "Soups",
          "Soups",
          "Soups",
          "Soups",
          "Soups",
          "Soups",
          "Soups",
          "Soups",
          "Soups",
          "Soups",
          "Soups",
          "Soups",
          "Soups",
          "Soups",
          "Soups",
          "Soups",
          "Soups",
          "Soups",
          "Soups",
          "Legumes",
          "Legumes",
          "Legumes",
          "Legumes",
          "Legumes",
          "Legumes",
          "Legumes",
          "Legumes",
          "Legumes",
          "Legumes",
          "Legumes",
          "Legumes",
          "Legumes",
          "Legumes",
          "Legumes",
          "Legumes",
          "Legumes",
          "Legumes",
          "Legumes",
          "Legumes",
          "Legumes",
          "Legumes",
          "Legumes",
          "Legumes",
          "Legumes",
          "Legumes",
          "Legumes",
          "Legumes",
          "Legumes",
          "Legumes",
          "Legumes",
          "Legumes",
          "Legumes",
          "Legumes",
          "Legumes",
          "Legumes",
          "Legumes",
          "Legumes",
          "Legumes",
          "Legumes",
          "Legumes",
          "Legumes",
          "Legumes",
          "Legumes",
          "Legumes",
          "Legumes",
          "Legumes",
          "Legumes",
          "Legumes",
          "Legumes",
          "Legumes",
          "Legumes",
          "Legumes",
          "Legumes",
          "Legumes",
          "Legumes",
          "Legumes",
          "Legumes",
          "Legumes",
          "Legumes",
          "Legumes",
          "Legumes",
          "Nuts&Seeds",
          "Nuts&Seeds",
          "Nuts&Seeds",
          "Nuts&Seeds",
          "Nuts&Seeds",
          "Nuts&Seeds",
          "Nuts&Seeds",
          "Nuts&Seeds",
          "Nuts&Seeds",
          "Nuts&Seeds",
          "Nuts&Seeds",
          "Nuts&Seeds",
          "Nuts&Seeds",
          "Nuts&Seeds",
          "Nuts&Seeds",
          "Nuts&Seeds",
          "Nuts&Seeds",
          "Nuts&Seeds",
          "Nuts&Seeds",
          "Nuts&Seeds",
          "Nuts&Seeds",
          "Nuts&Seeds",
          "Nuts&Seeds",
          "Nuts&Seeds",
          "Nuts&Seeds",
          "Nuts&Seeds",
          "Nuts&Seeds",
          "Nuts&Seeds",
          "Nuts&Seeds",
          "Nuts&Seeds",
          "Nuts&Seeds",
          "Nuts&Seeds",
          "Nuts&Seeds",
          "Nuts&Seeds",
          "Nuts&Seeds",
          "Nuts&Seeds",
          "Nuts&Seeds",
          "Nuts&Seeds",
          "Nuts&Seeds",
          "Oils&Fats",
          "Oils&Fats",
          "Oils&Fats",
          "Oils&Fats",
          "Oils&Fats",
          "Oils&Fats",
          "Oils&Fats",
          "Oils&Fats",
          "Oils&Fats",
          "Oils&Fats",
          "Oils&Fats",
          "Oils&Fats",
          "Oils&Fats",
          "Oils&Fats",
          "Oils&Fats",
          "Oils&Fats",
          "Oils&Fats",
          "Oils&Fats",
          "Oils&Fats",
          "Oils&Fats",
          "Oils&Fats",
          "Oils&Fats",
          "Oils&Fats",
          "Oils&Fats",
          "Oils&Fats",
          "Oils&Fats",
          "Oils&Fats",
          "Oils&Fats",
          "Oils&Fats",
          "Oils&Fats",
          "VegetableOils",
          "VegetableOils",
          "VegetableOils",
          "VegetableOils",
          "VegetableOils",
          "VegetableOils",
          "VegetableOils",
          "VegetableOils",
          "VegetableOils",
          "VegetableOils",
          "VegetableOils",
          "VegetableOils",
          "VegetableOils",
          "VegetableOils",
          "VegetableOils",
          "VegetableOils",
          "VegetableOils",
          "VegetableOils",
          "VegetableOils",
          "VegetableOils",
          "VegetableOils",
          "VegetableOils",
          "VegetableOils",
          "VegetableOils",
          "VegetableOils",
          "VegetableOils",
          "VegetableOils",
          "VegetableOils",
          "VegetableOils",
          "VegetableOils",
          "VegetableOils",
          "VegetableOils",
          "VegetableOils",
          "BakingIngredients",
          "BakingIngredients",
          "BakingIngredients",
          "BakingIngredients",
          "BakingIngredients",
          "BakingIngredients",
          "BakingIngredients",
          "BakingIngredients",
          "BakingIngredients",
          "BakingIngredients",
          "BakingIngredients",
          "BakingIngredients",
          "BakingIngredients",
          "BakingIngredients",
          "BakingIngredients",
          "BakingIngredients",
          "BakingIngredients",
          "BakingIngredients",
          "BakingIngredients",
          "BakingIngredients",
          "BakingIngredients",
          "BakingIngredients",
          "BakingIngredients",
          "BakingIngredients",
          "BakingIngredients",
          "BakingIngredients",
          "BakingIngredients",
          "BakingIngredients",
          "BakingIngredients",
          "BakingIngredients",
          "BakingIngredients",
          "BakingIngredients",
          "BakingIngredients",
          "BakingIngredients",
          "BakingIngredients",
          "BakingIngredients",
          "BakingIngredients",
          "BakingIngredients",
          "BakingIngredients",
          "BakingIngredients",
          "BakingIngredients",
          "BakingIngredients",
          "BakingIngredients",
          "BakingIngredients",
          "BakingIngredients",
          "BakingIngredients",
          "BakingIngredients",
          "BakingIngredients",
          "BakingIngredients",
          "BakingIngredients",
          "BakingIngredients",
          "BakingIngredients",
          "BakingIngredients",
          "BakingIngredients",
          "BakingIngredients",
          "BakingIngredients",
          "BakingIngredients",
          "BakingIngredients",
          "BakingIngredients",
          "BakingIngredients",
          "BakingIngredients",
          "BakingIngredients",
          "BakingIngredients",
          "BakingIngredients",
          "BakingIngredients",
          "BakingIngredients",
          "BakingIngredients",
          "BakingIngredients",
          "BakingIngredients",
          "BakingIngredients",
          "BakingIngredients",
          "BakingIngredients",
          "BakingIngredients",
          "BakingIngredients",
          "BakingIngredients",
          "BakingIngredients",
          "BakingIngredients",
          "BakingIngredients",
          "BakingIngredients",
          "BakingIngredients",
          "BakingIngredients",
          "BakingIngredients",
          "BakingIngredients",
          "BakingIngredients",
          "BakingIngredients",
          "BakingIngredients",
          "BakingIngredients",
          "BakingIngredients",
          "BakingIngredients",
          "BakingIngredients",
          "BakingIngredients",
          "BakingIngredients",
          "BakingIngredients",
          "BakingIngredients",
          "BakingIngredients",
          "Fish&Seafood",
          "Fish&Seafood",
          "Fish&Seafood",
          "Fish&Seafood",
          "Fish&Seafood",
          "Fish&Seafood",
          "Fish&Seafood",
          "Fish&Seafood",
          "Fish&Seafood",
          "Fish&Seafood",
          "Fish&Seafood",
          "Fish&Seafood",
          "Fish&Seafood",
          "Fish&Seafood",
          "Fish&Seafood",
          "Fish&Seafood",
          "Fish&Seafood",
          "Fish&Seafood",
          "Fish&Seafood",
          "Fish&Seafood",
          "Fish&Seafood",
          "Fish&Seafood",
          "Fish&Seafood",
          "Fish&Seafood",
          "Fish&Seafood",
          "Fish&Seafood",
          "Fish&Seafood",
          "Fish&Seafood",
          "Fish&Seafood",
          "Fish&Seafood",
          "Fish&Seafood",
          "Fish&Seafood",
          "Fish&Seafood",
          "Fish&Seafood",
          "Fish&Seafood",
          "Fish&Seafood",
          "Fish&Seafood",
          "Fish&Seafood",
          "Fish&Seafood",
          "Fish&Seafood",
          "Fish&Seafood",
          "Fish&Seafood",
          "Fish&Seafood",
          "Fish&Seafood",
          "Fish&Seafood",
          "Fish&Seafood",
          "Fish&Seafood",
          "Fish&Seafood",
          "Fish&Seafood",
          "Fish&Seafood",
          "Fish&Seafood",
          "Fish&Seafood",
          "Fish&Seafood",
          "Fish&Seafood",
          "Fish&Seafood",
          "Fish&Seafood",
          "Fish&Seafood",
          "Fish&Seafood",
          "Fish&Seafood",
          "Fish&Seafood",
          "Herbs&Spices",
          "Herbs&Spices",
          "Herbs&Spices",
          "Herbs&Spices",
          "Herbs&Spices",
          "Herbs&Spices",
          "Herbs&Spices",
          "Herbs&Spices",
          "Herbs&Spices",
          "Herbs&Spices",
          "Herbs&Spices",
          "Herbs&Spices",
          "Herbs&Spices",
          "Herbs&Spices",
          "Herbs&Spices",
          "Herbs&Spices",
          "Herbs&Spices",
          "Herbs&Spices",
          "Herbs&Spices",
          "Herbs&Spices",
          "Herbs&Spices",
          "Herbs&Spices",
          "Herbs&Spices",
          "Herbs&Spices",
          "Herbs&Spices",
          "Herbs&Spices",
          "Herbs&Spices",
          "Herbs&Spices",
          "Herbs&Spices",
          "Herbs&Spices",
          "Herbs&Spices",
          "Herbs&Spices",
          "Herbs&Spices",
          "Herbs&Spices",
          "Herbs&Spices",
          "Herbs&Spices",
          "Herbs&Spices",
          "Herbs&Spices",
          "Herbs&Spices",
          "Herbs&Spices",
          "Herbs&Spices",
          "Herbs&Spices",
          "Herbs&Spices",
          "Herbs&Spices",
          "Herbs&Spices",
          "Herbs&Spices",
          "Herbs&Spices",
          "Herbs&Spices",
          "Herbs&Spices",
          "Herbs&Spices",
          "Herbs&Spices",
          "Herbs&Spices",
          "Herbs&Spices",
          "Herbs&Spices",
          "Herbs&Spices",
          "Herbs&Spices",
          "Herbs&Spices",
          "Herbs&Spices",
          "Herbs&Spices",
          "Herbs&Spices",
          "Herbs&Spices",
          "Herbs&Spices",
          "Herbs&Spices",
          "Herbs&Spices",
          "Herbs&Spices",
          "Herbs&Spices",
          "Herbs&Spices",
          "Herbs&Spices",
          "Herbs&Spices",
          "Herbs&Spices",
          "Herbs&Spices",
          "Herbs&Spices",
          "Herbs&Spices",
          "Herbs&Spices",
          "Herbs&Spices",
          "Herbs&Spices",
          "Herbs&Spices",
          "Herbs&Spices",
          "Herbs&Spices",
          "Herbs&Spices",
          "Herbs&Spices",
          "Herbs&Spices",
          "Herbs&Spices",
          "Herbs&Spices",
          "Herbs&Spices",
          "Herbs&Spices",
          "Herbs&Spices",
          "Herbs&Spices",
          "Herbs&Spices",
          "Herbs&Spices",
          "Pastries,Breads&Rolls",
          "Pastries,Breads&Rolls",
          "Pastries,Breads&Rolls",
          "Pastries,Breads&Rolls",
          "Pastries,Breads&Rolls",
          "Pastries,Breads&Rolls",
          "Pastries,Breads&Rolls",
          "Pastries,Breads&Rolls",
          "Pastries,Breads&Rolls",
          "Pastries,Breads&Rolls",
          "Pastries,Breads&Rolls",
          "Pastries,Breads&Rolls",
          "Pastries,Breads&Rolls",
          "Pastries,Breads&Rolls",
          "Pastries,Breads&Rolls",
          "Pastries,Breads&Rolls",
          "Pastries,Breads&Rolls",
          "Pastries,Breads&Rolls",
          "Pastries,Breads&Rolls",
          "Pastries,Breads&Rolls",
          "Pastries,Breads&Rolls",
          "Pastries,Breads&Rolls",
          "Pastries,Breads&Rolls",
          "Pastries,Breads&Rolls",
          "Pastries,Breads&Rolls",
          "Pastries,Breads&Rolls",
          "Pastries,Breads&Rolls",
          "Pastries,Breads&Rolls",
          "Pastries,Breads&Rolls",
          "Pastries,Breads&Rolls",
          "Pastries,Breads&Rolls",
          "Pastries,Breads&Rolls",
          "Pastries,Breads&Rolls",
          "Pastries,Breads&Rolls",
          "Pastries,Breads&Rolls",
          "Pastries,Breads&Rolls",
          "Pastries,Breads&Rolls",
          "Pastries,Breads&Rolls",
          "Pastries,Breads&Rolls",
          "Pastries,Breads&Rolls",
          "Pastries,Breads&Rolls",
          "Pastries,Breads&Rolls",
          "Pastries,Breads&Rolls",
          "Pastries,Breads&Rolls",
          "Pastries,Breads&Rolls",
          "Pastries,Breads&Rolls",
          "Pastries,Breads&Rolls",
          "Pastries,Breads&Rolls",
          "Pastries,Breads&Rolls",
          "Pastries,Breads&Rolls",
          "Pastries,Breads&Rolls",
          "Pastries,Breads&Rolls",
          "Pastries,Breads&Rolls",
          "Pastries,Breads&Rolls",
          "Pastries,Breads&Rolls",
          "Pastries,Breads&Rolls",
          "Pastries,Breads&Rolls",
          "Pastries,Breads&Rolls",
          "Pastries,Breads&Rolls",
          "Pastries,Breads&Rolls",
          "Pastries,Breads&Rolls",
          "Pastries,Breads&Rolls",
          "Pastries,Breads&Rolls",
          "Pastries,Breads&Rolls",
          "Pastries,Breads&Rolls",
          "Pastries,Breads&Rolls",
          "Pastries,Breads&Rolls",
          "Pastries,Breads&Rolls",
          "Pastries,Breads&Rolls",
          "Pastries,Breads&Rolls",
          "Pastries,Breads&Rolls",
          "Pastries,Breads&Rolls",
          "Pastries,Breads&Rolls",
          "Pastries,Breads&Rolls",
          "Pastries,Breads&Rolls",
          "Pastries,Breads&Rolls",
          "Pastries,Breads&Rolls",
          "Pastries,Breads&Rolls",
          "Sauces&Dressings",
          "Sauces&Dressings",
          "Sauces&Dressings",
          "Sauces&Dressings",
          "Sauces&Dressings",
          "Sauces&Dressings",
          "Sauces&Dressings",
          "Sauces&Dressings",
          "Sauces&Dressings",
          "Sauces&Dressings",
          "Sauces&Dressings",
          "Sauces&Dressings",
          "Sauces&Dressings",
          "Sauces&Dressings",
          "Sauces&Dressings",
          "Sauces&Dressings",
          "Sauces&Dressings",
          "Sauces&Dressings",
          "Sauces&Dressings",
          "Sauces&Dressings",
          "Sauces&Dressings",
          "Sauces&Dressings",
          "Sauces&Dressings",
          "Sauces&Dressings",
          "Sauces&Dressings",
          "Sauces&Dressings",
          "Sauces&Dressings",
          "Sauces&Dressings",
          "Sauces&Dressings",
          "Sauces&Dressings",
          "Sauces&Dressings",
          "Sauces&Dressings",
          "Sauces&Dressings",
          "Sauces&Dressings",
          "Sauces&Dressings",
          "Sauces&Dressings",
          "Sauces&Dressings",
          "Sauces&Dressings",
          "Sauces&Dressings",
          "Sauces&Dressings",
          "Sauces&Dressings",
          "Sauces&Dressings",
          "Sauces&Dressings",
          "Sauces&Dressings",
          "Sauces&Dressings",
          "Sauces&Dressings",
          "Sauces&Dressings",
          "Sauces&Dressings",
          "Sauces&Dressings",
          "Sauces&Dressings",
          "Sauces&Dressings",
          "Sauces&Dressings",
          "Sauces&Dressings",
          "Sauces&Dressings",
          "Spreads",
          "Spreads",
          "Spreads",
          "Spreads",
          "Spreads",
          "Spreads",
          "Spreads",
          "Spreads",
          "Spreads",
          "Spreads",
          "Spreads",
          "Spreads",
          "Spreads",
          "Spreads",
          "Spreads",
          "Spreads",
          "Spreads",
          "Spreads",
          "Spreads",
          "Spreads",
          "Spreads",
          "Spreads",
          "Spreads",
          "Spreads",
          "Spreads",
          "Spreads",
          "Spreads",
          "Spreads",
          "Spreads",
          "Spreads",
          "Spreads",
          "Spreads",
          "Spreads",
          "Spreads",
          "Spreads",
          "Spreads",
          "Spreads",
          "Spreads",
          "Spreads"
         ],
         "xaxis": "x",
         "y": [
          62,
          48,
          92,
          88,
          54,
          178,
          53,
          107,
          81,
          50,
          73,
          37,
          76,
          71,
          65,
          73,
          71,
          81,
          62,
          54,
          35,
          60,
          58,
          91,
          53,
          114,
          92,
          61,
          243,
          70,
          52,
          68,
          48,
          160,
          89,
          43,
          50,
          57,
          34,
          50,
          47,
          46,
          56,
          101,
          282,
          74,
          50,
          69,
          41,
          68,
          95,
          79,
          61,
          29,
          30,
          66,
          53,
          60,
          64,
          43,
          44,
          115,
          47,
          43,
          97,
          39,
          57,
          127,
          49,
          50,
          122,
          46,
          83,
          57,
          299,
          82,
          52,
          21,
          31,
          32,
          239,
          53,
          30,
          32,
          42,
          160,
          89,
          103,
          34,
          28,
          75,
          60,
          147,
          55,
          23,
          42,
          68,
          36,
          95,
          61,
          71,
          66,
          53,
          60,
          73,
          97,
          165,
          34,
          53,
          97,
          50,
          42,
          122,
          83,
          38,
          41,
          82,
          83,
          66,
          31,
          239,
          30,
          61,
          93,
          87,
          160,
          127,
          124,
          124,
          82,
          312,
          312,
          133,
          87,
          424,
          89,
          89,
          154,
          77,
          124,
          185,
          132,
          268,
          143,
          331,
          522,
          167,
          123,
          132,
          72,
          89,
          89,
          149,
          93,
          138,
          97,
          67,
          92,
          94,
          116,
          82,
          47,
          25,
          20,
          25,
          43,
          20,
          115,
          34,
          43,
          25,
          27,
          41,
          25,
          16,
          19,
          100,
          72,
          16,
          30,
          32,
          365,
          17,
          74,
          16,
          25,
          17,
          31,
          149,
          14,
          14,
          31,
          115,
          32,
          48,
          49,
          27,
          86,
          61,
          15,
          22,
          27,
          35,
          33,
          115,
          40,
          75,
          81,
          27,
          77,
          26,
          16,
          31,
          38,
          72,
          23,
          45,
          86,
          18,
          20,
          28,
          109,
          34,
          17,
          210,
          208,
          234,
          234,
          212,
          200,
          223,
          333,
          255,
          239,
          249,
          301,
          259,
          269,
          231,
          234,
          241,
          263,
          163,
          147,
          302,
          296,
          141,
          241,
          138,
          324,
          172,
          311,
          267,
          250,
          335,
          282,
          195,
          273,
          312,
          88,
          241,
          254,
          269,
          183,
          132,
          256,
          263,
          297,
          282,
          275,
          251,
          252,
          225,
          265,
          308,
          265,
          161,
          306,
          411,
          158,
          219,
          131,
          271,
          86,
          104,
          181,
          138,
          390,
          304,
          261,
          225,
          321,
          231,
          256,
          256,
          227,
          234,
          224,
          304,
          246,
          252,
          235,
          231,
          260,
          267,
          234,
          265,
          224,
          221,
          219,
          226,
          115,
          275,
          249,
          212,
          202,
          169,
          255,
          228,
          255,
          248,
          247,
          248,
          192,
          255,
          246,
          245,
          209,
          241,
          242,
          234,
          255,
          253,
          261,
          254,
          256,
          256,
          231,
          246,
          148,
          410,
          392,
          333,
          353,
          334,
          300,
          403,
          228,
          290,
          276,
          387,
          394,
          394,
          98,
          393,
          357,
          357,
          264,
          389,
          280,
          466,
          364,
          350,
          356,
          431,
          350,
          413,
          321,
          371,
          397,
          352,
          344,
          320,
          373,
          373,
          280,
          368,
          253,
          431,
          387,
          351,
          357,
          174,
          387,
          369,
          364,
          268,
          393,
          250,
          380,
          403,
          389,
          342,
          98,
          342,
          342,
          342,
          342,
          364,
          48,
          450,
          303,
          342,
          342,
          342,
          342,
          342,
          342,
          342,
          17,
          62,
          225,
          230,
          195,
          321,
          98,
          242,
          393,
          98,
          122,
          135,
          69,
          89,
          55,
          52,
          75,
          61,
          61,
          496,
          145,
          49,
          118,
          50,
          67,
          35,
          181,
          45,
          321,
          117,
          257,
          61,
          61,
          148,
          410,
          418,
          388,
          403,
          357,
          356,
          394,
          394,
          246,
          357,
          357,
          357,
          357,
          322,
          388,
          280,
          356,
          356,
          371,
          321,
          284,
          284,
          344,
          373,
          280,
          368,
          100,
          148,
          410,
          340,
          148,
          403,
          356,
          74,
          100,
          97,
          85,
          42,
          109,
          105,
          97,
          128,
          124,
          90,
          54,
          97,
          53,
          63,
          100,
          75,
          97,
          61,
          80,
          56,
          139,
          100,
          101,
          61,
          119,
          90,
          100,
          100,
          100,
          100,
          100,
          100,
          100,
          100,
          100,
          100,
          100,
          100,
          100,
          171,
          137,
          189,
          123,
          133,
          213,
          271,
          247,
          404,
          196,
          182,
          854,
          902,
          319,
          94,
          141,
          137,
          207,
          194,
          241,
          250,
          212,
          143,
          247,
          217,
          187,
          171,
          205,
          191,
          117,
          221,
          282,
          282,
          211,
          175,
          177,
          183,
          204,
          217,
          343,
          375,
          126,
          247,
          178,
          110,
          79,
          180,
          455,
          251,
          268,
          145,
          164,
          157,
          188,
          122,
          326,
          232,
          104,
          345,
          133,
          494,
          265,
          247,
          195,
          267,
          336,
          300,
          107,
          104,
          298,
          284,
          104,
          126,
          152,
          232,
          248,
          242,
          410,
          238,
          218,
          219,
          172,
          185,
          898,
          158,
          146,
          174,
          167,
          172,
          229,
          266,
          277,
          199,
          337,
          267,
          194,
          137,
          246,
          246,
          163,
          199,
          145,
          196,
          212,
          196,
          247,
          204,
          254,
          196,
          140,
          182,
          156,
          238,
          333,
          202,
          189,
          135,
          208,
          189,
          221,
          196,
          165,
          158,
          191,
          120,
          271,
          284,
          136,
          192,
          104,
          256,
          277,
          185,
          172,
          148,
          233,
          136,
          133,
          157,
          138,
          148,
          151,
          99,
          165,
          219,
          271,
          173,
          174,
          189,
          148,
          186,
          163,
          202,
          407,
          309,
          107,
          233,
          263,
          250,
          898,
          89,
          261,
          166,
          638,
          396,
          243,
          407,
          518,
          232,
          123,
          133,
          212,
          131,
          131,
          201,
          143,
          243,
          73,
          159,
          292,
          194,
          339,
          172,
          269,
          232,
          250,
          241,
          286,
          286,
          339,
          396,
          238,
          229,
          219,
          172,
          185,
          154,
          174,
          229,
          266,
          259,
          213,
          337,
          201,
          152,
          305,
          158,
          145,
          145,
          239,
          133,
          239,
          142,
          200,
          227,
          123,
          160,
          189,
          135,
          189,
          208,
          208,
          189,
          221,
          211,
          232,
          407,
          379,
          379,
          301,
          104,
          247,
          194,
          297,
          157,
          339,
          374,
          79,
          79,
          81,
          455,
          133,
          153,
          250,
          305,
          169,
          278,
          259,
          149,
          410,
          309,
          307,
          352,
          282,
          319,
          326,
          117,
          310,
          311,
          133,
          494,
          301,
          247,
          302,
          195,
          286,
          336,
          230,
          301,
          157,
          315,
          313,
          104,
          232,
          150,
          259,
          212,
          171,
          171,
          171,
          131,
          131,
          159,
          238,
          238,
          202,
          202,
          211,
          211,
          134,
          134,
          234,
          234,
          175,
          175,
          239,
          239,
          197,
          255,
          255,
          200,
          200,
          173,
          173,
          164,
          158,
          160,
          160,
          258,
          252,
          198,
          156,
          156,
          237,
          274,
          348,
          358,
          247,
          430,
          395,
          465,
          381,
          264,
          234,
          377,
          232,
          370,
          380,
          475,
          408,
          321,
          260,
          411,
          389,
          304,
          260,
          260,
          420,
          356,
          331,
          334,
          441,
          305,
          374,
          403,
          403,
          145,
          509,
          412,
          324,
          307,
          370,
          356,
          200,
          359,
          377,
          402,
          352,
          268,
          394,
          339,
          285,
          320,
          336,
          227,
          360,
          294,
          65,
          223,
          407,
          319,
          109,
          394,
          390,
          334,
          558,
          298,
          340,
          243,
          240,
          367,
          245,
          351,
          352,
          289,
          327,
          230,
          281,
          260,
          439,
          210,
          283,
          291,
          369,
          246,
          180,
          257,
          312,
          381,
          400,
          452,
          375,
          571,
          451,
          446,
          469,
          450,
          238,
          152,
          423,
          423,
          360,
          400,
          376,
          367,
          490,
          533,
          529,
          533,
          493,
          488,
          643,
          196,
          440,
          576,
          486,
          214,
          452,
          321,
          316,
          541,
          471,
          354,
          354,
          385,
          429,
          521,
          372,
          375,
          500,
          548,
          375,
          392,
          479,
          498,
          448,
          318,
          411,
          360,
          422,
          449,
          462,
          533,
          183,
          379,
          475,
          500,
          427,
          358,
          582,
          560,
          536,
          134,
          452,
          474,
          500,
          340,
          405,
          357,
          500,
          484,
          363,
          469,
          500,
          476,
          525,
          186,
          495,
          272,
          400,
          239,
          228,
          248,
          212,
          215,
          216,
          109,
          236,
          232,
          200,
          174,
          186,
          224,
          257,
          255,
          201,
          212,
          125,
          186,
          237,
          142,
          159,
          230,
          300,
          315,
          355,
          380,
          341,
          297,
          153,
          186,
          120,
          239,
          257,
          246,
          198,
          360,
          222,
          100,
          236,
          158,
          215,
          271,
          162,
          201,
          58,
          44,
          46,
          56,
          50,
          48,
          54,
          41,
          40,
          0,
          45,
          60,
          233,
          19,
          71,
          67,
          71,
          46,
          10,
          48,
          87,
          110,
          60,
          46,
          21,
          50,
          21,
          128,
          66,
          21,
          46,
          58,
          48,
          54,
          54,
          60,
          60,
          53,
          50,
          71,
          66,
          14,
          43,
          17,
          21,
          75,
          348,
          283,
          310,
          233,
          138,
          327,
          327,
          43,
          243,
          233,
          213,
          216,
          348,
          75,
          49,
          235,
          320,
          358,
          238,
          263,
          230,
          253,
          233,
          146,
          250,
          222,
          180,
          250,
          250,
          267,
          66,
          62,
          85,
          71,
          231,
          333,
          96,
          222,
          116,
          332,
          247,
          110,
          153,
          130,
          231,
          250,
          82,
          83,
          35,
          43,
          45,
          39,
          43,
          48,
          50,
          21,
          35,
          29,
          43,
          34,
          28,
          15,
          41,
          52,
          37,
          27,
          17,
          32,
          26,
          44,
          42,
          29,
          18,
          42,
          46,
          46,
          42,
          35,
          35,
          42,
          39,
          51,
          40,
          29,
          43,
          43,
          43,
          42,
          29,
          45,
          37,
          47,
          44,
          32,
          27,
          26,
          27,
          31,
          40,
          40,
          31,
          27,
          36,
          28,
          42,
          44,
          27,
          39,
          37,
          19,
          41,
          16,
          45,
          41,
          42,
          43,
          54,
          45,
          37,
          30,
          41,
          45,
          47,
          50,
          62,
          74,
          42,
          63,
          51,
          51,
          55,
          64,
          45,
          44,
          24,
          0,
          0,
          89,
          125,
          30,
          42,
          1,
          1,
          42,
          263,
          1,
          94,
          88,
          29,
          0,
          23,
          0,
          31,
          49,
          54,
          89,
          27,
          27,
          37,
          13,
          26,
          104,
          57,
          42,
          37,
          61,
          329,
          409,
          53,
          36,
          37,
          16,
          4,
          50,
          37,
          45,
          113,
          381,
          0,
          1,
          149,
          0,
          0,
          62,
          44,
          46,
          34,
          41,
          44,
          42,
          0,
          1,
          1,
          0,
          0,
          0,
          53,
          27,
          39,
          0,
          35,
          0,
          110,
          20,
          25,
          25,
          35,
          27,
          44,
          26,
          42,
          49,
          46,
          2,
          42,
          48,
          44,
          40,
          120,
          38,
          53,
          37,
          0,
          44,
          25,
          48,
          0,
          35,
          45,
          77,
          76,
          76,
          85,
          80,
          256,
          85,
          78,
          82,
          82,
          100,
          83,
          83,
          76,
          196,
          83,
          75,
          163,
          160,
          71,
          85,
          85,
          80,
          80,
          71,
          132,
          81,
          116,
          71,
          190,
          81,
          82,
          83,
          108,
          82,
          88,
          83,
          71,
          88,
          371,
          354,
          100,
          388,
          343,
          346,
          274,
          362,
          381,
          376,
          502,
          397,
          534,
          520,
          370,
          408,
          337,
          378,
          372,
          46,
          246,
          352,
          366,
          527,
          380,
          368,
          410,
          281,
          354,
          347,
          502,
          338,
          177,
          360,
          584,
          237,
          499,
          216,
          382,
          325,
          360,
          351,
          339,
          375,
          356,
          404,
          347,
          387,
          367,
          380,
          433,
          376,
          386,
          367,
          400,
          400,
          357,
          377,
          407,
          402,
          364,
          600,
          600,
          267,
          379,
          393,
          367,
          353,
          367,
          400,
          400,
          362,
          393,
          370,
          397,
          391,
          377,
          357,
          367,
          372,
          375,
          406,
          51,
          353,
          336,
          380,
          351,
          421,
          375,
          431,
          322,
          347,
          367,
          383,
          367,
          344,
          375,
          400,
          322,
          355,
          355,
          367,
          359,
          387,
          394,
          367,
          340,
          351,
          371,
          377,
          388,
          375,
          345,
          379,
          361,
          400,
          353,
          358,
          378,
          367,
          146,
          353,
          164,
          351,
          291,
          274,
          99,
          397,
          384,
          358,
          353,
          352,
          192,
          271,
          357,
          282,
          370,
          357,
          184,
          370,
          357,
          351,
          370,
          200,
          77,
          353,
          353,
          353,
          18,
          216,
          368,
          370,
          314,
          367,
          370,
          291,
          368,
          347,
          351,
          352,
          259,
          252,
          94,
          164,
          255,
          95,
          176,
          253,
          323,
          247,
          362,
          163,
          140,
          93,
          127,
          151,
          96,
          110,
          223,
          81,
          105,
          232,
          118,
          28,
          250,
          164,
          139,
          330,
          201,
          193,
          66,
          168,
          117,
          195,
          186,
          277,
          288,
          241,
          177,
          100,
          215,
          132,
          370,
          370,
          83,
          242,
          254,
          310,
          259,
          150,
          156,
          325,
          75,
          408,
          225,
          250,
          267,
          225,
          143,
          211,
          447,
          203,
          208,
          111,
          198,
          214,
          350,
          297,
          70,
          464,
          71,
          154,
          132,
          250,
          250,
          217,
          113,
          553,
          25,
          133,
          3,
          34,
          33,
          16,
          87,
          87,
          28,
          25,
          25,
          4,
          16,
          23,
          25,
          16,
          31,
          24,
          35,
          45,
          37,
          48,
          39,
          44,
          30,
          23,
          23,
          65,
          1009,
          436,
          56,
          100,
          49,
          34,
          35,
          34,
          23,
          28,
          75,
          80,
          29,
          436,
          33,
          115,
          60,
          47,
          30,
          31,
          5,
          28,
          5,
          53,
          124,
          27,
          76,
          30,
          364,
          341,
          364,
          341,
          353,
          612,
          364,
          97,
          230,
          271,
          91,
          70,
          85,
          271,
          31,
          347,
          257,
          337,
          353,
          71,
          210,
          199,
          12,
          212,
          337,
          77,
          33,
          567,
          42,
          691,
          347,
          345,
          140,
          124,
          337,
          329,
          91,
          471,
          55,
          61,
          235,
          322,
          562,
          471,
          66,
          235,
          147,
          562,
          42,
          48,
          193,
          571,
          333,
          76,
          336,
          38,
          304,
          176,
          387,
          23,
          575,
          576,
          656,
          191,
          612,
          553,
          213,
          486,
          354,
          506,
          534,
          182,
          409,
          628,
          657,
          71,
          89,
          718,
          567,
          81,
          691,
          691,
          719,
          673,
          347,
          562,
          525,
          559,
          43,
          517,
          573,
          575,
          147,
          584,
          194,
          654,
          30,
          882,
          857,
          720,
          884,
          857,
          1000,
          800,
          882,
          884,
          120,
          898,
          884,
          807,
          902,
          357,
          902,
          819,
          717,
          884,
          884,
          882,
          857,
          720,
          889,
          857,
          902,
          884,
          889,
          884,
          889,
          882,
          889,
          896,
          857,
          884,
          884,
          857,
          800,
          882,
          884,
          884,
          889,
          837,
          911,
          884,
          884,
          800,
          882,
          882,
          857,
          884,
          880,
          889,
          857,
          911,
          889,
          884,
          882,
          884,
          884,
          800,
          889,
          929,
          26,
          310,
          364,
          258,
          529,
          100,
          53,
          0,
          361,
          592,
          395,
          62,
          539,
          362,
          97,
          387,
          467,
          500,
          228,
          456,
          50,
          361,
          281,
          362,
          381,
          600,
          54,
          258,
          335,
          337,
          216,
          375,
          241,
          308,
          249,
          107,
          185,
          97,
          88,
          13,
          322,
          134,
          364,
          368,
          335,
          286,
          387,
          387,
          247,
          628,
          345,
          383,
          143,
          361,
          405,
          210,
          375,
          344,
          270,
          290,
          475,
          0,
          525,
          496,
          389,
          411,
          474,
          49,
          625,
          384,
          246,
          350,
          573,
          501,
          375,
          41,
          338,
          500,
          381,
          278,
          387,
          405,
          117,
          321,
          360,
          717,
          288,
          357,
          884,
          884,
          131,
          61,
          340,
          240,
          325,
          131,
          159,
          135,
          187,
          175,
          162,
          264,
          148,
          105,
          82,
          87,
          236,
          290,
          290,
          86,
          118,
          90,
          71,
          111,
          203,
          121,
          217,
          109,
          89,
          262,
          190,
          97,
          150,
          172,
          164,
          111,
          262,
          113,
          91,
          111,
          128,
          94,
          171,
          206,
          208,
          111,
          84,
          124,
          252,
          130,
          124,
          86,
          92,
          135,
          150,
          172,
          93,
          190,
          132,
          187,
          122,
          167,
          172,
          116,
          84,
          374,
          337,
          337,
          65,
          25,
          88,
          233,
          251,
          573,
          100,
          23,
          333,
          311,
          160,
          318,
          19,
          23,
          72,
          282,
          282,
          30,
          21,
          23,
          247,
          274,
          23,
          258,
          32,
          335,
          375,
          375,
          325,
          45,
          43,
          43,
          31,
          345,
          323,
          149,
          331,
          0,
          80,
          93,
          335,
          48,
          318,
          0,
          13,
          45,
          99,
          375,
          104,
          271,
          40,
          70,
          508,
          525,
          33,
          40,
          341,
          97,
          265,
          282,
          36,
          75,
          251,
          525,
          307,
          342,
          251,
          19,
          131,
          310,
          315,
          0,
          272,
          0,
          32,
          573,
          0,
          239,
          112,
          295,
          276,
          354,
          250,
          288,
          18,
          296,
          118,
          237,
          348,
          257,
          274,
          326,
          326,
          227,
          269,
          250,
          270,
          153,
          400,
          346,
          246,
          405,
          316,
          254,
          385,
          283,
          240,
          271,
          436,
          418,
          353,
          179,
          224,
          406,
          178,
          305,
          421,
          209,
          335,
          227,
          311,
          249,
          350,
          279,
          271,
          189,
          351,
          290,
          296,
          265,
          275,
          450,
          435,
          293,
          233,
          293,
          318,
          268,
          237,
          275,
          266,
          338,
          338,
          558,
          250,
          274,
          316,
          264,
          259,
          304,
          251,
          362,
          544,
          290,
          204,
          289,
          246,
          332,
          333,
          313,
          261,
          297,
          265,
          238,
          247,
          370,
          18,
          36,
          290,
          150,
          225,
          414,
          533,
          106,
          533,
          429,
          282,
          45,
          112,
          180,
          124,
          26,
          60,
          53,
          467,
          383,
          52,
          535,
          464,
          48,
          293,
          100,
          692,
          60,
          645,
          179,
          458,
          510,
          635,
          400,
          449,
          21,
          464,
          595,
          217,
          60,
          67,
          179,
          70,
          89,
          155,
          82,
          38,
          24,
          94,
          120,
          78,
          45,
          267,
          614,
          173,
          68,
          250,
          250,
          250,
          250,
          290,
          250,
          287,
          541,
          342,
          97,
          255,
          304,
          278,
          580,
          305,
          717,
          225,
          666,
          544,
          550,
          319,
          589,
          609,
          342,
          250,
          717,
          594,
          250,
          250,
          250,
          617,
          617,
          233,
          717,
          180,
          286
         ],
         "yaxis": "y"
        }
       ],
       "layout": {
        "barmode": "relative",
        "legend": {
         "tracegroupgap": 0
        },
        "template": {
         "data": {
          "bar": [
           {
            "error_x": {
             "color": "#2a3f5f"
            },
            "error_y": {
             "color": "#2a3f5f"
            },
            "marker": {
             "line": {
              "color": "#E5ECF6",
              "width": 0.5
             },
             "pattern": {
              "fillmode": "overlay",
              "size": 10,
              "solidity": 0.2
             }
            },
            "type": "bar"
           }
          ],
          "barpolar": [
           {
            "marker": {
             "line": {
              "color": "#E5ECF6",
              "width": 0.5
             },
             "pattern": {
              "fillmode": "overlay",
              "size": 10,
              "solidity": 0.2
             }
            },
            "type": "barpolar"
           }
          ],
          "carpet": [
           {
            "aaxis": {
             "endlinecolor": "#2a3f5f",
             "gridcolor": "white",
             "linecolor": "white",
             "minorgridcolor": "white",
             "startlinecolor": "#2a3f5f"
            },
            "baxis": {
             "endlinecolor": "#2a3f5f",
             "gridcolor": "white",
             "linecolor": "white",
             "minorgridcolor": "white",
             "startlinecolor": "#2a3f5f"
            },
            "type": "carpet"
           }
          ],
          "choropleth": [
           {
            "colorbar": {
             "outlinewidth": 0,
             "ticks": ""
            },
            "type": "choropleth"
           }
          ],
          "contour": [
           {
            "colorbar": {
             "outlinewidth": 0,
             "ticks": ""
            },
            "colorscale": [
             [
              0,
              "#0d0887"
             ],
             [
              0.1111111111111111,
              "#46039f"
             ],
             [
              0.2222222222222222,
              "#7201a8"
             ],
             [
              0.3333333333333333,
              "#9c179e"
             ],
             [
              0.4444444444444444,
              "#bd3786"
             ],
             [
              0.5555555555555556,
              "#d8576b"
             ],
             [
              0.6666666666666666,
              "#ed7953"
             ],
             [
              0.7777777777777778,
              "#fb9f3a"
             ],
             [
              0.8888888888888888,
              "#fdca26"
             ],
             [
              1,
              "#f0f921"
             ]
            ],
            "type": "contour"
           }
          ],
          "contourcarpet": [
           {
            "colorbar": {
             "outlinewidth": 0,
             "ticks": ""
            },
            "type": "contourcarpet"
           }
          ],
          "heatmap": [
           {
            "colorbar": {
             "outlinewidth": 0,
             "ticks": ""
            },
            "colorscale": [
             [
              0,
              "#0d0887"
             ],
             [
              0.1111111111111111,
              "#46039f"
             ],
             [
              0.2222222222222222,
              "#7201a8"
             ],
             [
              0.3333333333333333,
              "#9c179e"
             ],
             [
              0.4444444444444444,
              "#bd3786"
             ],
             [
              0.5555555555555556,
              "#d8576b"
             ],
             [
              0.6666666666666666,
              "#ed7953"
             ],
             [
              0.7777777777777778,
              "#fb9f3a"
             ],
             [
              0.8888888888888888,
              "#fdca26"
             ],
             [
              1,
              "#f0f921"
             ]
            ],
            "type": "heatmap"
           }
          ],
          "heatmapgl": [
           {
            "colorbar": {
             "outlinewidth": 0,
             "ticks": ""
            },
            "colorscale": [
             [
              0,
              "#0d0887"
             ],
             [
              0.1111111111111111,
              "#46039f"
             ],
             [
              0.2222222222222222,
              "#7201a8"
             ],
             [
              0.3333333333333333,
              "#9c179e"
             ],
             [
              0.4444444444444444,
              "#bd3786"
             ],
             [
              0.5555555555555556,
              "#d8576b"
             ],
             [
              0.6666666666666666,
              "#ed7953"
             ],
             [
              0.7777777777777778,
              "#fb9f3a"
             ],
             [
              0.8888888888888888,
              "#fdca26"
             ],
             [
              1,
              "#f0f921"
             ]
            ],
            "type": "heatmapgl"
           }
          ],
          "histogram": [
           {
            "marker": {
             "pattern": {
              "fillmode": "overlay",
              "size": 10,
              "solidity": 0.2
             }
            },
            "type": "histogram"
           }
          ],
          "histogram2d": [
           {
            "colorbar": {
             "outlinewidth": 0,
             "ticks": ""
            },
            "colorscale": [
             [
              0,
              "#0d0887"
             ],
             [
              0.1111111111111111,
              "#46039f"
             ],
             [
              0.2222222222222222,
              "#7201a8"
             ],
             [
              0.3333333333333333,
              "#9c179e"
             ],
             [
              0.4444444444444444,
              "#bd3786"
             ],
             [
              0.5555555555555556,
              "#d8576b"
             ],
             [
              0.6666666666666666,
              "#ed7953"
             ],
             [
              0.7777777777777778,
              "#fb9f3a"
             ],
             [
              0.8888888888888888,
              "#fdca26"
             ],
             [
              1,
              "#f0f921"
             ]
            ],
            "type": "histogram2d"
           }
          ],
          "histogram2dcontour": [
           {
            "colorbar": {
             "outlinewidth": 0,
             "ticks": ""
            },
            "colorscale": [
             [
              0,
              "#0d0887"
             ],
             [
              0.1111111111111111,
              "#46039f"
             ],
             [
              0.2222222222222222,
              "#7201a8"
             ],
             [
              0.3333333333333333,
              "#9c179e"
             ],
             [
              0.4444444444444444,
              "#bd3786"
             ],
             [
              0.5555555555555556,
              "#d8576b"
             ],
             [
              0.6666666666666666,
              "#ed7953"
             ],
             [
              0.7777777777777778,
              "#fb9f3a"
             ],
             [
              0.8888888888888888,
              "#fdca26"
             ],
             [
              1,
              "#f0f921"
             ]
            ],
            "type": "histogram2dcontour"
           }
          ],
          "mesh3d": [
           {
            "colorbar": {
             "outlinewidth": 0,
             "ticks": ""
            },
            "type": "mesh3d"
           }
          ],
          "parcoords": [
           {
            "line": {
             "colorbar": {
              "outlinewidth": 0,
              "ticks": ""
             }
            },
            "type": "parcoords"
           }
          ],
          "pie": [
           {
            "automargin": true,
            "type": "pie"
           }
          ],
          "scatter": [
           {
            "fillpattern": {
             "fillmode": "overlay",
             "size": 10,
             "solidity": 0.2
            },
            "type": "scatter"
           }
          ],
          "scatter3d": [
           {
            "line": {
             "colorbar": {
              "outlinewidth": 0,
              "ticks": ""
             }
            },
            "marker": {
             "colorbar": {
              "outlinewidth": 0,
              "ticks": ""
             }
            },
            "type": "scatter3d"
           }
          ],
          "scattercarpet": [
           {
            "marker": {
             "colorbar": {
              "outlinewidth": 0,
              "ticks": ""
             }
            },
            "type": "scattercarpet"
           }
          ],
          "scattergeo": [
           {
            "marker": {
             "colorbar": {
              "outlinewidth": 0,
              "ticks": ""
             }
            },
            "type": "scattergeo"
           }
          ],
          "scattergl": [
           {
            "marker": {
             "colorbar": {
              "outlinewidth": 0,
              "ticks": ""
             }
            },
            "type": "scattergl"
           }
          ],
          "scattermapbox": [
           {
            "marker": {
             "colorbar": {
              "outlinewidth": 0,
              "ticks": ""
             }
            },
            "type": "scattermapbox"
           }
          ],
          "scatterpolar": [
           {
            "marker": {
             "colorbar": {
              "outlinewidth": 0,
              "ticks": ""
             }
            },
            "type": "scatterpolar"
           }
          ],
          "scatterpolargl": [
           {
            "marker": {
             "colorbar": {
              "outlinewidth": 0,
              "ticks": ""
             }
            },
            "type": "scatterpolargl"
           }
          ],
          "scatterternary": [
           {
            "marker": {
             "colorbar": {
              "outlinewidth": 0,
              "ticks": ""
             }
            },
            "type": "scatterternary"
           }
          ],
          "surface": [
           {
            "colorbar": {
             "outlinewidth": 0,
             "ticks": ""
            },
            "colorscale": [
             [
              0,
              "#0d0887"
             ],
             [
              0.1111111111111111,
              "#46039f"
             ],
             [
              0.2222222222222222,
              "#7201a8"
             ],
             [
              0.3333333333333333,
              "#9c179e"
             ],
             [
              0.4444444444444444,
              "#bd3786"
             ],
             [
              0.5555555555555556,
              "#d8576b"
             ],
             [
              0.6666666666666666,
              "#ed7953"
             ],
             [
              0.7777777777777778,
              "#fb9f3a"
             ],
             [
              0.8888888888888888,
              "#fdca26"
             ],
             [
              1,
              "#f0f921"
             ]
            ],
            "type": "surface"
           }
          ],
          "table": [
           {
            "cells": {
             "fill": {
              "color": "#EBF0F8"
             },
             "line": {
              "color": "white"
             }
            },
            "header": {
             "fill": {
              "color": "#C8D4E3"
             },
             "line": {
              "color": "white"
             }
            },
            "type": "table"
           }
          ]
         },
         "layout": {
          "annotationdefaults": {
           "arrowcolor": "#2a3f5f",
           "arrowhead": 0,
           "arrowwidth": 1
          },
          "autotypenumbers": "strict",
          "coloraxis": {
           "colorbar": {
            "outlinewidth": 0,
            "ticks": ""
           }
          },
          "colorscale": {
           "diverging": [
            [
             0,
             "#8e0152"
            ],
            [
             0.1,
             "#c51b7d"
            ],
            [
             0.2,
             "#de77ae"
            ],
            [
             0.3,
             "#f1b6da"
            ],
            [
             0.4,
             "#fde0ef"
            ],
            [
             0.5,
             "#f7f7f7"
            ],
            [
             0.6,
             "#e6f5d0"
            ],
            [
             0.7,
             "#b8e186"
            ],
            [
             0.8,
             "#7fbc41"
            ],
            [
             0.9,
             "#4d9221"
            ],
            [
             1,
             "#276419"
            ]
           ],
           "sequential": [
            [
             0,
             "#0d0887"
            ],
            [
             0.1111111111111111,
             "#46039f"
            ],
            [
             0.2222222222222222,
             "#7201a8"
            ],
            [
             0.3333333333333333,
             "#9c179e"
            ],
            [
             0.4444444444444444,
             "#bd3786"
            ],
            [
             0.5555555555555556,
             "#d8576b"
            ],
            [
             0.6666666666666666,
             "#ed7953"
            ],
            [
             0.7777777777777778,
             "#fb9f3a"
            ],
            [
             0.8888888888888888,
             "#fdca26"
            ],
            [
             1,
             "#f0f921"
            ]
           ],
           "sequentialminus": [
            [
             0,
             "#0d0887"
            ],
            [
             0.1111111111111111,
             "#46039f"
            ],
            [
             0.2222222222222222,
             "#7201a8"
            ],
            [
             0.3333333333333333,
             "#9c179e"
            ],
            [
             0.4444444444444444,
             "#bd3786"
            ],
            [
             0.5555555555555556,
             "#d8576b"
            ],
            [
             0.6666666666666666,
             "#ed7953"
            ],
            [
             0.7777777777777778,
             "#fb9f3a"
            ],
            [
             0.8888888888888888,
             "#fdca26"
            ],
            [
             1,
             "#f0f921"
            ]
           ]
          },
          "colorway": [
           "#636efa",
           "#EF553B",
           "#00cc96",
           "#ab63fa",
           "#FFA15A",
           "#19d3f3",
           "#FF6692",
           "#B6E880",
           "#FF97FF",
           "#FECB52"
          ],
          "font": {
           "color": "#2a3f5f"
          },
          "geo": {
           "bgcolor": "white",
           "lakecolor": "white",
           "landcolor": "#E5ECF6",
           "showlakes": true,
           "showland": true,
           "subunitcolor": "white"
          },
          "hoverlabel": {
           "align": "left"
          },
          "hovermode": "closest",
          "mapbox": {
           "style": "light"
          },
          "paper_bgcolor": "white",
          "plot_bgcolor": "#E5ECF6",
          "polar": {
           "angularaxis": {
            "gridcolor": "white",
            "linecolor": "white",
            "ticks": ""
           },
           "bgcolor": "#E5ECF6",
           "radialaxis": {
            "gridcolor": "white",
            "linecolor": "white",
            "ticks": ""
           }
          },
          "scene": {
           "xaxis": {
            "backgroundcolor": "#E5ECF6",
            "gridcolor": "white",
            "gridwidth": 2,
            "linecolor": "white",
            "showbackground": true,
            "ticks": "",
            "zerolinecolor": "white"
           },
           "yaxis": {
            "backgroundcolor": "#E5ECF6",
            "gridcolor": "white",
            "gridwidth": 2,
            "linecolor": "white",
            "showbackground": true,
            "ticks": "",
            "zerolinecolor": "white"
           },
           "zaxis": {
            "backgroundcolor": "#E5ECF6",
            "gridcolor": "white",
            "gridwidth": 2,
            "linecolor": "white",
            "showbackground": true,
            "ticks": "",
            "zerolinecolor": "white"
           }
          },
          "shapedefaults": {
           "line": {
            "color": "#2a3f5f"
           }
          },
          "ternary": {
           "aaxis": {
            "gridcolor": "white",
            "linecolor": "white",
            "ticks": ""
           },
           "baxis": {
            "gridcolor": "white",
            "linecolor": "white",
            "ticks": ""
           },
           "bgcolor": "#E5ECF6",
           "caxis": {
            "gridcolor": "white",
            "linecolor": "white",
            "ticks": ""
           }
          },
          "title": {
           "x": 0.05
          },
          "xaxis": {
           "automargin": true,
           "gridcolor": "white",
           "linecolor": "white",
           "ticks": "",
           "title": {
            "standoff": 15
           },
           "zerolinecolor": "white",
           "zerolinewidth": 2
          },
          "yaxis": {
           "automargin": true,
           "gridcolor": "white",
           "linecolor": "white",
           "ticks": "",
           "title": {
            "standoff": 15
           },
           "zerolinecolor": "white",
           "zerolinewidth": 2
          }
         }
        },
        "title": {
         "text": "Calories per 100 grams by Food Category"
        },
        "xaxis": {
         "anchor": "y",
         "domain": [
          0,
          1
         ],
         "title": {
          "text": "FoodCategory"
         }
        },
        "yaxis": {
         "anchor": "x",
         "domain": [
          0,
          1
         ],
         "title": {
          "text": "sum of Cals_per100grams"
         }
        }
       }
      }
     },
     "metadata": {},
     "output_type": "display_data"
    }
   ],
   "source": [
    "# explore the food categories with the most calories\n",
    "plt = px.histogram(df, x='FoodCategory', y ='Cals_per100grams', title='Calories per 100 grams by Food Category')\n",
    "plt.show()"
   ]
  },
  {
   "cell_type": "markdown",
   "metadata": {},
   "source": [
    "<h2 style=\"color: #4CAF50;text-align:center\">Top 5 Food Categories by High Calories</h2>"
   ]
  },
  {
   "cell_type": "code",
   "execution_count": 42,
   "metadata": {},
   "outputs": [
    {
     "data": {
      "application/vnd.plotly.v1+json": {
       "config": {
        "plotlyServerURL": "https://plot.ly"
       },
       "data": [
        {
         "alignmentgroup": "True",
         "bingroup": "x",
         "histfunc": "sum",
         "hovertemplate": "x=%{x}<br>sum of y=%{y}<extra></extra>",
         "legendgroup": "",
         "marker": {
          "color": "rgb(75, 41, 145)",
          "pattern": {
           "shape": ""
          }
         },
         "name": "",
         "offsetgroup": "",
         "orientation": "v",
         "showlegend": false,
         "type": "histogram",
         "x": [
          "Candy&Sweets",
          "BakingIngredients",
          "Cakes&Pies",
          "VegetableOils",
          "Oatmeal,Muesli&Cereals"
         ],
         "xaxis": "x",
         "y": [
          34392,
          30796,
          28993,
          28887,
          28455
         ],
         "yaxis": "y"
        }
       ],
       "layout": {
        "barmode": "relative",
        "legend": {
         "tracegroupgap": 0
        },
        "template": {
         "data": {
          "bar": [
           {
            "error_x": {
             "color": "#2a3f5f"
            },
            "error_y": {
             "color": "#2a3f5f"
            },
            "marker": {
             "line": {
              "color": "#E5ECF6",
              "width": 0.5
             },
             "pattern": {
              "fillmode": "overlay",
              "size": 10,
              "solidity": 0.2
             }
            },
            "type": "bar"
           }
          ],
          "barpolar": [
           {
            "marker": {
             "line": {
              "color": "#E5ECF6",
              "width": 0.5
             },
             "pattern": {
              "fillmode": "overlay",
              "size": 10,
              "solidity": 0.2
             }
            },
            "type": "barpolar"
           }
          ],
          "carpet": [
           {
            "aaxis": {
             "endlinecolor": "#2a3f5f",
             "gridcolor": "white",
             "linecolor": "white",
             "minorgridcolor": "white",
             "startlinecolor": "#2a3f5f"
            },
            "baxis": {
             "endlinecolor": "#2a3f5f",
             "gridcolor": "white",
             "linecolor": "white",
             "minorgridcolor": "white",
             "startlinecolor": "#2a3f5f"
            },
            "type": "carpet"
           }
          ],
          "choropleth": [
           {
            "colorbar": {
             "outlinewidth": 0,
             "ticks": ""
            },
            "type": "choropleth"
           }
          ],
          "contour": [
           {
            "colorbar": {
             "outlinewidth": 0,
             "ticks": ""
            },
            "colorscale": [
             [
              0,
              "#0d0887"
             ],
             [
              0.1111111111111111,
              "#46039f"
             ],
             [
              0.2222222222222222,
              "#7201a8"
             ],
             [
              0.3333333333333333,
              "#9c179e"
             ],
             [
              0.4444444444444444,
              "#bd3786"
             ],
             [
              0.5555555555555556,
              "#d8576b"
             ],
             [
              0.6666666666666666,
              "#ed7953"
             ],
             [
              0.7777777777777778,
              "#fb9f3a"
             ],
             [
              0.8888888888888888,
              "#fdca26"
             ],
             [
              1,
              "#f0f921"
             ]
            ],
            "type": "contour"
           }
          ],
          "contourcarpet": [
           {
            "colorbar": {
             "outlinewidth": 0,
             "ticks": ""
            },
            "type": "contourcarpet"
           }
          ],
          "heatmap": [
           {
            "colorbar": {
             "outlinewidth": 0,
             "ticks": ""
            },
            "colorscale": [
             [
              0,
              "#0d0887"
             ],
             [
              0.1111111111111111,
              "#46039f"
             ],
             [
              0.2222222222222222,
              "#7201a8"
             ],
             [
              0.3333333333333333,
              "#9c179e"
             ],
             [
              0.4444444444444444,
              "#bd3786"
             ],
             [
              0.5555555555555556,
              "#d8576b"
             ],
             [
              0.6666666666666666,
              "#ed7953"
             ],
             [
              0.7777777777777778,
              "#fb9f3a"
             ],
             [
              0.8888888888888888,
              "#fdca26"
             ],
             [
              1,
              "#f0f921"
             ]
            ],
            "type": "heatmap"
           }
          ],
          "heatmapgl": [
           {
            "colorbar": {
             "outlinewidth": 0,
             "ticks": ""
            },
            "colorscale": [
             [
              0,
              "#0d0887"
             ],
             [
              0.1111111111111111,
              "#46039f"
             ],
             [
              0.2222222222222222,
              "#7201a8"
             ],
             [
              0.3333333333333333,
              "#9c179e"
             ],
             [
              0.4444444444444444,
              "#bd3786"
             ],
             [
              0.5555555555555556,
              "#d8576b"
             ],
             [
              0.6666666666666666,
              "#ed7953"
             ],
             [
              0.7777777777777778,
              "#fb9f3a"
             ],
             [
              0.8888888888888888,
              "#fdca26"
             ],
             [
              1,
              "#f0f921"
             ]
            ],
            "type": "heatmapgl"
           }
          ],
          "histogram": [
           {
            "marker": {
             "pattern": {
              "fillmode": "overlay",
              "size": 10,
              "solidity": 0.2
             }
            },
            "type": "histogram"
           }
          ],
          "histogram2d": [
           {
            "colorbar": {
             "outlinewidth": 0,
             "ticks": ""
            },
            "colorscale": [
             [
              0,
              "#0d0887"
             ],
             [
              0.1111111111111111,
              "#46039f"
             ],
             [
              0.2222222222222222,
              "#7201a8"
             ],
             [
              0.3333333333333333,
              "#9c179e"
             ],
             [
              0.4444444444444444,
              "#bd3786"
             ],
             [
              0.5555555555555556,
              "#d8576b"
             ],
             [
              0.6666666666666666,
              "#ed7953"
             ],
             [
              0.7777777777777778,
              "#fb9f3a"
             ],
             [
              0.8888888888888888,
              "#fdca26"
             ],
             [
              1,
              "#f0f921"
             ]
            ],
            "type": "histogram2d"
           }
          ],
          "histogram2dcontour": [
           {
            "colorbar": {
             "outlinewidth": 0,
             "ticks": ""
            },
            "colorscale": [
             [
              0,
              "#0d0887"
             ],
             [
              0.1111111111111111,
              "#46039f"
             ],
             [
              0.2222222222222222,
              "#7201a8"
             ],
             [
              0.3333333333333333,
              "#9c179e"
             ],
             [
              0.4444444444444444,
              "#bd3786"
             ],
             [
              0.5555555555555556,
              "#d8576b"
             ],
             [
              0.6666666666666666,
              "#ed7953"
             ],
             [
              0.7777777777777778,
              "#fb9f3a"
             ],
             [
              0.8888888888888888,
              "#fdca26"
             ],
             [
              1,
              "#f0f921"
             ]
            ],
            "type": "histogram2dcontour"
           }
          ],
          "mesh3d": [
           {
            "colorbar": {
             "outlinewidth": 0,
             "ticks": ""
            },
            "type": "mesh3d"
           }
          ],
          "parcoords": [
           {
            "line": {
             "colorbar": {
              "outlinewidth": 0,
              "ticks": ""
             }
            },
            "type": "parcoords"
           }
          ],
          "pie": [
           {
            "automargin": true,
            "type": "pie"
           }
          ],
          "scatter": [
           {
            "fillpattern": {
             "fillmode": "overlay",
             "size": 10,
             "solidity": 0.2
            },
            "type": "scatter"
           }
          ],
          "scatter3d": [
           {
            "line": {
             "colorbar": {
              "outlinewidth": 0,
              "ticks": ""
             }
            },
            "marker": {
             "colorbar": {
              "outlinewidth": 0,
              "ticks": ""
             }
            },
            "type": "scatter3d"
           }
          ],
          "scattercarpet": [
           {
            "marker": {
             "colorbar": {
              "outlinewidth": 0,
              "ticks": ""
             }
            },
            "type": "scattercarpet"
           }
          ],
          "scattergeo": [
           {
            "marker": {
             "colorbar": {
              "outlinewidth": 0,
              "ticks": ""
             }
            },
            "type": "scattergeo"
           }
          ],
          "scattergl": [
           {
            "marker": {
             "colorbar": {
              "outlinewidth": 0,
              "ticks": ""
             }
            },
            "type": "scattergl"
           }
          ],
          "scattermapbox": [
           {
            "marker": {
             "colorbar": {
              "outlinewidth": 0,
              "ticks": ""
             }
            },
            "type": "scattermapbox"
           }
          ],
          "scatterpolar": [
           {
            "marker": {
             "colorbar": {
              "outlinewidth": 0,
              "ticks": ""
             }
            },
            "type": "scatterpolar"
           }
          ],
          "scatterpolargl": [
           {
            "marker": {
             "colorbar": {
              "outlinewidth": 0,
              "ticks": ""
             }
            },
            "type": "scatterpolargl"
           }
          ],
          "scatterternary": [
           {
            "marker": {
             "colorbar": {
              "outlinewidth": 0,
              "ticks": ""
             }
            },
            "type": "scatterternary"
           }
          ],
          "surface": [
           {
            "colorbar": {
             "outlinewidth": 0,
             "ticks": ""
            },
            "colorscale": [
             [
              0,
              "#0d0887"
             ],
             [
              0.1111111111111111,
              "#46039f"
             ],
             [
              0.2222222222222222,
              "#7201a8"
             ],
             [
              0.3333333333333333,
              "#9c179e"
             ],
             [
              0.4444444444444444,
              "#bd3786"
             ],
             [
              0.5555555555555556,
              "#d8576b"
             ],
             [
              0.6666666666666666,
              "#ed7953"
             ],
             [
              0.7777777777777778,
              "#fb9f3a"
             ],
             [
              0.8888888888888888,
              "#fdca26"
             ],
             [
              1,
              "#f0f921"
             ]
            ],
            "type": "surface"
           }
          ],
          "table": [
           {
            "cells": {
             "fill": {
              "color": "#EBF0F8"
             },
             "line": {
              "color": "white"
             }
            },
            "header": {
             "fill": {
              "color": "#C8D4E3"
             },
             "line": {
              "color": "white"
             }
            },
            "type": "table"
           }
          ]
         },
         "layout": {
          "annotationdefaults": {
           "arrowcolor": "#2a3f5f",
           "arrowhead": 0,
           "arrowwidth": 1
          },
          "autotypenumbers": "strict",
          "coloraxis": {
           "colorbar": {
            "outlinewidth": 0,
            "ticks": ""
           }
          },
          "colorscale": {
           "diverging": [
            [
             0,
             "#8e0152"
            ],
            [
             0.1,
             "#c51b7d"
            ],
            [
             0.2,
             "#de77ae"
            ],
            [
             0.3,
             "#f1b6da"
            ],
            [
             0.4,
             "#fde0ef"
            ],
            [
             0.5,
             "#f7f7f7"
            ],
            [
             0.6,
             "#e6f5d0"
            ],
            [
             0.7,
             "#b8e186"
            ],
            [
             0.8,
             "#7fbc41"
            ],
            [
             0.9,
             "#4d9221"
            ],
            [
             1,
             "#276419"
            ]
           ],
           "sequential": [
            [
             0,
             "#0d0887"
            ],
            [
             0.1111111111111111,
             "#46039f"
            ],
            [
             0.2222222222222222,
             "#7201a8"
            ],
            [
             0.3333333333333333,
             "#9c179e"
            ],
            [
             0.4444444444444444,
             "#bd3786"
            ],
            [
             0.5555555555555556,
             "#d8576b"
            ],
            [
             0.6666666666666666,
             "#ed7953"
            ],
            [
             0.7777777777777778,
             "#fb9f3a"
            ],
            [
             0.8888888888888888,
             "#fdca26"
            ],
            [
             1,
             "#f0f921"
            ]
           ],
           "sequentialminus": [
            [
             0,
             "#0d0887"
            ],
            [
             0.1111111111111111,
             "#46039f"
            ],
            [
             0.2222222222222222,
             "#7201a8"
            ],
            [
             0.3333333333333333,
             "#9c179e"
            ],
            [
             0.4444444444444444,
             "#bd3786"
            ],
            [
             0.5555555555555556,
             "#d8576b"
            ],
            [
             0.6666666666666666,
             "#ed7953"
            ],
            [
             0.7777777777777778,
             "#fb9f3a"
            ],
            [
             0.8888888888888888,
             "#fdca26"
            ],
            [
             1,
             "#f0f921"
            ]
           ]
          },
          "colorway": [
           "#636efa",
           "#EF553B",
           "#00cc96",
           "#ab63fa",
           "#FFA15A",
           "#19d3f3",
           "#FF6692",
           "#B6E880",
           "#FF97FF",
           "#FECB52"
          ],
          "font": {
           "color": "#2a3f5f"
          },
          "geo": {
           "bgcolor": "white",
           "lakecolor": "white",
           "landcolor": "#E5ECF6",
           "showlakes": true,
           "showland": true,
           "subunitcolor": "white"
          },
          "hoverlabel": {
           "align": "left"
          },
          "hovermode": "closest",
          "mapbox": {
           "style": "light"
          },
          "paper_bgcolor": "white",
          "plot_bgcolor": "#E5ECF6",
          "polar": {
           "angularaxis": {
            "gridcolor": "white",
            "linecolor": "white",
            "ticks": ""
           },
           "bgcolor": "#E5ECF6",
           "radialaxis": {
            "gridcolor": "white",
            "linecolor": "white",
            "ticks": ""
           }
          },
          "scene": {
           "xaxis": {
            "backgroundcolor": "#E5ECF6",
            "gridcolor": "white",
            "gridwidth": 2,
            "linecolor": "white",
            "showbackground": true,
            "ticks": "",
            "zerolinecolor": "white"
           },
           "yaxis": {
            "backgroundcolor": "#E5ECF6",
            "gridcolor": "white",
            "gridwidth": 2,
            "linecolor": "white",
            "showbackground": true,
            "ticks": "",
            "zerolinecolor": "white"
           },
           "zaxis": {
            "backgroundcolor": "#E5ECF6",
            "gridcolor": "white",
            "gridwidth": 2,
            "linecolor": "white",
            "showbackground": true,
            "ticks": "",
            "zerolinecolor": "white"
           }
          },
          "shapedefaults": {
           "line": {
            "color": "#2a3f5f"
           }
          },
          "ternary": {
           "aaxis": {
            "gridcolor": "white",
            "linecolor": "white",
            "ticks": ""
           },
           "baxis": {
            "gridcolor": "white",
            "linecolor": "white",
            "ticks": ""
           },
           "bgcolor": "#E5ECF6",
           "caxis": {
            "gridcolor": "white",
            "linecolor": "white",
            "ticks": ""
           }
          },
          "title": {
           "x": 0.05
          },
          "xaxis": {
           "automargin": true,
           "gridcolor": "white",
           "linecolor": "white",
           "ticks": "",
           "title": {
            "standoff": 15
           },
           "zerolinecolor": "white",
           "zerolinewidth": 2
          },
          "yaxis": {
           "automargin": true,
           "gridcolor": "white",
           "linecolor": "white",
           "ticks": "",
           "title": {
            "standoff": 15
           },
           "zerolinecolor": "white",
           "zerolinewidth": 2
          }
         }
        },
        "title": {
         "text": "Calories per 100 grams by Food Category"
        },
        "xaxis": {
         "anchor": "y",
         "domain": [
          0,
          1
         ],
         "title": {
          "text": "x"
         }
        },
        "yaxis": {
         "anchor": "x",
         "domain": [
          0,
          1
         ],
         "title": {
          "text": "sum of y"
         }
        }
       }
      }
     },
     "metadata": {},
     "output_type": "display_data"
    }
   ],
   "source": [
    "# top 5 food categories with the most calories\n",
    "top_5_food_categories_cal = df.groupby('FoodCategory')['Cals_per100grams'].sum().nlargest(5)\n",
    "\n",
    "plt = px.histogram(df, x=top_5_food_categories_cal.index, y=top_5_food_categories_cal.values, title='Calories per 100 grams by Food Category', color_discrete_sequence=px.colors.sequential.Agsunset)\n",
    "plt.show()\n"
   ]
  },
  {
   "cell_type": "markdown",
   "metadata": {},
   "source": [
    "#### Top 5 Food Categories by Calories:\n",
    "1. Candy&Sweets.\n",
    "2. BakingIngredients.\n",
    "3. Cakes&Pies.\n",
    "4. VegetableOils\n",
    "5. Oatmeal, Muesli & Cereal"
   ]
  },
  {
   "cell_type": "markdown",
   "metadata": {},
   "source": [
    "<h2 style=\"color: #4CAF50;text-align:center\">Top 10 Food Items by HIgh and Low Calories</h2>"
   ]
  },
  {
   "cell_type": "markdown",
   "metadata": {},
   "source": [
    "### High Calories Food Items"
   ]
  },
  {
   "cell_type": "code",
   "execution_count": 84,
   "metadata": {},
   "outputs": [
    {
     "data": {
      "application/vnd.plotly.v1+json": {
       "config": {
        "plotlyServerURL": "https://plot.ly"
       },
       "data": [
        {
         "alignmentgroup": "True",
         "bingroup": "x",
         "histfunc": "sum",
         "hovertemplate": "x=%{x}<br>sum of y=%{y}<extra></extra>",
         "legendgroup": "",
         "marker": {
          "color": "rgb(3, 5, 18)",
          "pattern": {
           "shape": ""
          }
         },
         "name": "",
         "offsetgroup": "",
         "orientation": "v",
         "showlegend": false,
         "type": "histogram",
         "x": [
          "Goulash",
          "Cod Liver Oil",
          "Wheat Germ Oil",
          "Menhaden Oil",
          "Salmon Oil",
          "Beef Tallow",
          "Herring Oil",
          "Lard",
          "Sardine Oil",
          "Chicken Fat"
         ],
         "xaxis": "x",
         "y": [
          1009,
          1000,
          929,
          911,
          911,
          902,
          902,
          902,
          902,
          898
         ],
         "yaxis": "y"
        }
       ],
       "layout": {
        "barmode": "relative",
        "legend": {
         "tracegroupgap": 0
        },
        "template": {
         "data": {
          "bar": [
           {
            "error_x": {
             "color": "#2a3f5f"
            },
            "error_y": {
             "color": "#2a3f5f"
            },
            "marker": {
             "line": {
              "color": "#E5ECF6",
              "width": 0.5
             },
             "pattern": {
              "fillmode": "overlay",
              "size": 10,
              "solidity": 0.2
             }
            },
            "type": "bar"
           }
          ],
          "barpolar": [
           {
            "marker": {
             "line": {
              "color": "#E5ECF6",
              "width": 0.5
             },
             "pattern": {
              "fillmode": "overlay",
              "size": 10,
              "solidity": 0.2
             }
            },
            "type": "barpolar"
           }
          ],
          "carpet": [
           {
            "aaxis": {
             "endlinecolor": "#2a3f5f",
             "gridcolor": "white",
             "linecolor": "white",
             "minorgridcolor": "white",
             "startlinecolor": "#2a3f5f"
            },
            "baxis": {
             "endlinecolor": "#2a3f5f",
             "gridcolor": "white",
             "linecolor": "white",
             "minorgridcolor": "white",
             "startlinecolor": "#2a3f5f"
            },
            "type": "carpet"
           }
          ],
          "choropleth": [
           {
            "colorbar": {
             "outlinewidth": 0,
             "ticks": ""
            },
            "type": "choropleth"
           }
          ],
          "contour": [
           {
            "colorbar": {
             "outlinewidth": 0,
             "ticks": ""
            },
            "colorscale": [
             [
              0,
              "#0d0887"
             ],
             [
              0.1111111111111111,
              "#46039f"
             ],
             [
              0.2222222222222222,
              "#7201a8"
             ],
             [
              0.3333333333333333,
              "#9c179e"
             ],
             [
              0.4444444444444444,
              "#bd3786"
             ],
             [
              0.5555555555555556,
              "#d8576b"
             ],
             [
              0.6666666666666666,
              "#ed7953"
             ],
             [
              0.7777777777777778,
              "#fb9f3a"
             ],
             [
              0.8888888888888888,
              "#fdca26"
             ],
             [
              1,
              "#f0f921"
             ]
            ],
            "type": "contour"
           }
          ],
          "contourcarpet": [
           {
            "colorbar": {
             "outlinewidth": 0,
             "ticks": ""
            },
            "type": "contourcarpet"
           }
          ],
          "heatmap": [
           {
            "colorbar": {
             "outlinewidth": 0,
             "ticks": ""
            },
            "colorscale": [
             [
              0,
              "#0d0887"
             ],
             [
              0.1111111111111111,
              "#46039f"
             ],
             [
              0.2222222222222222,
              "#7201a8"
             ],
             [
              0.3333333333333333,
              "#9c179e"
             ],
             [
              0.4444444444444444,
              "#bd3786"
             ],
             [
              0.5555555555555556,
              "#d8576b"
             ],
             [
              0.6666666666666666,
              "#ed7953"
             ],
             [
              0.7777777777777778,
              "#fb9f3a"
             ],
             [
              0.8888888888888888,
              "#fdca26"
             ],
             [
              1,
              "#f0f921"
             ]
            ],
            "type": "heatmap"
           }
          ],
          "heatmapgl": [
           {
            "colorbar": {
             "outlinewidth": 0,
             "ticks": ""
            },
            "colorscale": [
             [
              0,
              "#0d0887"
             ],
             [
              0.1111111111111111,
              "#46039f"
             ],
             [
              0.2222222222222222,
              "#7201a8"
             ],
             [
              0.3333333333333333,
              "#9c179e"
             ],
             [
              0.4444444444444444,
              "#bd3786"
             ],
             [
              0.5555555555555556,
              "#d8576b"
             ],
             [
              0.6666666666666666,
              "#ed7953"
             ],
             [
              0.7777777777777778,
              "#fb9f3a"
             ],
             [
              0.8888888888888888,
              "#fdca26"
             ],
             [
              1,
              "#f0f921"
             ]
            ],
            "type": "heatmapgl"
           }
          ],
          "histogram": [
           {
            "marker": {
             "pattern": {
              "fillmode": "overlay",
              "size": 10,
              "solidity": 0.2
             }
            },
            "type": "histogram"
           }
          ],
          "histogram2d": [
           {
            "colorbar": {
             "outlinewidth": 0,
             "ticks": ""
            },
            "colorscale": [
             [
              0,
              "#0d0887"
             ],
             [
              0.1111111111111111,
              "#46039f"
             ],
             [
              0.2222222222222222,
              "#7201a8"
             ],
             [
              0.3333333333333333,
              "#9c179e"
             ],
             [
              0.4444444444444444,
              "#bd3786"
             ],
             [
              0.5555555555555556,
              "#d8576b"
             ],
             [
              0.6666666666666666,
              "#ed7953"
             ],
             [
              0.7777777777777778,
              "#fb9f3a"
             ],
             [
              0.8888888888888888,
              "#fdca26"
             ],
             [
              1,
              "#f0f921"
             ]
            ],
            "type": "histogram2d"
           }
          ],
          "histogram2dcontour": [
           {
            "colorbar": {
             "outlinewidth": 0,
             "ticks": ""
            },
            "colorscale": [
             [
              0,
              "#0d0887"
             ],
             [
              0.1111111111111111,
              "#46039f"
             ],
             [
              0.2222222222222222,
              "#7201a8"
             ],
             [
              0.3333333333333333,
              "#9c179e"
             ],
             [
              0.4444444444444444,
              "#bd3786"
             ],
             [
              0.5555555555555556,
              "#d8576b"
             ],
             [
              0.6666666666666666,
              "#ed7953"
             ],
             [
              0.7777777777777778,
              "#fb9f3a"
             ],
             [
              0.8888888888888888,
              "#fdca26"
             ],
             [
              1,
              "#f0f921"
             ]
            ],
            "type": "histogram2dcontour"
           }
          ],
          "mesh3d": [
           {
            "colorbar": {
             "outlinewidth": 0,
             "ticks": ""
            },
            "type": "mesh3d"
           }
          ],
          "parcoords": [
           {
            "line": {
             "colorbar": {
              "outlinewidth": 0,
              "ticks": ""
             }
            },
            "type": "parcoords"
           }
          ],
          "pie": [
           {
            "automargin": true,
            "type": "pie"
           }
          ],
          "scatter": [
           {
            "fillpattern": {
             "fillmode": "overlay",
             "size": 10,
             "solidity": 0.2
            },
            "type": "scatter"
           }
          ],
          "scatter3d": [
           {
            "line": {
             "colorbar": {
              "outlinewidth": 0,
              "ticks": ""
             }
            },
            "marker": {
             "colorbar": {
              "outlinewidth": 0,
              "ticks": ""
             }
            },
            "type": "scatter3d"
           }
          ],
          "scattercarpet": [
           {
            "marker": {
             "colorbar": {
              "outlinewidth": 0,
              "ticks": ""
             }
            },
            "type": "scattercarpet"
           }
          ],
          "scattergeo": [
           {
            "marker": {
             "colorbar": {
              "outlinewidth": 0,
              "ticks": ""
             }
            },
            "type": "scattergeo"
           }
          ],
          "scattergl": [
           {
            "marker": {
             "colorbar": {
              "outlinewidth": 0,
              "ticks": ""
             }
            },
            "type": "scattergl"
           }
          ],
          "scattermapbox": [
           {
            "marker": {
             "colorbar": {
              "outlinewidth": 0,
              "ticks": ""
             }
            },
            "type": "scattermapbox"
           }
          ],
          "scatterpolar": [
           {
            "marker": {
             "colorbar": {
              "outlinewidth": 0,
              "ticks": ""
             }
            },
            "type": "scatterpolar"
           }
          ],
          "scatterpolargl": [
           {
            "marker": {
             "colorbar": {
              "outlinewidth": 0,
              "ticks": ""
             }
            },
            "type": "scatterpolargl"
           }
          ],
          "scatterternary": [
           {
            "marker": {
             "colorbar": {
              "outlinewidth": 0,
              "ticks": ""
             }
            },
            "type": "scatterternary"
           }
          ],
          "surface": [
           {
            "colorbar": {
             "outlinewidth": 0,
             "ticks": ""
            },
            "colorscale": [
             [
              0,
              "#0d0887"
             ],
             [
              0.1111111111111111,
              "#46039f"
             ],
             [
              0.2222222222222222,
              "#7201a8"
             ],
             [
              0.3333333333333333,
              "#9c179e"
             ],
             [
              0.4444444444444444,
              "#bd3786"
             ],
             [
              0.5555555555555556,
              "#d8576b"
             ],
             [
              0.6666666666666666,
              "#ed7953"
             ],
             [
              0.7777777777777778,
              "#fb9f3a"
             ],
             [
              0.8888888888888888,
              "#fdca26"
             ],
             [
              1,
              "#f0f921"
             ]
            ],
            "type": "surface"
           }
          ],
          "table": [
           {
            "cells": {
             "fill": {
              "color": "#EBF0F8"
             },
             "line": {
              "color": "white"
             }
            },
            "header": {
             "fill": {
              "color": "#C8D4E3"
             },
             "line": {
              "color": "white"
             }
            },
            "type": "table"
           }
          ]
         },
         "layout": {
          "annotationdefaults": {
           "arrowcolor": "#2a3f5f",
           "arrowhead": 0,
           "arrowwidth": 1
          },
          "autotypenumbers": "strict",
          "coloraxis": {
           "colorbar": {
            "outlinewidth": 0,
            "ticks": ""
           }
          },
          "colorscale": {
           "diverging": [
            [
             0,
             "#8e0152"
            ],
            [
             0.1,
             "#c51b7d"
            ],
            [
             0.2,
             "#de77ae"
            ],
            [
             0.3,
             "#f1b6da"
            ],
            [
             0.4,
             "#fde0ef"
            ],
            [
             0.5,
             "#f7f7f7"
            ],
            [
             0.6,
             "#e6f5d0"
            ],
            [
             0.7,
             "#b8e186"
            ],
            [
             0.8,
             "#7fbc41"
            ],
            [
             0.9,
             "#4d9221"
            ],
            [
             1,
             "#276419"
            ]
           ],
           "sequential": [
            [
             0,
             "#0d0887"
            ],
            [
             0.1111111111111111,
             "#46039f"
            ],
            [
             0.2222222222222222,
             "#7201a8"
            ],
            [
             0.3333333333333333,
             "#9c179e"
            ],
            [
             0.4444444444444444,
             "#bd3786"
            ],
            [
             0.5555555555555556,
             "#d8576b"
            ],
            [
             0.6666666666666666,
             "#ed7953"
            ],
            [
             0.7777777777777778,
             "#fb9f3a"
            ],
            [
             0.8888888888888888,
             "#fdca26"
            ],
            [
             1,
             "#f0f921"
            ]
           ],
           "sequentialminus": [
            [
             0,
             "#0d0887"
            ],
            [
             0.1111111111111111,
             "#46039f"
            ],
            [
             0.2222222222222222,
             "#7201a8"
            ],
            [
             0.3333333333333333,
             "#9c179e"
            ],
            [
             0.4444444444444444,
             "#bd3786"
            ],
            [
             0.5555555555555556,
             "#d8576b"
            ],
            [
             0.6666666666666666,
             "#ed7953"
            ],
            [
             0.7777777777777778,
             "#fb9f3a"
            ],
            [
             0.8888888888888888,
             "#fdca26"
            ],
            [
             1,
             "#f0f921"
            ]
           ]
          },
          "colorway": [
           "#636efa",
           "#EF553B",
           "#00cc96",
           "#ab63fa",
           "#FFA15A",
           "#19d3f3",
           "#FF6692",
           "#B6E880",
           "#FF97FF",
           "#FECB52"
          ],
          "font": {
           "color": "#2a3f5f"
          },
          "geo": {
           "bgcolor": "white",
           "lakecolor": "white",
           "landcolor": "#E5ECF6",
           "showlakes": true,
           "showland": true,
           "subunitcolor": "white"
          },
          "hoverlabel": {
           "align": "left"
          },
          "hovermode": "closest",
          "mapbox": {
           "style": "light"
          },
          "paper_bgcolor": "white",
          "plot_bgcolor": "#E5ECF6",
          "polar": {
           "angularaxis": {
            "gridcolor": "white",
            "linecolor": "white",
            "ticks": ""
           },
           "bgcolor": "#E5ECF6",
           "radialaxis": {
            "gridcolor": "white",
            "linecolor": "white",
            "ticks": ""
           }
          },
          "scene": {
           "xaxis": {
            "backgroundcolor": "#E5ECF6",
            "gridcolor": "white",
            "gridwidth": 2,
            "linecolor": "white",
            "showbackground": true,
            "ticks": "",
            "zerolinecolor": "white"
           },
           "yaxis": {
            "backgroundcolor": "#E5ECF6",
            "gridcolor": "white",
            "gridwidth": 2,
            "linecolor": "white",
            "showbackground": true,
            "ticks": "",
            "zerolinecolor": "white"
           },
           "zaxis": {
            "backgroundcolor": "#E5ECF6",
            "gridcolor": "white",
            "gridwidth": 2,
            "linecolor": "white",
            "showbackground": true,
            "ticks": "",
            "zerolinecolor": "white"
           }
          },
          "shapedefaults": {
           "line": {
            "color": "#2a3f5f"
           }
          },
          "ternary": {
           "aaxis": {
            "gridcolor": "white",
            "linecolor": "white",
            "ticks": ""
           },
           "baxis": {
            "gridcolor": "white",
            "linecolor": "white",
            "ticks": ""
           },
           "bgcolor": "#E5ECF6",
           "caxis": {
            "gridcolor": "white",
            "linecolor": "white",
            "ticks": ""
           }
          },
          "title": {
           "x": 0.05
          },
          "xaxis": {
           "automargin": true,
           "gridcolor": "white",
           "linecolor": "white",
           "ticks": "",
           "title": {
            "standoff": 15
           },
           "zerolinecolor": "white",
           "zerolinewidth": 2
          },
          "yaxis": {
           "automargin": true,
           "gridcolor": "white",
           "linecolor": "white",
           "ticks": "",
           "title": {
            "standoff": 15
           },
           "zerolinecolor": "white",
           "zerolinewidth": 2
          }
         }
        },
        "title": {
         "text": "High Calories per 100 grams by Food Item"
        },
        "xaxis": {
         "anchor": "y",
         "domain": [
          0,
          1
         ],
         "title": {
          "text": "x"
         }
        },
        "yaxis": {
         "anchor": "x",
         "domain": [
          0,
          1
         ],
         "title": {
          "text": "sum of y"
         }
        }
       }
      }
     },
     "metadata": {},
     "output_type": "display_data"
    }
   ],
   "source": [
    "top_food_items = df.nlargest(10, 'Cals_per100grams')\n",
    "\n",
    "plt = px.histogram(df, x=top_food_items['FoodItem'], y=top_food_items['Cals_per100grams'], title='High Calories per 100 grams by Food Item', color_discrete_sequence=px.colors.sequential.ice)\n",
    "plt.show()"
   ]
  },
  {
   "cell_type": "markdown",
   "metadata": {},
   "source": [
    "### Lowest Calories Food Items"
   ]
  },
  {
   "cell_type": "code",
   "execution_count": 83,
   "metadata": {},
   "outputs": [
    {
     "data": {
      "application/vnd.plotly.v1+json": {
       "config": {
        "plotlyServerURL": "https://plot.ly"
       },
       "data": [
        {
         "alignmentgroup": "True",
         "bingroup": "x",
         "histfunc": "sum",
         "hovertemplate": "x=%{x}<br>sum of y=%{y}<extra></extra>",
         "legendgroup": "",
         "marker": {
          "color": "rgb(234, 252, 253)",
          "pattern": {
           "shape": ""
          }
         },
         "name": "",
         "offsetgroup": "",
         "orientation": "v",
         "showlegend": false,
         "type": "histogram",
         "x": [
          "Chamomile Tea",
          "Chai",
          "Chai Tea",
          "Evian",
          "Ginger Tea",
          "Tap Water",
          "Volvic",
          "Water",
          "Coke Zero",
          "Diet Dr. Pepper"
         ],
         "xaxis": "x",
         "y": [
          0,
          0,
          0,
          0,
          0,
          0,
          0,
          0,
          0,
          0
         ],
         "yaxis": "y"
        }
       ],
       "layout": {
        "barmode": "relative",
        "legend": {
         "tracegroupgap": 0
        },
        "template": {
         "data": {
          "bar": [
           {
            "error_x": {
             "color": "#2a3f5f"
            },
            "error_y": {
             "color": "#2a3f5f"
            },
            "marker": {
             "line": {
              "color": "#E5ECF6",
              "width": 0.5
             },
             "pattern": {
              "fillmode": "overlay",
              "size": 10,
              "solidity": 0.2
             }
            },
            "type": "bar"
           }
          ],
          "barpolar": [
           {
            "marker": {
             "line": {
              "color": "#E5ECF6",
              "width": 0.5
             },
             "pattern": {
              "fillmode": "overlay",
              "size": 10,
              "solidity": 0.2
             }
            },
            "type": "barpolar"
           }
          ],
          "carpet": [
           {
            "aaxis": {
             "endlinecolor": "#2a3f5f",
             "gridcolor": "white",
             "linecolor": "white",
             "minorgridcolor": "white",
             "startlinecolor": "#2a3f5f"
            },
            "baxis": {
             "endlinecolor": "#2a3f5f",
             "gridcolor": "white",
             "linecolor": "white",
             "minorgridcolor": "white",
             "startlinecolor": "#2a3f5f"
            },
            "type": "carpet"
           }
          ],
          "choropleth": [
           {
            "colorbar": {
             "outlinewidth": 0,
             "ticks": ""
            },
            "type": "choropleth"
           }
          ],
          "contour": [
           {
            "colorbar": {
             "outlinewidth": 0,
             "ticks": ""
            },
            "colorscale": [
             [
              0,
              "#0d0887"
             ],
             [
              0.1111111111111111,
              "#46039f"
             ],
             [
              0.2222222222222222,
              "#7201a8"
             ],
             [
              0.3333333333333333,
              "#9c179e"
             ],
             [
              0.4444444444444444,
              "#bd3786"
             ],
             [
              0.5555555555555556,
              "#d8576b"
             ],
             [
              0.6666666666666666,
              "#ed7953"
             ],
             [
              0.7777777777777778,
              "#fb9f3a"
             ],
             [
              0.8888888888888888,
              "#fdca26"
             ],
             [
              1,
              "#f0f921"
             ]
            ],
            "type": "contour"
           }
          ],
          "contourcarpet": [
           {
            "colorbar": {
             "outlinewidth": 0,
             "ticks": ""
            },
            "type": "contourcarpet"
           }
          ],
          "heatmap": [
           {
            "colorbar": {
             "outlinewidth": 0,
             "ticks": ""
            },
            "colorscale": [
             [
              0,
              "#0d0887"
             ],
             [
              0.1111111111111111,
              "#46039f"
             ],
             [
              0.2222222222222222,
              "#7201a8"
             ],
             [
              0.3333333333333333,
              "#9c179e"
             ],
             [
              0.4444444444444444,
              "#bd3786"
             ],
             [
              0.5555555555555556,
              "#d8576b"
             ],
             [
              0.6666666666666666,
              "#ed7953"
             ],
             [
              0.7777777777777778,
              "#fb9f3a"
             ],
             [
              0.8888888888888888,
              "#fdca26"
             ],
             [
              1,
              "#f0f921"
             ]
            ],
            "type": "heatmap"
           }
          ],
          "heatmapgl": [
           {
            "colorbar": {
             "outlinewidth": 0,
             "ticks": ""
            },
            "colorscale": [
             [
              0,
              "#0d0887"
             ],
             [
              0.1111111111111111,
              "#46039f"
             ],
             [
              0.2222222222222222,
              "#7201a8"
             ],
             [
              0.3333333333333333,
              "#9c179e"
             ],
             [
              0.4444444444444444,
              "#bd3786"
             ],
             [
              0.5555555555555556,
              "#d8576b"
             ],
             [
              0.6666666666666666,
              "#ed7953"
             ],
             [
              0.7777777777777778,
              "#fb9f3a"
             ],
             [
              0.8888888888888888,
              "#fdca26"
             ],
             [
              1,
              "#f0f921"
             ]
            ],
            "type": "heatmapgl"
           }
          ],
          "histogram": [
           {
            "marker": {
             "pattern": {
              "fillmode": "overlay",
              "size": 10,
              "solidity": 0.2
             }
            },
            "type": "histogram"
           }
          ],
          "histogram2d": [
           {
            "colorbar": {
             "outlinewidth": 0,
             "ticks": ""
            },
            "colorscale": [
             [
              0,
              "#0d0887"
             ],
             [
              0.1111111111111111,
              "#46039f"
             ],
             [
              0.2222222222222222,
              "#7201a8"
             ],
             [
              0.3333333333333333,
              "#9c179e"
             ],
             [
              0.4444444444444444,
              "#bd3786"
             ],
             [
              0.5555555555555556,
              "#d8576b"
             ],
             [
              0.6666666666666666,
              "#ed7953"
             ],
             [
              0.7777777777777778,
              "#fb9f3a"
             ],
             [
              0.8888888888888888,
              "#fdca26"
             ],
             [
              1,
              "#f0f921"
             ]
            ],
            "type": "histogram2d"
           }
          ],
          "histogram2dcontour": [
           {
            "colorbar": {
             "outlinewidth": 0,
             "ticks": ""
            },
            "colorscale": [
             [
              0,
              "#0d0887"
             ],
             [
              0.1111111111111111,
              "#46039f"
             ],
             [
              0.2222222222222222,
              "#7201a8"
             ],
             [
              0.3333333333333333,
              "#9c179e"
             ],
             [
              0.4444444444444444,
              "#bd3786"
             ],
             [
              0.5555555555555556,
              "#d8576b"
             ],
             [
              0.6666666666666666,
              "#ed7953"
             ],
             [
              0.7777777777777778,
              "#fb9f3a"
             ],
             [
              0.8888888888888888,
              "#fdca26"
             ],
             [
              1,
              "#f0f921"
             ]
            ],
            "type": "histogram2dcontour"
           }
          ],
          "mesh3d": [
           {
            "colorbar": {
             "outlinewidth": 0,
             "ticks": ""
            },
            "type": "mesh3d"
           }
          ],
          "parcoords": [
           {
            "line": {
             "colorbar": {
              "outlinewidth": 0,
              "ticks": ""
             }
            },
            "type": "parcoords"
           }
          ],
          "pie": [
           {
            "automargin": true,
            "type": "pie"
           }
          ],
          "scatter": [
           {
            "fillpattern": {
             "fillmode": "overlay",
             "size": 10,
             "solidity": 0.2
            },
            "type": "scatter"
           }
          ],
          "scatter3d": [
           {
            "line": {
             "colorbar": {
              "outlinewidth": 0,
              "ticks": ""
             }
            },
            "marker": {
             "colorbar": {
              "outlinewidth": 0,
              "ticks": ""
             }
            },
            "type": "scatter3d"
           }
          ],
          "scattercarpet": [
           {
            "marker": {
             "colorbar": {
              "outlinewidth": 0,
              "ticks": ""
             }
            },
            "type": "scattercarpet"
           }
          ],
          "scattergeo": [
           {
            "marker": {
             "colorbar": {
              "outlinewidth": 0,
              "ticks": ""
             }
            },
            "type": "scattergeo"
           }
          ],
          "scattergl": [
           {
            "marker": {
             "colorbar": {
              "outlinewidth": 0,
              "ticks": ""
             }
            },
            "type": "scattergl"
           }
          ],
          "scattermapbox": [
           {
            "marker": {
             "colorbar": {
              "outlinewidth": 0,
              "ticks": ""
             }
            },
            "type": "scattermapbox"
           }
          ],
          "scatterpolar": [
           {
            "marker": {
             "colorbar": {
              "outlinewidth": 0,
              "ticks": ""
             }
            },
            "type": "scatterpolar"
           }
          ],
          "scatterpolargl": [
           {
            "marker": {
             "colorbar": {
              "outlinewidth": 0,
              "ticks": ""
             }
            },
            "type": "scatterpolargl"
           }
          ],
          "scatterternary": [
           {
            "marker": {
             "colorbar": {
              "outlinewidth": 0,
              "ticks": ""
             }
            },
            "type": "scatterternary"
           }
          ],
          "surface": [
           {
            "colorbar": {
             "outlinewidth": 0,
             "ticks": ""
            },
            "colorscale": [
             [
              0,
              "#0d0887"
             ],
             [
              0.1111111111111111,
              "#46039f"
             ],
             [
              0.2222222222222222,
              "#7201a8"
             ],
             [
              0.3333333333333333,
              "#9c179e"
             ],
             [
              0.4444444444444444,
              "#bd3786"
             ],
             [
              0.5555555555555556,
              "#d8576b"
             ],
             [
              0.6666666666666666,
              "#ed7953"
             ],
             [
              0.7777777777777778,
              "#fb9f3a"
             ],
             [
              0.8888888888888888,
              "#fdca26"
             ],
             [
              1,
              "#f0f921"
             ]
            ],
            "type": "surface"
           }
          ],
          "table": [
           {
            "cells": {
             "fill": {
              "color": "#EBF0F8"
             },
             "line": {
              "color": "white"
             }
            },
            "header": {
             "fill": {
              "color": "#C8D4E3"
             },
             "line": {
              "color": "white"
             }
            },
            "type": "table"
           }
          ]
         },
         "layout": {
          "annotationdefaults": {
           "arrowcolor": "#2a3f5f",
           "arrowhead": 0,
           "arrowwidth": 1
          },
          "autotypenumbers": "strict",
          "coloraxis": {
           "colorbar": {
            "outlinewidth": 0,
            "ticks": ""
           }
          },
          "colorscale": {
           "diverging": [
            [
             0,
             "#8e0152"
            ],
            [
             0.1,
             "#c51b7d"
            ],
            [
             0.2,
             "#de77ae"
            ],
            [
             0.3,
             "#f1b6da"
            ],
            [
             0.4,
             "#fde0ef"
            ],
            [
             0.5,
             "#f7f7f7"
            ],
            [
             0.6,
             "#e6f5d0"
            ],
            [
             0.7,
             "#b8e186"
            ],
            [
             0.8,
             "#7fbc41"
            ],
            [
             0.9,
             "#4d9221"
            ],
            [
             1,
             "#276419"
            ]
           ],
           "sequential": [
            [
             0,
             "#0d0887"
            ],
            [
             0.1111111111111111,
             "#46039f"
            ],
            [
             0.2222222222222222,
             "#7201a8"
            ],
            [
             0.3333333333333333,
             "#9c179e"
            ],
            [
             0.4444444444444444,
             "#bd3786"
            ],
            [
             0.5555555555555556,
             "#d8576b"
            ],
            [
             0.6666666666666666,
             "#ed7953"
            ],
            [
             0.7777777777777778,
             "#fb9f3a"
            ],
            [
             0.8888888888888888,
             "#fdca26"
            ],
            [
             1,
             "#f0f921"
            ]
           ],
           "sequentialminus": [
            [
             0,
             "#0d0887"
            ],
            [
             0.1111111111111111,
             "#46039f"
            ],
            [
             0.2222222222222222,
             "#7201a8"
            ],
            [
             0.3333333333333333,
             "#9c179e"
            ],
            [
             0.4444444444444444,
             "#bd3786"
            ],
            [
             0.5555555555555556,
             "#d8576b"
            ],
            [
             0.6666666666666666,
             "#ed7953"
            ],
            [
             0.7777777777777778,
             "#fb9f3a"
            ],
            [
             0.8888888888888888,
             "#fdca26"
            ],
            [
             1,
             "#f0f921"
            ]
           ]
          },
          "colorway": [
           "#636efa",
           "#EF553B",
           "#00cc96",
           "#ab63fa",
           "#FFA15A",
           "#19d3f3",
           "#FF6692",
           "#B6E880",
           "#FF97FF",
           "#FECB52"
          ],
          "font": {
           "color": "#2a3f5f"
          },
          "geo": {
           "bgcolor": "white",
           "lakecolor": "white",
           "landcolor": "#E5ECF6",
           "showlakes": true,
           "showland": true,
           "subunitcolor": "white"
          },
          "hoverlabel": {
           "align": "left"
          },
          "hovermode": "closest",
          "mapbox": {
           "style": "light"
          },
          "paper_bgcolor": "white",
          "plot_bgcolor": "#E5ECF6",
          "polar": {
           "angularaxis": {
            "gridcolor": "white",
            "linecolor": "white",
            "ticks": ""
           },
           "bgcolor": "#E5ECF6",
           "radialaxis": {
            "gridcolor": "white",
            "linecolor": "white",
            "ticks": ""
           }
          },
          "scene": {
           "xaxis": {
            "backgroundcolor": "#E5ECF6",
            "gridcolor": "white",
            "gridwidth": 2,
            "linecolor": "white",
            "showbackground": true,
            "ticks": "",
            "zerolinecolor": "white"
           },
           "yaxis": {
            "backgroundcolor": "#E5ECF6",
            "gridcolor": "white",
            "gridwidth": 2,
            "linecolor": "white",
            "showbackground": true,
            "ticks": "",
            "zerolinecolor": "white"
           },
           "zaxis": {
            "backgroundcolor": "#E5ECF6",
            "gridcolor": "white",
            "gridwidth": 2,
            "linecolor": "white",
            "showbackground": true,
            "ticks": "",
            "zerolinecolor": "white"
           }
          },
          "shapedefaults": {
           "line": {
            "color": "#2a3f5f"
           }
          },
          "ternary": {
           "aaxis": {
            "gridcolor": "white",
            "linecolor": "white",
            "ticks": ""
           },
           "baxis": {
            "gridcolor": "white",
            "linecolor": "white",
            "ticks": ""
           },
           "bgcolor": "#E5ECF6",
           "caxis": {
            "gridcolor": "white",
            "linecolor": "white",
            "ticks": ""
           }
          },
          "title": {
           "x": 0.05
          },
          "xaxis": {
           "automargin": true,
           "gridcolor": "white",
           "linecolor": "white",
           "ticks": "",
           "title": {
            "standoff": 15
           },
           "zerolinecolor": "white",
           "zerolinewidth": 2
          },
          "yaxis": {
           "automargin": true,
           "gridcolor": "white",
           "linecolor": "white",
           "ticks": "",
           "title": {
            "standoff": 15
           },
           "zerolinecolor": "white",
           "zerolinewidth": 2
          }
         }
        },
        "title": {
         "text": "Lowest Calories per 100 grams by Food Item"
        },
        "xaxis": {
         "anchor": "y",
         "domain": [
          0,
          1
         ],
         "title": {
          "text": "x"
         }
        },
        "yaxis": {
         "anchor": "x",
         "domain": [
          0,
          1
         ],
         "title": {
          "text": "sum of y"
         }
        }
       }
      }
     },
     "metadata": {},
     "output_type": "display_data"
    }
   ],
   "source": [
    "less_cal_food_items = df.nsmallest(10, 'Cals_per100grams')\n",
    "\n",
    "plt = px.histogram(df, x=less_cal_food_items['FoodItem'], y=less_cal_food_items['Cals_per100grams'], title='Lowest Calories per 100 grams by Food Item', color_discrete_sequence=px.colors.sequential.ice_r)\n",
    "plt.show()"
   ]
  },
  {
   "cell_type": "markdown",
   "metadata": {},
   "source": [
    "<h2 style=\"color: #4CAF50;text-align:center\">Food Categories by Kilojoules</h2>"
   ]
  },
  {
   "cell_type": "code",
   "execution_count": 82,
   "metadata": {},
   "outputs": [
    {
     "data": {
      "application/vnd.plotly.v1+json": {
       "config": {
        "plotlyServerURL": "https://plot.ly"
       },
       "data": [
        {
         "alignmentgroup": "True",
         "bingroup": "x",
         "histfunc": "sum",
         "hovertemplate": "FoodCategory=%{x}<br>sum of KJ_per100grams=%{y}<extra></extra>",
         "legendgroup": "",
         "marker": {
          "color": "rgb(39, 26, 44)",
          "pattern": {
           "shape": ""
          }
         },
         "name": "",
         "offsetgroup": "",
         "orientation": "v",
         "showlegend": false,
         "type": "histogram",
         "x": [
          "CannedFruit",
          "CannedFruit",
          "CannedFruit",
          "CannedFruit",
          "CannedFruit",
          "CannedFruit",
          "CannedFruit",
          "CannedFruit",
          "CannedFruit",
          "CannedFruit",
          "CannedFruit",
          "CannedFruit",
          "CannedFruit",
          "CannedFruit",
          "CannedFruit",
          "CannedFruit",
          "CannedFruit",
          "CannedFruit",
          "CannedFruit",
          "CannedFruit",
          "CannedFruit",
          "CannedFruit",
          "CannedFruit",
          "CannedFruit",
          "CannedFruit",
          "CannedFruit",
          "CannedFruit",
          "CannedFruit",
          "CannedFruit",
          "Fruits",
          "Fruits",
          "Fruits",
          "Fruits",
          "Fruits",
          "Fruits",
          "Fruits",
          "Fruits",
          "Fruits",
          "Fruits",
          "Fruits",
          "Fruits",
          "Fruits",
          "Fruits",
          "Fruits",
          "Fruits",
          "Fruits",
          "Fruits",
          "Fruits",
          "Fruits",
          "Fruits",
          "Fruits",
          "Fruits",
          "Fruits",
          "Fruits",
          "Fruits",
          "Fruits",
          "Fruits",
          "Fruits",
          "Fruits",
          "Fruits",
          "Fruits",
          "Fruits",
          "Fruits",
          "Fruits",
          "Fruits",
          "Fruits",
          "Fruits",
          "Fruits",
          "Fruits",
          "Fruits",
          "Fruits",
          "Fruits",
          "Fruits",
          "Fruits",
          "Fruits",
          "Fruits",
          "Fruits",
          "Fruits",
          "Fruits",
          "Fruits",
          "Fruits",
          "Fruits",
          "Fruits",
          "Tropical&ExoticFruits",
          "Tropical&ExoticFruits",
          "Tropical&ExoticFruits",
          "Tropical&ExoticFruits",
          "Tropical&ExoticFruits",
          "Tropical&ExoticFruits",
          "Tropical&ExoticFruits",
          "Tropical&ExoticFruits",
          "Tropical&ExoticFruits",
          "Tropical&ExoticFruits",
          "Tropical&ExoticFruits",
          "Tropical&ExoticFruits",
          "Tropical&ExoticFruits",
          "Tropical&ExoticFruits",
          "Tropical&ExoticFruits",
          "Tropical&ExoticFruits",
          "Tropical&ExoticFruits",
          "Tropical&ExoticFruits",
          "Tropical&ExoticFruits",
          "Tropical&ExoticFruits",
          "Tropical&ExoticFruits",
          "Tropical&ExoticFruits",
          "Tropical&ExoticFruits",
          "Tropical&ExoticFruits",
          "Tropical&ExoticFruits",
          "Tropical&ExoticFruits",
          "Tropical&ExoticFruits",
          "Tropical&ExoticFruits",
          "Tropical&ExoticFruits",
          "Tropical&ExoticFruits",
          "Tropical&ExoticFruits",
          "Tropical&ExoticFruits",
          "Tropical&ExoticFruits",
          "Tropical&ExoticFruits",
          "Tropical&ExoticFruits",
          "Tropical&ExoticFruits",
          "Tropical&ExoticFruits",
          "Tropical&ExoticFruits",
          "Tropical&ExoticFruits",
          "PotatoProducts",
          "PotatoProducts",
          "PotatoProducts",
          "PotatoProducts",
          "PotatoProducts",
          "PotatoProducts",
          "PotatoProducts",
          "PotatoProducts",
          "PotatoProducts",
          "PotatoProducts",
          "PotatoProducts",
          "PotatoProducts",
          "PotatoProducts",
          "PotatoProducts",
          "PotatoProducts",
          "PotatoProducts",
          "PotatoProducts",
          "PotatoProducts",
          "PotatoProducts",
          "PotatoProducts",
          "PotatoProducts",
          "PotatoProducts",
          "PotatoProducts",
          "PotatoProducts",
          "PotatoProducts",
          "PotatoProducts",
          "PotatoProducts",
          "PotatoProducts",
          "PotatoProducts",
          "PotatoProducts",
          "PotatoProducts",
          "PotatoProducts",
          "PotatoProducts",
          "PotatoProducts",
          "PotatoProducts",
          "PotatoProducts",
          "PotatoProducts",
          "PotatoProducts",
          "PotatoProducts",
          "Vegetables",
          "Vegetables",
          "Vegetables",
          "Vegetables",
          "Vegetables",
          "Vegetables",
          "Vegetables",
          "Vegetables",
          "Vegetables",
          "Vegetables",
          "Vegetables",
          "Vegetables",
          "Vegetables",
          "Vegetables",
          "Vegetables",
          "Vegetables",
          "Vegetables",
          "Vegetables",
          "Vegetables",
          "Vegetables",
          "Vegetables",
          "Vegetables",
          "Vegetables",
          "Vegetables",
          "Vegetables",
          "Vegetables",
          "Vegetables",
          "Vegetables",
          "Vegetables",
          "Vegetables",
          "Vegetables",
          "Vegetables",
          "Vegetables",
          "Vegetables",
          "Vegetables",
          "Vegetables",
          "Vegetables",
          "Vegetables",
          "Vegetables",
          "Vegetables",
          "Vegetables",
          "Vegetables",
          "Vegetables",
          "Vegetables",
          "Vegetables",
          "Vegetables",
          "Vegetables",
          "Vegetables",
          "Vegetables",
          "Vegetables",
          "Vegetables",
          "Vegetables",
          "Vegetables",
          "Vegetables",
          "Vegetables",
          "Vegetables",
          "Vegetables",
          "Vegetables",
          "Vegetables",
          "Vegetables",
          "Vegetables",
          "Vegetables",
          "Vegetables",
          "FastFood",
          "FastFood",
          "FastFood",
          "FastFood",
          "FastFood",
          "FastFood",
          "FastFood",
          "FastFood",
          "FastFood",
          "FastFood",
          "FastFood",
          "FastFood",
          "FastFood",
          "FastFood",
          "FastFood",
          "FastFood",
          "FastFood",
          "FastFood",
          "FastFood",
          "FastFood",
          "FastFood",
          "FastFood",
          "FastFood",
          "FastFood",
          "FastFood",
          "FastFood",
          "FastFood",
          "FastFood",
          "FastFood",
          "FastFood",
          "FastFood",
          "FastFood",
          "FastFood",
          "FastFood",
          "FastFood",
          "FastFood",
          "FastFood",
          "FastFood",
          "FastFood",
          "FastFood",
          "FastFood",
          "FastFood",
          "FastFood",
          "FastFood",
          "FastFood",
          "FastFood",
          "FastFood",
          "FastFood",
          "FastFood",
          "FastFood",
          "FastFood",
          "FastFood",
          "FastFood",
          "FastFood",
          "FastFood",
          "FastFood",
          "FastFood",
          "FastFood",
          "FastFood",
          "FastFood",
          "FastFood",
          "FastFood",
          "FastFood",
          "FastFood",
          "FastFood",
          "FastFood",
          "FastFood",
          "FastFood",
          "FastFood",
          "FastFood",
          "FastFood",
          "FastFood",
          "Pizza",
          "Pizza",
          "Pizza",
          "Pizza",
          "Pizza",
          "Pizza",
          "Pizza",
          "Pizza",
          "Pizza",
          "Pizza",
          "Pizza",
          "Pizza",
          "Pizza",
          "Pizza",
          "Pizza",
          "Pizza",
          "Pizza",
          "Pizza",
          "Pizza",
          "Pizza",
          "Pizza",
          "Pizza",
          "Pizza",
          "Pizza",
          "Pizza",
          "Pizza",
          "Pizza",
          "Pizza",
          "Pizza",
          "Pizza",
          "Pizza",
          "Pizza",
          "Pizza",
          "Pizza",
          "Pizza",
          "Pizza",
          "Pizza",
          "Pizza",
          "Pizza",
          "Pizza",
          "Pizza",
          "Pizza",
          "Pizza",
          "Cheese",
          "Cheese",
          "Cheese",
          "Cheese",
          "Cheese",
          "Cheese",
          "Cheese",
          "Cheese",
          "Cheese",
          "Cheese",
          "Cheese",
          "Cheese",
          "Cheese",
          "Cheese",
          "Cheese",
          "Cheese",
          "Cheese",
          "Cheese",
          "Cheese",
          "Cheese",
          "Cheese",
          "Cheese",
          "Cheese",
          "Cheese",
          "Cheese",
          "Cheese",
          "Cheese",
          "Cheese",
          "Cheese",
          "Cheese",
          "Cheese",
          "Cheese",
          "Cheese",
          "Cheese",
          "Cheese",
          "Cheese",
          "Cheese",
          "Cheese",
          "Cheese",
          "Cheese",
          "Cheese",
          "Cheese",
          "Cheese",
          "Cheese",
          "Cheese",
          "Cheese",
          "Cheese",
          "Cheese",
          "Cheese",
          "Cheese",
          "Cheese",
          "Cheese",
          "Cheese",
          "CreamCheese",
          "CreamCheese",
          "CreamCheese",
          "CreamCheese",
          "CreamCheese",
          "CreamCheese",
          "CreamCheese",
          "CreamCheese",
          "CreamCheese",
          "CreamCheese",
          "CreamCheese",
          "CreamCheese",
          "CreamCheese",
          "CreamCheese",
          "CreamCheese",
          "CreamCheese",
          "CreamCheese",
          "Milk&DairyProducts",
          "Milk&DairyProducts",
          "Milk&DairyProducts",
          "Milk&DairyProducts",
          "Milk&DairyProducts",
          "Milk&DairyProducts",
          "Milk&DairyProducts",
          "Milk&DairyProducts",
          "Milk&DairyProducts",
          "Milk&DairyProducts",
          "Milk&DairyProducts",
          "Milk&DairyProducts",
          "Milk&DairyProducts",
          "Milk&DairyProducts",
          "Milk&DairyProducts",
          "Milk&DairyProducts",
          "Milk&DairyProducts",
          "Milk&DairyProducts",
          "Milk&DairyProducts",
          "Milk&DairyProducts",
          "Milk&DairyProducts",
          "Milk&DairyProducts",
          "Milk&DairyProducts",
          "Milk&DairyProducts",
          "Milk&DairyProducts",
          "Milk&DairyProducts",
          "Milk&DairyProducts",
          "Milk&DairyProducts",
          "Milk&DairyProducts",
          "Milk&DairyProducts",
          "Milk&DairyProducts",
          "Milk&DairyProducts",
          "Milk&DairyProducts",
          "SlicedCheese",
          "SlicedCheese",
          "SlicedCheese",
          "SlicedCheese",
          "SlicedCheese",
          "SlicedCheese",
          "SlicedCheese",
          "SlicedCheese",
          "SlicedCheese",
          "SlicedCheese",
          "SlicedCheese",
          "SlicedCheese",
          "SlicedCheese",
          "SlicedCheese",
          "SlicedCheese",
          "SlicedCheese",
          "SlicedCheese",
          "SlicedCheese",
          "SlicedCheese",
          "SlicedCheese",
          "SlicedCheese",
          "SlicedCheese",
          "SlicedCheese",
          "SlicedCheese",
          "SlicedCheese",
          "SlicedCheese",
          "SlicedCheese",
          "SlicedCheese",
          "SlicedCheese",
          "SlicedCheese",
          "SlicedCheese",
          "SlicedCheese",
          "SlicedCheese",
          "SlicedCheese",
          "Yogurt",
          "Yogurt",
          "Yogurt",
          "Yogurt",
          "Yogurt",
          "Yogurt",
          "Yogurt",
          "Yogurt",
          "Yogurt",
          "Yogurt",
          "Yogurt",
          "Yogurt",
          "Yogurt",
          "Yogurt",
          "Yogurt",
          "Yogurt",
          "Yogurt",
          "Yogurt",
          "Yogurt",
          "Yogurt",
          "Yogurt",
          "Yogurt",
          "Yogurt",
          "Yogurt",
          "Yogurt",
          "Yogurt",
          "Yogurt",
          "Yogurt",
          "Yogurt",
          "Yogurt",
          "Yogurt",
          "Yogurt",
          "Yogurt",
          "Yogurt",
          "Yogurt",
          "Yogurt",
          "Yogurt",
          "Yogurt",
          "Yogurt",
          "Yogurt",
          "Beef&Veal",
          "Beef&Veal",
          "Beef&Veal",
          "Beef&Veal",
          "Beef&Veal",
          "Beef&Veal",
          "Beef&Veal",
          "Beef&Veal",
          "Beef&Veal",
          "Beef&Veal",
          "Beef&Veal",
          "Beef&Veal",
          "Beef&Veal",
          "Beef&Veal",
          "Beef&Veal",
          "Beef&Veal",
          "Beef&Veal",
          "Beef&Veal",
          "Beef&Veal",
          "Beef&Veal",
          "Beef&Veal",
          "Beef&Veal",
          "Beef&Veal",
          "Beef&Veal",
          "Beef&Veal",
          "Beef&Veal",
          "Beef&Veal",
          "Beef&Veal",
          "Beef&Veal",
          "Beef&Veal",
          "Beef&Veal",
          "Beef&Veal",
          "Beef&Veal",
          "Beef&Veal",
          "Beef&Veal",
          "Beef&Veal",
          "Beef&Veal",
          "Beef&Veal",
          "Beef&Veal",
          "ColdCuts&LunchMeat",
          "ColdCuts&LunchMeat",
          "ColdCuts&LunchMeat",
          "ColdCuts&LunchMeat",
          "ColdCuts&LunchMeat",
          "ColdCuts&LunchMeat",
          "ColdCuts&LunchMeat",
          "ColdCuts&LunchMeat",
          "ColdCuts&LunchMeat",
          "ColdCuts&LunchMeat",
          "ColdCuts&LunchMeat",
          "ColdCuts&LunchMeat",
          "ColdCuts&LunchMeat",
          "ColdCuts&LunchMeat",
          "ColdCuts&LunchMeat",
          "ColdCuts&LunchMeat",
          "ColdCuts&LunchMeat",
          "ColdCuts&LunchMeat",
          "ColdCuts&LunchMeat",
          "ColdCuts&LunchMeat",
          "ColdCuts&LunchMeat",
          "ColdCuts&LunchMeat",
          "ColdCuts&LunchMeat",
          "ColdCuts&LunchMeat",
          "ColdCuts&LunchMeat",
          "ColdCuts&LunchMeat",
          "ColdCuts&LunchMeat",
          "ColdCuts&LunchMeat",
          "ColdCuts&LunchMeat",
          "ColdCuts&LunchMeat",
          "ColdCuts&LunchMeat",
          "ColdCuts&LunchMeat",
          "ColdCuts&LunchMeat",
          "ColdCuts&LunchMeat",
          "ColdCuts&LunchMeat",
          "Meat",
          "Meat",
          "Meat",
          "Meat",
          "Meat",
          "Meat",
          "Meat",
          "Meat",
          "Meat",
          "Meat",
          "Meat",
          "Meat",
          "Meat",
          "Meat",
          "Meat",
          "Meat",
          "Meat",
          "Meat",
          "Meat",
          "Meat",
          "Meat",
          "Meat",
          "Meat",
          "Meat",
          "Meat",
          "Meat",
          "Meat",
          "Meat",
          "Meat",
          "Meat",
          "Meat",
          "Meat",
          "Meat",
          "Meat",
          "Meat",
          "Meat",
          "Meat",
          "Meat",
          "Meat",
          "Meat",
          "Meat",
          "Meat",
          "Meat",
          "Meat",
          "Meat",
          "Meat",
          "Offal&Giblets",
          "Offal&Giblets",
          "Offal&Giblets",
          "Offal&Giblets",
          "Offal&Giblets",
          "Offal&Giblets",
          "Offal&Giblets",
          "Offal&Giblets",
          "Offal&Giblets",
          "Offal&Giblets",
          "Offal&Giblets",
          "Offal&Giblets",
          "Offal&Giblets",
          "Offal&Giblets",
          "Offal&Giblets",
          "Offal&Giblets",
          "Offal&Giblets",
          "Offal&Giblets",
          "Offal&Giblets",
          "Offal&Giblets",
          "Offal&Giblets",
          "Offal&Giblets",
          "Offal&Giblets",
          "Offal&Giblets",
          "Offal&Giblets",
          "Offal&Giblets",
          "Offal&Giblets",
          "Offal&Giblets",
          "Offal&Giblets",
          "Offal&Giblets",
          "Offal&Giblets",
          "Offal&Giblets",
          "Offal&Giblets",
          "Pork",
          "Pork",
          "Pork",
          "Pork",
          "Pork",
          "Pork",
          "Pork",
          "Pork",
          "Pork",
          "Pork",
          "Pork",
          "Pork",
          "Pork",
          "Pork",
          "Pork",
          "Pork",
          "Pork",
          "Pork",
          "Pork",
          "Pork",
          "Pork",
          "Pork",
          "Pork",
          "Pork",
          "Pork",
          "Pork",
          "Pork",
          "Pork",
          "Pork",
          "Pork",
          "Pork",
          "Pork",
          "Pork",
          "Pork",
          "Pork",
          "Pork",
          "Pork",
          "Pork",
          "Pork",
          "Poultry&Fowl",
          "Poultry&Fowl",
          "Poultry&Fowl",
          "Poultry&Fowl",
          "Poultry&Fowl",
          "Poultry&Fowl",
          "Poultry&Fowl",
          "Poultry&Fowl",
          "Poultry&Fowl",
          "Poultry&Fowl",
          "Poultry&Fowl",
          "Poultry&Fowl",
          "Poultry&Fowl",
          "Poultry&Fowl",
          "Poultry&Fowl",
          "Poultry&Fowl",
          "Poultry&Fowl",
          "Poultry&Fowl",
          "Poultry&Fowl",
          "Poultry&Fowl",
          "Poultry&Fowl",
          "Poultry&Fowl",
          "Poultry&Fowl",
          "Poultry&Fowl",
          "Poultry&Fowl",
          "Poultry&Fowl",
          "Poultry&Fowl",
          "Poultry&Fowl",
          "Poultry&Fowl",
          "Poultry&Fowl",
          "Poultry&Fowl",
          "Poultry&Fowl",
          "Poultry&Fowl",
          "Sausage",
          "Sausage",
          "Sausage",
          "Sausage",
          "Sausage",
          "Sausage",
          "Sausage",
          "Sausage",
          "Sausage",
          "Sausage",
          "Sausage",
          "Sausage",
          "Sausage",
          "Sausage",
          "Sausage",
          "Sausage",
          "Sausage",
          "Sausage",
          "Sausage",
          "Sausage",
          "Sausage",
          "Sausage",
          "Sausage",
          "Sausage",
          "Sausage",
          "Sausage",
          "Sausage",
          "Sausage",
          "Sausage",
          "Sausage",
          "Sausage",
          "Sausage",
          "Sausage",
          "Sausage",
          "Sausage",
          "Sausage",
          "Sausage",
          "Sausage",
          "Sausage",
          "Sausage",
          "Sausage",
          "Sausage",
          "Sausage",
          "Sausage",
          "Sausage",
          "Sausage",
          "Sausage",
          "Venison&Game",
          "Venison&Game",
          "Venison&Game",
          "Venison&Game",
          "Venison&Game",
          "Venison&Game",
          "Venison&Game",
          "Venison&Game",
          "Venison&Game",
          "Venison&Game",
          "Venison&Game",
          "Venison&Game",
          "Venison&Game",
          "Venison&Game",
          "Venison&Game",
          "Venison&Game",
          "Venison&Game",
          "Venison&Game",
          "Venison&Game",
          "Venison&Game",
          "Venison&Game",
          "Venison&Game",
          "Venison&Game",
          "Venison&Game",
          "Venison&Game",
          "Venison&Game",
          "Venison&Game",
          "Venison&Game",
          "Venison&Game",
          "Venison&Game",
          "Venison&Game",
          "Venison&Game",
          "Venison&Game",
          "Venison&Game",
          "Venison&Game",
          "Venison&Game",
          "Cakes&Pies",
          "Cakes&Pies",
          "Cakes&Pies",
          "Cakes&Pies",
          "Cakes&Pies",
          "Cakes&Pies",
          "Cakes&Pies",
          "Cakes&Pies",
          "Cakes&Pies",
          "Cakes&Pies",
          "Cakes&Pies",
          "Cakes&Pies",
          "Cakes&Pies",
          "Cakes&Pies",
          "Cakes&Pies",
          "Cakes&Pies",
          "Cakes&Pies",
          "Cakes&Pies",
          "Cakes&Pies",
          "Cakes&Pies",
          "Cakes&Pies",
          "Cakes&Pies",
          "Cakes&Pies",
          "Cakes&Pies",
          "Cakes&Pies",
          "Cakes&Pies",
          "Cakes&Pies",
          "Cakes&Pies",
          "Cakes&Pies",
          "Cakes&Pies",
          "Cakes&Pies",
          "Cakes&Pies",
          "Cakes&Pies",
          "Cakes&Pies",
          "Cakes&Pies",
          "Cakes&Pies",
          "Cakes&Pies",
          "Cakes&Pies",
          "Cakes&Pies",
          "Cakes&Pies",
          "Cakes&Pies",
          "Cakes&Pies",
          "Cakes&Pies",
          "Cakes&Pies",
          "Cakes&Pies",
          "Cakes&Pies",
          "Cakes&Pies",
          "Cakes&Pies",
          "Cakes&Pies",
          "Cakes&Pies",
          "Cakes&Pies",
          "Cakes&Pies",
          "Cakes&Pies",
          "Cakes&Pies",
          "Cakes&Pies",
          "Cakes&Pies",
          "Cakes&Pies",
          "Cakes&Pies",
          "Cakes&Pies",
          "Cakes&Pies",
          "Cakes&Pies",
          "Cakes&Pies",
          "Cakes&Pies",
          "Cakes&Pies",
          "Cakes&Pies",
          "Cakes&Pies",
          "Cakes&Pies",
          "Cakes&Pies",
          "Cakes&Pies",
          "Cakes&Pies",
          "Cakes&Pies",
          "Cakes&Pies",
          "Cakes&Pies",
          "Cakes&Pies",
          "Cakes&Pies",
          "Cakes&Pies",
          "Cakes&Pies",
          "Cakes&Pies",
          "Cakes&Pies",
          "Cakes&Pies",
          "Cakes&Pies",
          "Cakes&Pies",
          "Cakes&Pies",
          "Cakes&Pies",
          "Cakes&Pies",
          "Cakes&Pies",
          "Cakes&Pies",
          "Cakes&Pies",
          "Cakes&Pies",
          "Cakes&Pies",
          "Cakes&Pies",
          "Candy&Sweets",
          "Candy&Sweets",
          "Candy&Sweets",
          "Candy&Sweets",
          "Candy&Sweets",
          "Candy&Sweets",
          "Candy&Sweets",
          "Candy&Sweets",
          "Candy&Sweets",
          "Candy&Sweets",
          "Candy&Sweets",
          "Candy&Sweets",
          "Candy&Sweets",
          "Candy&Sweets",
          "Candy&Sweets",
          "Candy&Sweets",
          "Candy&Sweets",
          "Candy&Sweets",
          "Candy&Sweets",
          "Candy&Sweets",
          "Candy&Sweets",
          "Candy&Sweets",
          "Candy&Sweets",
          "Candy&Sweets",
          "Candy&Sweets",
          "Candy&Sweets",
          "Candy&Sweets",
          "Candy&Sweets",
          "Candy&Sweets",
          "Candy&Sweets",
          "Candy&Sweets",
          "Candy&Sweets",
          "Candy&Sweets",
          "Candy&Sweets",
          "Candy&Sweets",
          "Candy&Sweets",
          "Candy&Sweets",
          "Candy&Sweets",
          "Candy&Sweets",
          "Candy&Sweets",
          "Candy&Sweets",
          "Candy&Sweets",
          "Candy&Sweets",
          "Candy&Sweets",
          "Candy&Sweets",
          "Candy&Sweets",
          "Candy&Sweets",
          "Candy&Sweets",
          "Candy&Sweets",
          "Candy&Sweets",
          "Candy&Sweets",
          "Candy&Sweets",
          "Candy&Sweets",
          "Candy&Sweets",
          "Candy&Sweets",
          "Candy&Sweets",
          "Candy&Sweets",
          "Candy&Sweets",
          "Candy&Sweets",
          "Candy&Sweets",
          "Candy&Sweets",
          "Candy&Sweets",
          "Candy&Sweets",
          "Candy&Sweets",
          "Candy&Sweets",
          "Candy&Sweets",
          "Candy&Sweets",
          "Candy&Sweets",
          "Candy&Sweets",
          "Candy&Sweets",
          "Candy&Sweets",
          "Candy&Sweets",
          "Candy&Sweets",
          "Candy&Sweets",
          "Candy&Sweets",
          "Candy&Sweets",
          "Candy&Sweets",
          "Candy&Sweets",
          "Candy&Sweets",
          "Candy&Sweets",
          "Candy&Sweets",
          "IceCream",
          "IceCream",
          "IceCream",
          "IceCream",
          "IceCream",
          "IceCream",
          "IceCream",
          "IceCream",
          "IceCream",
          "IceCream",
          "IceCream",
          "IceCream",
          "IceCream",
          "IceCream",
          "IceCream",
          "IceCream",
          "IceCream",
          "IceCream",
          "IceCream",
          "IceCream",
          "IceCream",
          "IceCream",
          "IceCream",
          "IceCream",
          "IceCream",
          "IceCream",
          "IceCream",
          "IceCream",
          "IceCream",
          "IceCream",
          "IceCream",
          "IceCream",
          "IceCream",
          "IceCream",
          "IceCream",
          "IceCream",
          "IceCream",
          "IceCream",
          "IceCream",
          "IceCream",
          "IceCream",
          "IceCream",
          "IceCream",
          "IceCream",
          "IceCream",
          "(Fruit)Juices",
          "(Fruit)Juices",
          "(Fruit)Juices",
          "(Fruit)Juices",
          "(Fruit)Juices",
          "(Fruit)Juices",
          "(Fruit)Juices",
          "(Fruit)Juices",
          "(Fruit)Juices",
          "(Fruit)Juices",
          "(Fruit)Juices",
          "(Fruit)Juices",
          "(Fruit)Juices",
          "(Fruit)Juices",
          "(Fruit)Juices",
          "(Fruit)Juices",
          "(Fruit)Juices",
          "(Fruit)Juices",
          "(Fruit)Juices",
          "(Fruit)Juices",
          "(Fruit)Juices",
          "(Fruit)Juices",
          "(Fruit)Juices",
          "(Fruit)Juices",
          "(Fruit)Juices",
          "(Fruit)Juices",
          "(Fruit)Juices",
          "(Fruit)Juices",
          "(Fruit)Juices",
          "(Fruit)Juices",
          "(Fruit)Juices",
          "(Fruit)Juices",
          "(Fruit)Juices",
          "(Fruit)Juices",
          "(Fruit)Juices",
          "(Fruit)Juices",
          "(Fruit)Juices",
          "(Fruit)Juices",
          "(Fruit)Juices",
          "(Fruit)Juices",
          "(Fruit)Juices",
          "(Fruit)Juices",
          "(Fruit)Juices",
          "(Fruit)Juices",
          "(Fruit)Juices",
          "(Fruit)Juices",
          "AlcoholicDrinks&Beverages",
          "AlcoholicDrinks&Beverages",
          "AlcoholicDrinks&Beverages",
          "AlcoholicDrinks&Beverages",
          "AlcoholicDrinks&Beverages",
          "AlcoholicDrinks&Beverages",
          "AlcoholicDrinks&Beverages",
          "AlcoholicDrinks&Beverages",
          "AlcoholicDrinks&Beverages",
          "AlcoholicDrinks&Beverages",
          "AlcoholicDrinks&Beverages",
          "AlcoholicDrinks&Beverages",
          "AlcoholicDrinks&Beverages",
          "AlcoholicDrinks&Beverages",
          "AlcoholicDrinks&Beverages",
          "AlcoholicDrinks&Beverages",
          "AlcoholicDrinks&Beverages",
          "AlcoholicDrinks&Beverages",
          "AlcoholicDrinks&Beverages",
          "AlcoholicDrinks&Beverages",
          "AlcoholicDrinks&Beverages",
          "AlcoholicDrinks&Beverages",
          "AlcoholicDrinks&Beverages",
          "AlcoholicDrinks&Beverages",
          "AlcoholicDrinks&Beverages",
          "AlcoholicDrinks&Beverages",
          "AlcoholicDrinks&Beverages",
          "AlcoholicDrinks&Beverages",
          "AlcoholicDrinks&Beverages",
          "AlcoholicDrinks&Beverages",
          "AlcoholicDrinks&Beverages",
          "AlcoholicDrinks&Beverages",
          "AlcoholicDrinks&Beverages",
          "AlcoholicDrinks&Beverages",
          "AlcoholicDrinks&Beverages",
          "AlcoholicDrinks&Beverages",
          "AlcoholicDrinks&Beverages",
          "AlcoholicDrinks&Beverages",
          "AlcoholicDrinks&Beverages",
          "AlcoholicDrinks&Beverages",
          "AlcoholicDrinks&Beverages",
          "AlcoholicDrinks&Beverages",
          "AlcoholicDrinks&Beverages",
          "AlcoholicDrinks&Beverages",
          "AlcoholicDrinks&Beverages",
          "AlcoholicDrinks&Beverages",
          "AlcoholicDrinks&Beverages",
          "AlcoholicDrinks&Beverages",
          "Beer",
          "Beer",
          "Beer",
          "Beer",
          "Beer",
          "Beer",
          "Beer",
          "Beer",
          "Beer",
          "Beer",
          "Beer",
          "Beer",
          "Beer",
          "Beer",
          "Beer",
          "Beer",
          "Beer",
          "Beer",
          "Beer",
          "Beer",
          "Beer",
          "Beer",
          "Beer",
          "Beer",
          "Beer",
          "Beer",
          "Beer",
          "Beer",
          "Beer",
          "Beer",
          "Beer",
          "Beer",
          "Beer",
          "Beer",
          "Beer",
          "Beer",
          "Beer",
          "Beer",
          "Beer",
          "Beer",
          "Beer",
          "Beer",
          "Beer",
          "Beer",
          "Beer",
          "Beer",
          "Beer",
          "Beer",
          "Beer",
          "Beer",
          "Beer",
          "Beer",
          "Beer",
          "Beer",
          "Beer",
          "Beer",
          "Beer",
          "Beer",
          "Beer",
          "Beer",
          "Beer",
          "Beer",
          "Beer",
          "Beer",
          "Beer",
          "Beer",
          "Beer",
          "Beer",
          "Beer",
          "Beer",
          "Beer",
          "Beer",
          "Beer",
          "Beer",
          "Beer",
          "Beer",
          "Beer",
          "Beer",
          "Beer",
          "Beer",
          "Beer",
          "Beer",
          "Beer",
          "Beer",
          "Beer",
          "Non-AlcoholicDrinks&Beverages",
          "Non-AlcoholicDrinks&Beverages",
          "Non-AlcoholicDrinks&Beverages",
          "Non-AlcoholicDrinks&Beverages",
          "Non-AlcoholicDrinks&Beverages",
          "Non-AlcoholicDrinks&Beverages",
          "Non-AlcoholicDrinks&Beverages",
          "Non-AlcoholicDrinks&Beverages",
          "Non-AlcoholicDrinks&Beverages",
          "Non-AlcoholicDrinks&Beverages",
          "Non-AlcoholicDrinks&Beverages",
          "Non-AlcoholicDrinks&Beverages",
          "Non-AlcoholicDrinks&Beverages",
          "Non-AlcoholicDrinks&Beverages",
          "Non-AlcoholicDrinks&Beverages",
          "Non-AlcoholicDrinks&Beverages",
          "Non-AlcoholicDrinks&Beverages",
          "Non-AlcoholicDrinks&Beverages",
          "Non-AlcoholicDrinks&Beverages",
          "Non-AlcoholicDrinks&Beverages",
          "Non-AlcoholicDrinks&Beverages",
          "Non-AlcoholicDrinks&Beverages",
          "Non-AlcoholicDrinks&Beverages",
          "Non-AlcoholicDrinks&Beverages",
          "Non-AlcoholicDrinks&Beverages",
          "Non-AlcoholicDrinks&Beverages",
          "Non-AlcoholicDrinks&Beverages",
          "Non-AlcoholicDrinks&Beverages",
          "Non-AlcoholicDrinks&Beverages",
          "Non-AlcoholicDrinks&Beverages",
          "Non-AlcoholicDrinks&Beverages",
          "Non-AlcoholicDrinks&Beverages",
          "Non-AlcoholicDrinks&Beverages",
          "Non-AlcoholicDrinks&Beverages",
          "Non-AlcoholicDrinks&Beverages",
          "Non-AlcoholicDrinks&Beverages",
          "Non-AlcoholicDrinks&Beverages",
          "Non-AlcoholicDrinks&Beverages",
          "Non-AlcoholicDrinks&Beverages",
          "Non-AlcoholicDrinks&Beverages",
          "Non-AlcoholicDrinks&Beverages",
          "Non-AlcoholicDrinks&Beverages",
          "Non-AlcoholicDrinks&Beverages",
          "Non-AlcoholicDrinks&Beverages",
          "Non-AlcoholicDrinks&Beverages",
          "Non-AlcoholicDrinks&Beverages",
          "Non-AlcoholicDrinks&Beverages",
          "Non-AlcoholicDrinks&Beverages",
          "Non-AlcoholicDrinks&Beverages",
          "Non-AlcoholicDrinks&Beverages",
          "Non-AlcoholicDrinks&Beverages",
          "Soda&SoftDrinks",
          "Soda&SoftDrinks",
          "Soda&SoftDrinks",
          "Soda&SoftDrinks",
          "Soda&SoftDrinks",
          "Soda&SoftDrinks",
          "Soda&SoftDrinks",
          "Soda&SoftDrinks",
          "Soda&SoftDrinks",
          "Soda&SoftDrinks",
          "Soda&SoftDrinks",
          "Soda&SoftDrinks",
          "Soda&SoftDrinks",
          "Soda&SoftDrinks",
          "Soda&SoftDrinks",
          "Soda&SoftDrinks",
          "Soda&SoftDrinks",
          "Soda&SoftDrinks",
          "Soda&SoftDrinks",
          "Soda&SoftDrinks",
          "Soda&SoftDrinks",
          "Soda&SoftDrinks",
          "Soda&SoftDrinks",
          "Soda&SoftDrinks",
          "Soda&SoftDrinks",
          "Soda&SoftDrinks",
          "Soda&SoftDrinks",
          "Soda&SoftDrinks",
          "Soda&SoftDrinks",
          "Soda&SoftDrinks",
          "Soda&SoftDrinks",
          "Soda&SoftDrinks",
          "Soda&SoftDrinks",
          "Soda&SoftDrinks",
          "Soda&SoftDrinks",
          "Soda&SoftDrinks",
          "Soda&SoftDrinks",
          "Soda&SoftDrinks",
          "Soda&SoftDrinks",
          "Soda&SoftDrinks",
          "Soda&SoftDrinks",
          "Soda&SoftDrinks",
          "Soda&SoftDrinks",
          "Soda&SoftDrinks",
          "Soda&SoftDrinks",
          "Wine",
          "Wine",
          "Wine",
          "Wine",
          "Wine",
          "Wine",
          "Wine",
          "Wine",
          "Wine",
          "Wine",
          "Wine",
          "Wine",
          "Wine",
          "Wine",
          "Wine",
          "Wine",
          "Wine",
          "Wine",
          "Wine",
          "Wine",
          "Wine",
          "Wine",
          "Wine",
          "Wine",
          "Wine",
          "Wine",
          "Wine",
          "Wine",
          "Wine",
          "Wine",
          "Wine",
          "Wine",
          "Wine",
          "Wine",
          "Wine",
          "Wine",
          "Wine",
          "Wine",
          "Wine",
          "CerealProducts",
          "CerealProducts",
          "CerealProducts",
          "CerealProducts",
          "CerealProducts",
          "CerealProducts",
          "CerealProducts",
          "CerealProducts",
          "CerealProducts",
          "CerealProducts",
          "CerealProducts",
          "CerealProducts",
          "CerealProducts",
          "CerealProducts",
          "CerealProducts",
          "CerealProducts",
          "CerealProducts",
          "CerealProducts",
          "CerealProducts",
          "CerealProducts",
          "CerealProducts",
          "CerealProducts",
          "CerealProducts",
          "CerealProducts",
          "CerealProducts",
          "CerealProducts",
          "CerealProducts",
          "CerealProducts",
          "CerealProducts",
          "CerealProducts",
          "CerealProducts",
          "CerealProducts",
          "CerealProducts",
          "CerealProducts",
          "CerealProducts",
          "CerealProducts",
          "CerealProducts",
          "CerealProducts",
          "CerealProducts",
          "CerealProducts",
          "CerealProducts",
          "CerealProducts",
          "CerealProducts",
          "CerealProducts",
          "Oatmeal,Muesli&Cereals",
          "Oatmeal,Muesli&Cereals",
          "Oatmeal,Muesli&Cereals",
          "Oatmeal,Muesli&Cereals",
          "Oatmeal,Muesli&Cereals",
          "Oatmeal,Muesli&Cereals",
          "Oatmeal,Muesli&Cereals",
          "Oatmeal,Muesli&Cereals",
          "Oatmeal,Muesli&Cereals",
          "Oatmeal,Muesli&Cereals",
          "Oatmeal,Muesli&Cereals",
          "Oatmeal,Muesli&Cereals",
          "Oatmeal,Muesli&Cereals",
          "Oatmeal,Muesli&Cereals",
          "Oatmeal,Muesli&Cereals",
          "Oatmeal,Muesli&Cereals",
          "Oatmeal,Muesli&Cereals",
          "Oatmeal,Muesli&Cereals",
          "Oatmeal,Muesli&Cereals",
          "Oatmeal,Muesli&Cereals",
          "Oatmeal,Muesli&Cereals",
          "Oatmeal,Muesli&Cereals",
          "Oatmeal,Muesli&Cereals",
          "Oatmeal,Muesli&Cereals",
          "Oatmeal,Muesli&Cereals",
          "Oatmeal,Muesli&Cereals",
          "Oatmeal,Muesli&Cereals",
          "Oatmeal,Muesli&Cereals",
          "Oatmeal,Muesli&Cereals",
          "Oatmeal,Muesli&Cereals",
          "Oatmeal,Muesli&Cereals",
          "Oatmeal,Muesli&Cereals",
          "Oatmeal,Muesli&Cereals",
          "Oatmeal,Muesli&Cereals",
          "Oatmeal,Muesli&Cereals",
          "Oatmeal,Muesli&Cereals",
          "Oatmeal,Muesli&Cereals",
          "Oatmeal,Muesli&Cereals",
          "Oatmeal,Muesli&Cereals",
          "Oatmeal,Muesli&Cereals",
          "Oatmeal,Muesli&Cereals",
          "Oatmeal,Muesli&Cereals",
          "Oatmeal,Muesli&Cereals",
          "Oatmeal,Muesli&Cereals",
          "Oatmeal,Muesli&Cereals",
          "Oatmeal,Muesli&Cereals",
          "Oatmeal,Muesli&Cereals",
          "Oatmeal,Muesli&Cereals",
          "Oatmeal,Muesli&Cereals",
          "Oatmeal,Muesli&Cereals",
          "Oatmeal,Muesli&Cereals",
          "Oatmeal,Muesli&Cereals",
          "Oatmeal,Muesli&Cereals",
          "Oatmeal,Muesli&Cereals",
          "Oatmeal,Muesli&Cereals",
          "Oatmeal,Muesli&Cereals",
          "Oatmeal,Muesli&Cereals",
          "Oatmeal,Muesli&Cereals",
          "Oatmeal,Muesli&Cereals",
          "Oatmeal,Muesli&Cereals",
          "Oatmeal,Muesli&Cereals",
          "Oatmeal,Muesli&Cereals",
          "Oatmeal,Muesli&Cereals",
          "Oatmeal,Muesli&Cereals",
          "Oatmeal,Muesli&Cereals",
          "Oatmeal,Muesli&Cereals",
          "Oatmeal,Muesli&Cereals",
          "Oatmeal,Muesli&Cereals",
          "Oatmeal,Muesli&Cereals",
          "Oatmeal,Muesli&Cereals",
          "Oatmeal,Muesli&Cereals",
          "Oatmeal,Muesli&Cereals",
          "Oatmeal,Muesli&Cereals",
          "Oatmeal,Muesli&Cereals",
          "Oatmeal,Muesli&Cereals",
          "Oatmeal,Muesli&Cereals",
          "Pasta&Noodles",
          "Pasta&Noodles",
          "Pasta&Noodles",
          "Pasta&Noodles",
          "Pasta&Noodles",
          "Pasta&Noodles",
          "Pasta&Noodles",
          "Pasta&Noodles",
          "Pasta&Noodles",
          "Pasta&Noodles",
          "Pasta&Noodles",
          "Pasta&Noodles",
          "Pasta&Noodles",
          "Pasta&Noodles",
          "Pasta&Noodles",
          "Pasta&Noodles",
          "Pasta&Noodles",
          "Pasta&Noodles",
          "Pasta&Noodles",
          "Pasta&Noodles",
          "Pasta&Noodles",
          "Pasta&Noodles",
          "Pasta&Noodles",
          "Pasta&Noodles",
          "Pasta&Noodles",
          "Pasta&Noodles",
          "Pasta&Noodles",
          "Pasta&Noodles",
          "Pasta&Noodles",
          "Pasta&Noodles",
          "Pasta&Noodles",
          "Pasta&Noodles",
          "Pasta&Noodles",
          "Pasta&Noodles",
          "Pasta&Noodles",
          "Pasta&Noodles",
          "Pasta&Noodles",
          "Pasta&Noodles",
          "Pasta&Noodles",
          "Pasta&Noodles",
          "Dishes&Meals",
          "Dishes&Meals",
          "Dishes&Meals",
          "Dishes&Meals",
          "Dishes&Meals",
          "Dishes&Meals",
          "Dishes&Meals",
          "Dishes&Meals",
          "Dishes&Meals",
          "Dishes&Meals",
          "Dishes&Meals",
          "Dishes&Meals",
          "Dishes&Meals",
          "Dishes&Meals",
          "Dishes&Meals",
          "Dishes&Meals",
          "Dishes&Meals",
          "Dishes&Meals",
          "Dishes&Meals",
          "Dishes&Meals",
          "Dishes&Meals",
          "Dishes&Meals",
          "Dishes&Meals",
          "Dishes&Meals",
          "Dishes&Meals",
          "Dishes&Meals",
          "Dishes&Meals",
          "Dishes&Meals",
          "Dishes&Meals",
          "Dishes&Meals",
          "Dishes&Meals",
          "Dishes&Meals",
          "Dishes&Meals",
          "Dishes&Meals",
          "Dishes&Meals",
          "Dishes&Meals",
          "Dishes&Meals",
          "Dishes&Meals",
          "Dishes&Meals",
          "Dishes&Meals",
          "Dishes&Meals",
          "Dishes&Meals",
          "Dishes&Meals",
          "Dishes&Meals",
          "Dishes&Meals",
          "Dishes&Meals",
          "Dishes&Meals",
          "Dishes&Meals",
          "Dishes&Meals",
          "Dishes&Meals",
          "Dishes&Meals",
          "Dishes&Meals",
          "Dishes&Meals",
          "Dishes&Meals",
          "Dishes&Meals",
          "Dishes&Meals",
          "Dishes&Meals",
          "Dishes&Meals",
          "Dishes&Meals",
          "Dishes&Meals",
          "Dishes&Meals",
          "Dishes&Meals",
          "Dishes&Meals",
          "Dishes&Meals",
          "Dishes&Meals",
          "Dishes&Meals",
          "Dishes&Meals",
          "Dishes&Meals",
          "Dishes&Meals",
          "Dishes&Meals",
          "Dishes&Meals",
          "Dishes&Meals",
          "Dishes&Meals",
          "Dishes&Meals",
          "Dishes&Meals",
          "Dishes&Meals",
          "Dishes&Meals",
          "Dishes&Meals",
          "Soups",
          "Soups",
          "Soups",
          "Soups",
          "Soups",
          "Soups",
          "Soups",
          "Soups",
          "Soups",
          "Soups",
          "Soups",
          "Soups",
          "Soups",
          "Soups",
          "Soups",
          "Soups",
          "Soups",
          "Soups",
          "Soups",
          "Soups",
          "Soups",
          "Soups",
          "Soups",
          "Soups",
          "Soups",
          "Soups",
          "Soups",
          "Soups",
          "Soups",
          "Soups",
          "Soups",
          "Soups",
          "Soups",
          "Soups",
          "Soups",
          "Soups",
          "Soups",
          "Soups",
          "Soups",
          "Soups",
          "Soups",
          "Soups",
          "Soups",
          "Soups",
          "Soups",
          "Soups",
          "Soups",
          "Soups",
          "Soups",
          "Soups",
          "Soups",
          "Soups",
          "Legumes",
          "Legumes",
          "Legumes",
          "Legumes",
          "Legumes",
          "Legumes",
          "Legumes",
          "Legumes",
          "Legumes",
          "Legumes",
          "Legumes",
          "Legumes",
          "Legumes",
          "Legumes",
          "Legumes",
          "Legumes",
          "Legumes",
          "Legumes",
          "Legumes",
          "Legumes",
          "Legumes",
          "Legumes",
          "Legumes",
          "Legumes",
          "Legumes",
          "Legumes",
          "Legumes",
          "Legumes",
          "Legumes",
          "Legumes",
          "Legumes",
          "Legumes",
          "Legumes",
          "Legumes",
          "Legumes",
          "Legumes",
          "Legumes",
          "Legumes",
          "Legumes",
          "Legumes",
          "Legumes",
          "Legumes",
          "Legumes",
          "Legumes",
          "Legumes",
          "Legumes",
          "Legumes",
          "Legumes",
          "Legumes",
          "Legumes",
          "Legumes",
          "Legumes",
          "Legumes",
          "Legumes",
          "Legumes",
          "Legumes",
          "Legumes",
          "Legumes",
          "Legumes",
          "Legumes",
          "Legumes",
          "Legumes",
          "Nuts&Seeds",
          "Nuts&Seeds",
          "Nuts&Seeds",
          "Nuts&Seeds",
          "Nuts&Seeds",
          "Nuts&Seeds",
          "Nuts&Seeds",
          "Nuts&Seeds",
          "Nuts&Seeds",
          "Nuts&Seeds",
          "Nuts&Seeds",
          "Nuts&Seeds",
          "Nuts&Seeds",
          "Nuts&Seeds",
          "Nuts&Seeds",
          "Nuts&Seeds",
          "Nuts&Seeds",
          "Nuts&Seeds",
          "Nuts&Seeds",
          "Nuts&Seeds",
          "Nuts&Seeds",
          "Nuts&Seeds",
          "Nuts&Seeds",
          "Nuts&Seeds",
          "Nuts&Seeds",
          "Nuts&Seeds",
          "Nuts&Seeds",
          "Nuts&Seeds",
          "Nuts&Seeds",
          "Nuts&Seeds",
          "Nuts&Seeds",
          "Nuts&Seeds",
          "Nuts&Seeds",
          "Nuts&Seeds",
          "Nuts&Seeds",
          "Nuts&Seeds",
          "Nuts&Seeds",
          "Nuts&Seeds",
          "Nuts&Seeds",
          "Oils&Fats",
          "Oils&Fats",
          "Oils&Fats",
          "Oils&Fats",
          "Oils&Fats",
          "Oils&Fats",
          "Oils&Fats",
          "Oils&Fats",
          "Oils&Fats",
          "Oils&Fats",
          "Oils&Fats",
          "Oils&Fats",
          "Oils&Fats",
          "Oils&Fats",
          "Oils&Fats",
          "Oils&Fats",
          "Oils&Fats",
          "Oils&Fats",
          "Oils&Fats",
          "Oils&Fats",
          "Oils&Fats",
          "Oils&Fats",
          "Oils&Fats",
          "Oils&Fats",
          "Oils&Fats",
          "Oils&Fats",
          "Oils&Fats",
          "Oils&Fats",
          "Oils&Fats",
          "Oils&Fats",
          "VegetableOils",
          "VegetableOils",
          "VegetableOils",
          "VegetableOils",
          "VegetableOils",
          "VegetableOils",
          "VegetableOils",
          "VegetableOils",
          "VegetableOils",
          "VegetableOils",
          "VegetableOils",
          "VegetableOils",
          "VegetableOils",
          "VegetableOils",
          "VegetableOils",
          "VegetableOils",
          "VegetableOils",
          "VegetableOils",
          "VegetableOils",
          "VegetableOils",
          "VegetableOils",
          "VegetableOils",
          "VegetableOils",
          "VegetableOils",
          "VegetableOils",
          "VegetableOils",
          "VegetableOils",
          "VegetableOils",
          "VegetableOils",
          "VegetableOils",
          "VegetableOils",
          "VegetableOils",
          "VegetableOils",
          "BakingIngredients",
          "BakingIngredients",
          "BakingIngredients",
          "BakingIngredients",
          "BakingIngredients",
          "BakingIngredients",
          "BakingIngredients",
          "BakingIngredients",
          "BakingIngredients",
          "BakingIngredients",
          "BakingIngredients",
          "BakingIngredients",
          "BakingIngredients",
          "BakingIngredients",
          "BakingIngredients",
          "BakingIngredients",
          "BakingIngredients",
          "BakingIngredients",
          "BakingIngredients",
          "BakingIngredients",
          "BakingIngredients",
          "BakingIngredients",
          "BakingIngredients",
          "BakingIngredients",
          "BakingIngredients",
          "BakingIngredients",
          "BakingIngredients",
          "BakingIngredients",
          "BakingIngredients",
          "BakingIngredients",
          "BakingIngredients",
          "BakingIngredients",
          "BakingIngredients",
          "BakingIngredients",
          "BakingIngredients",
          "BakingIngredients",
          "BakingIngredients",
          "BakingIngredients",
          "BakingIngredients",
          "BakingIngredients",
          "BakingIngredients",
          "BakingIngredients",
          "BakingIngredients",
          "BakingIngredients",
          "BakingIngredients",
          "BakingIngredients",
          "BakingIngredients",
          "BakingIngredients",
          "BakingIngredients",
          "BakingIngredients",
          "BakingIngredients",
          "BakingIngredients",
          "BakingIngredients",
          "BakingIngredients",
          "BakingIngredients",
          "BakingIngredients",
          "BakingIngredients",
          "BakingIngredients",
          "BakingIngredients",
          "BakingIngredients",
          "BakingIngredients",
          "BakingIngredients",
          "BakingIngredients",
          "BakingIngredients",
          "BakingIngredients",
          "BakingIngredients",
          "BakingIngredients",
          "BakingIngredients",
          "BakingIngredients",
          "BakingIngredients",
          "BakingIngredients",
          "BakingIngredients",
          "BakingIngredients",
          "BakingIngredients",
          "BakingIngredients",
          "BakingIngredients",
          "BakingIngredients",
          "BakingIngredients",
          "BakingIngredients",
          "BakingIngredients",
          "BakingIngredients",
          "BakingIngredients",
          "BakingIngredients",
          "BakingIngredients",
          "BakingIngredients",
          "BakingIngredients",
          "BakingIngredients",
          "BakingIngredients",
          "BakingIngredients",
          "BakingIngredients",
          "BakingIngredients",
          "BakingIngredients",
          "BakingIngredients",
          "BakingIngredients",
          "BakingIngredients",
          "Fish&Seafood",
          "Fish&Seafood",
          "Fish&Seafood",
          "Fish&Seafood",
          "Fish&Seafood",
          "Fish&Seafood",
          "Fish&Seafood",
          "Fish&Seafood",
          "Fish&Seafood",
          "Fish&Seafood",
          "Fish&Seafood",
          "Fish&Seafood",
          "Fish&Seafood",
          "Fish&Seafood",
          "Fish&Seafood",
          "Fish&Seafood",
          "Fish&Seafood",
          "Fish&Seafood",
          "Fish&Seafood",
          "Fish&Seafood",
          "Fish&Seafood",
          "Fish&Seafood",
          "Fish&Seafood",
          "Fish&Seafood",
          "Fish&Seafood",
          "Fish&Seafood",
          "Fish&Seafood",
          "Fish&Seafood",
          "Fish&Seafood",
          "Fish&Seafood",
          "Fish&Seafood",
          "Fish&Seafood",
          "Fish&Seafood",
          "Fish&Seafood",
          "Fish&Seafood",
          "Fish&Seafood",
          "Fish&Seafood",
          "Fish&Seafood",
          "Fish&Seafood",
          "Fish&Seafood",
          "Fish&Seafood",
          "Fish&Seafood",
          "Fish&Seafood",
          "Fish&Seafood",
          "Fish&Seafood",
          "Fish&Seafood",
          "Fish&Seafood",
          "Fish&Seafood",
          "Fish&Seafood",
          "Fish&Seafood",
          "Fish&Seafood",
          "Fish&Seafood",
          "Fish&Seafood",
          "Fish&Seafood",
          "Fish&Seafood",
          "Fish&Seafood",
          "Fish&Seafood",
          "Fish&Seafood",
          "Fish&Seafood",
          "Fish&Seafood",
          "Herbs&Spices",
          "Herbs&Spices",
          "Herbs&Spices",
          "Herbs&Spices",
          "Herbs&Spices",
          "Herbs&Spices",
          "Herbs&Spices",
          "Herbs&Spices",
          "Herbs&Spices",
          "Herbs&Spices",
          "Herbs&Spices",
          "Herbs&Spices",
          "Herbs&Spices",
          "Herbs&Spices",
          "Herbs&Spices",
          "Herbs&Spices",
          "Herbs&Spices",
          "Herbs&Spices",
          "Herbs&Spices",
          "Herbs&Spices",
          "Herbs&Spices",
          "Herbs&Spices",
          "Herbs&Spices",
          "Herbs&Spices",
          "Herbs&Spices",
          "Herbs&Spices",
          "Herbs&Spices",
          "Herbs&Spices",
          "Herbs&Spices",
          "Herbs&Spices",
          "Herbs&Spices",
          "Herbs&Spices",
          "Herbs&Spices",
          "Herbs&Spices",
          "Herbs&Spices",
          "Herbs&Spices",
          "Herbs&Spices",
          "Herbs&Spices",
          "Herbs&Spices",
          "Herbs&Spices",
          "Herbs&Spices",
          "Herbs&Spices",
          "Herbs&Spices",
          "Herbs&Spices",
          "Herbs&Spices",
          "Herbs&Spices",
          "Herbs&Spices",
          "Herbs&Spices",
          "Herbs&Spices",
          "Herbs&Spices",
          "Herbs&Spices",
          "Herbs&Spices",
          "Herbs&Spices",
          "Herbs&Spices",
          "Herbs&Spices",
          "Herbs&Spices",
          "Herbs&Spices",
          "Herbs&Spices",
          "Herbs&Spices",
          "Herbs&Spices",
          "Herbs&Spices",
          "Herbs&Spices",
          "Herbs&Spices",
          "Herbs&Spices",
          "Herbs&Spices",
          "Herbs&Spices",
          "Herbs&Spices",
          "Herbs&Spices",
          "Herbs&Spices",
          "Herbs&Spices",
          "Herbs&Spices",
          "Herbs&Spices",
          "Herbs&Spices",
          "Herbs&Spices",
          "Herbs&Spices",
          "Herbs&Spices",
          "Herbs&Spices",
          "Herbs&Spices",
          "Herbs&Spices",
          "Herbs&Spices",
          "Herbs&Spices",
          "Herbs&Spices",
          "Herbs&Spices",
          "Herbs&Spices",
          "Herbs&Spices",
          "Herbs&Spices",
          "Herbs&Spices",
          "Herbs&Spices",
          "Herbs&Spices",
          "Herbs&Spices",
          "Pastries,Breads&Rolls",
          "Pastries,Breads&Rolls",
          "Pastries,Breads&Rolls",
          "Pastries,Breads&Rolls",
          "Pastries,Breads&Rolls",
          "Pastries,Breads&Rolls",
          "Pastries,Breads&Rolls",
          "Pastries,Breads&Rolls",
          "Pastries,Breads&Rolls",
          "Pastries,Breads&Rolls",
          "Pastries,Breads&Rolls",
          "Pastries,Breads&Rolls",
          "Pastries,Breads&Rolls",
          "Pastries,Breads&Rolls",
          "Pastries,Breads&Rolls",
          "Pastries,Breads&Rolls",
          "Pastries,Breads&Rolls",
          "Pastries,Breads&Rolls",
          "Pastries,Breads&Rolls",
          "Pastries,Breads&Rolls",
          "Pastries,Breads&Rolls",
          "Pastries,Breads&Rolls",
          "Pastries,Breads&Rolls",
          "Pastries,Breads&Rolls",
          "Pastries,Breads&Rolls",
          "Pastries,Breads&Rolls",
          "Pastries,Breads&Rolls",
          "Pastries,Breads&Rolls",
          "Pastries,Breads&Rolls",
          "Pastries,Breads&Rolls",
          "Pastries,Breads&Rolls",
          "Pastries,Breads&Rolls",
          "Pastries,Breads&Rolls",
          "Pastries,Breads&Rolls",
          "Pastries,Breads&Rolls",
          "Pastries,Breads&Rolls",
          "Pastries,Breads&Rolls",
          "Pastries,Breads&Rolls",
          "Pastries,Breads&Rolls",
          "Pastries,Breads&Rolls",
          "Pastries,Breads&Rolls",
          "Pastries,Breads&Rolls",
          "Pastries,Breads&Rolls",
          "Pastries,Breads&Rolls",
          "Pastries,Breads&Rolls",
          "Pastries,Breads&Rolls",
          "Pastries,Breads&Rolls",
          "Pastries,Breads&Rolls",
          "Pastries,Breads&Rolls",
          "Pastries,Breads&Rolls",
          "Pastries,Breads&Rolls",
          "Pastries,Breads&Rolls",
          "Pastries,Breads&Rolls",
          "Pastries,Breads&Rolls",
          "Pastries,Breads&Rolls",
          "Pastries,Breads&Rolls",
          "Pastries,Breads&Rolls",
          "Pastries,Breads&Rolls",
          "Pastries,Breads&Rolls",
          "Pastries,Breads&Rolls",
          "Pastries,Breads&Rolls",
          "Pastries,Breads&Rolls",
          "Pastries,Breads&Rolls",
          "Pastries,Breads&Rolls",
          "Pastries,Breads&Rolls",
          "Pastries,Breads&Rolls",
          "Pastries,Breads&Rolls",
          "Pastries,Breads&Rolls",
          "Pastries,Breads&Rolls",
          "Pastries,Breads&Rolls",
          "Pastries,Breads&Rolls",
          "Pastries,Breads&Rolls",
          "Pastries,Breads&Rolls",
          "Pastries,Breads&Rolls",
          "Pastries,Breads&Rolls",
          "Pastries,Breads&Rolls",
          "Pastries,Breads&Rolls",
          "Pastries,Breads&Rolls",
          "Sauces&Dressings",
          "Sauces&Dressings",
          "Sauces&Dressings",
          "Sauces&Dressings",
          "Sauces&Dressings",
          "Sauces&Dressings",
          "Sauces&Dressings",
          "Sauces&Dressings",
          "Sauces&Dressings",
          "Sauces&Dressings",
          "Sauces&Dressings",
          "Sauces&Dressings",
          "Sauces&Dressings",
          "Sauces&Dressings",
          "Sauces&Dressings",
          "Sauces&Dressings",
          "Sauces&Dressings",
          "Sauces&Dressings",
          "Sauces&Dressings",
          "Sauces&Dressings",
          "Sauces&Dressings",
          "Sauces&Dressings",
          "Sauces&Dressings",
          "Sauces&Dressings",
          "Sauces&Dressings",
          "Sauces&Dressings",
          "Sauces&Dressings",
          "Sauces&Dressings",
          "Sauces&Dressings",
          "Sauces&Dressings",
          "Sauces&Dressings",
          "Sauces&Dressings",
          "Sauces&Dressings",
          "Sauces&Dressings",
          "Sauces&Dressings",
          "Sauces&Dressings",
          "Sauces&Dressings",
          "Sauces&Dressings",
          "Sauces&Dressings",
          "Sauces&Dressings",
          "Sauces&Dressings",
          "Sauces&Dressings",
          "Sauces&Dressings",
          "Sauces&Dressings",
          "Sauces&Dressings",
          "Sauces&Dressings",
          "Sauces&Dressings",
          "Sauces&Dressings",
          "Sauces&Dressings",
          "Sauces&Dressings",
          "Sauces&Dressings",
          "Sauces&Dressings",
          "Sauces&Dressings",
          "Sauces&Dressings",
          "Spreads",
          "Spreads",
          "Spreads",
          "Spreads",
          "Spreads",
          "Spreads",
          "Spreads",
          "Spreads",
          "Spreads",
          "Spreads",
          "Spreads",
          "Spreads",
          "Spreads",
          "Spreads",
          "Spreads",
          "Spreads",
          "Spreads",
          "Spreads",
          "Spreads",
          "Spreads",
          "Spreads",
          "Spreads",
          "Spreads",
          "Spreads",
          "Spreads",
          "Spreads",
          "Spreads",
          "Spreads",
          "Spreads",
          "Spreads",
          "Spreads",
          "Spreads",
          "Spreads",
          "Spreads",
          "Spreads",
          "Spreads",
          "Spreads",
          "Spreads",
          "Spreads"
         ],
         "xaxis": "x",
         "y": [
          260,
          202,
          386,
          370,
          227,
          748,
          223,
          449,
          340,
          210,
          307,
          155,
          319,
          298,
          273,
          307,
          298,
          340,
          260,
          227,
          147,
          252,
          244,
          382,
          223,
          479,
          386,
          256,
          1021,
          294,
          218,
          286,
          202,
          672,
          374,
          181,
          210,
          239,
          143,
          210,
          197,
          193,
          235,
          424,
          1184,
          311,
          210,
          290,
          172,
          286,
          399,
          332,
          256,
          122,
          126,
          277,
          223,
          252,
          269,
          181,
          185,
          483,
          197,
          181,
          407,
          164,
          239,
          533,
          206,
          210,
          512,
          193,
          349,
          239,
          1256,
          344,
          218,
          88,
          130,
          134,
          1004,
          223,
          126,
          134,
          176,
          672,
          374,
          433,
          143,
          118,
          315,
          252,
          617,
          231,
          97,
          176,
          286,
          151,
          399,
          256,
          298,
          277,
          223,
          252,
          307,
          407,
          693,
          143,
          223,
          407,
          210,
          176,
          512,
          349,
          160,
          172,
          344,
          349,
          277,
          130,
          1004,
          126,
          256,
          391,
          365,
          672,
          533,
          521,
          521,
          344,
          1310,
          1310,
          559,
          365,
          1781,
          374,
          374,
          647,
          323,
          521,
          777,
          554,
          1126,
          601,
          1390,
          2192,
          701,
          517,
          554,
          302,
          374,
          374,
          626,
          391,
          580,
          407,
          281,
          386,
          395,
          487,
          344,
          197,
          105,
          84,
          105,
          181,
          84,
          483,
          143,
          181,
          105,
          113,
          172,
          105,
          67,
          80,
          420,
          302,
          67,
          126,
          134,
          1533,
          71,
          311,
          67,
          105,
          71,
          130,
          626,
          59,
          59,
          130,
          483,
          134,
          202,
          206,
          113,
          361,
          256,
          63,
          92,
          113,
          147,
          139,
          483,
          168,
          315,
          340,
          113,
          323,
          109,
          67,
          130,
          160,
          302,
          97,
          189,
          361,
          76,
          84,
          118,
          458,
          143,
          71,
          882,
          874,
          983,
          983,
          890,
          840,
          937,
          1399,
          1071,
          1004,
          1046,
          1264,
          1088,
          1130,
          970,
          983,
          1012,
          1105,
          685,
          617,
          1268,
          1243,
          592,
          1012,
          580,
          1361,
          722,
          1306,
          1121,
          1050,
          1407,
          1184,
          819,
          1147,
          1310,
          370,
          1012,
          1067,
          1130,
          769,
          554,
          1075,
          1105,
          1247,
          1184,
          1155,
          1054,
          1058,
          945,
          1113,
          1294,
          1113,
          676,
          1285,
          1726,
          664,
          920,
          550,
          1138,
          361,
          437,
          760,
          580,
          1638,
          1277,
          1096,
          945,
          1348,
          970,
          1075,
          1075,
          953,
          983,
          941,
          1277,
          1033,
          1058,
          987,
          970,
          1092,
          1121,
          983,
          1113,
          941,
          928,
          920,
          949,
          483,
          1155,
          1046,
          890,
          848,
          710,
          1071,
          958,
          1071,
          1042,
          1037,
          1042,
          806,
          1071,
          1033,
          1029,
          878,
          1012,
          1016,
          983,
          1071,
          1063,
          1096,
          1067,
          1075,
          1075,
          970,
          1033,
          622,
          1722,
          1646,
          1399,
          1483,
          1403,
          1260,
          1693,
          958,
          1218,
          1159,
          1625,
          1655,
          1655,
          412,
          1651,
          1499,
          1499,
          1109,
          1634,
          1176,
          1957,
          1529,
          1470,
          1495,
          1810,
          1470,
          1735,
          1348,
          1558,
          1667,
          1478,
          1445,
          1344,
          1567,
          1567,
          1176,
          1546,
          1063,
          1810,
          1625,
          1474,
          1499,
          731,
          1625,
          1550,
          1529,
          1126,
          1651,
          1050,
          1596,
          1693,
          1634,
          1436,
          412,
          1436,
          1436,
          1436,
          1436,
          1529,
          202,
          1890,
          1273,
          1436,
          1436,
          1436,
          1436,
          1436,
          1436,
          1436,
          71,
          260,
          945,
          966,
          819,
          1348,
          412,
          1016,
          1651,
          412,
          512,
          567,
          290,
          374,
          231,
          218,
          315,
          256,
          256,
          2083,
          609,
          206,
          496,
          210,
          281,
          147,
          760,
          189,
          1348,
          491,
          1079,
          256,
          256,
          622,
          1722,
          1756,
          1630,
          1693,
          1499,
          1495,
          1655,
          1655,
          1033,
          1499,
          1499,
          1499,
          1499,
          1352,
          1630,
          1176,
          1495,
          1495,
          1558,
          1348,
          1193,
          1193,
          1445,
          1567,
          1176,
          1546,
          420,
          622,
          1722,
          1428,
          622,
          1693,
          1495,
          311,
          420,
          407,
          357,
          176,
          458,
          441,
          407,
          538,
          521,
          378,
          227,
          407,
          223,
          265,
          420,
          315,
          407,
          256,
          336,
          235,
          584,
          420,
          424,
          256,
          500,
          378,
          420,
          420,
          420,
          420,
          420,
          420,
          420,
          420,
          420,
          420,
          420,
          420,
          420,
          718,
          575,
          794,
          517,
          559,
          895,
          1138,
          1037,
          1697,
          823,
          764,
          3587,
          3788,
          1340,
          395,
          592,
          575,
          869,
          815,
          1012,
          1050,
          890,
          601,
          1037,
          911,
          785,
          718,
          861,
          802,
          491,
          928,
          1184,
          1184,
          886,
          735,
          743,
          769,
          857,
          911,
          1441,
          1575,
          529,
          1037,
          748,
          462,
          332,
          756,
          1911,
          1054,
          1126,
          609,
          689,
          659,
          790,
          512,
          1369,
          974,
          437,
          1449,
          559,
          2075,
          1113,
          1037,
          819,
          1121,
          1411,
          1260,
          449,
          437,
          1252,
          1193,
          437,
          529,
          638,
          974,
          1042,
          1016,
          1722,
          1000,
          916,
          920,
          722,
          777,
          3772,
          664,
          613,
          731,
          701,
          722,
          962,
          1117,
          1163,
          836,
          1415,
          1121,
          815,
          575,
          1033,
          1033,
          685,
          836,
          609,
          823,
          890,
          823,
          1037,
          857,
          1067,
          823,
          588,
          764,
          655,
          1000,
          1399,
          848,
          794,
          567,
          874,
          794,
          928,
          823,
          693,
          664,
          802,
          504,
          1138,
          1193,
          571,
          806,
          437,
          1075,
          1163,
          777,
          722,
          622,
          979,
          571,
          559,
          659,
          580,
          622,
          634,
          416,
          693,
          920,
          1138,
          727,
          731,
          794,
          622,
          781,
          685,
          848,
          1709,
          1298,
          449,
          979,
          1105,
          1050,
          3772,
          374,
          1096,
          697,
          2680,
          1663,
          1021,
          1709,
          2176,
          974,
          517,
          559,
          890,
          550,
          550,
          844,
          601,
          1021,
          307,
          668,
          1226,
          815,
          1424,
          722,
          1130,
          974,
          1050,
          1012,
          1201,
          1201,
          1424,
          1663,
          1000,
          962,
          920,
          722,
          777,
          647,
          731,
          962,
          1117,
          1088,
          895,
          1415,
          844,
          638,
          1281,
          664,
          609,
          609,
          1004,
          559,
          1004,
          596,
          840,
          953,
          517,
          672,
          794,
          567,
          794,
          874,
          874,
          794,
          928,
          886,
          974,
          1709,
          1592,
          1592,
          1264,
          437,
          1037,
          815,
          1247,
          659,
          1424,
          1571,
          332,
          332,
          340,
          1911,
          559,
          643,
          1050,
          1281,
          710,
          1168,
          1088,
          626,
          1722,
          1298,
          1289,
          1478,
          1184,
          1340,
          1369,
          491,
          1302,
          1306,
          559,
          2075,
          1264,
          1037,
          1268,
          819,
          1201,
          1411,
          966,
          1264,
          659,
          1323,
          1315,
          437,
          974,
          630,
          1088,
          890,
          718,
          718,
          718,
          550,
          550,
          668,
          1000,
          1000,
          848,
          848,
          886,
          886,
          563,
          563,
          983,
          983,
          735,
          735,
          1004,
          1004,
          827,
          1071,
          1071,
          840,
          840,
          727,
          727,
          689,
          664,
          672,
          672,
          1084,
          1058,
          832,
          655,
          655,
          995,
          1151,
          1462,
          1504,
          1037,
          1806,
          1659,
          1953,
          1600,
          1109,
          983,
          1583,
          974,
          1554,
          1596,
          1995,
          1714,
          1348,
          1092,
          1726,
          1634,
          1277,
          1092,
          1092,
          1764,
          1495,
          1390,
          1403,
          1852,
          1281,
          1571,
          1693,
          1693,
          609,
          2138,
          1730,
          1361,
          1289,
          1554,
          1495,
          840,
          1508,
          1583,
          1688,
          1478,
          1126,
          1655,
          1424,
          1197,
          1344,
          1411,
          953,
          1512,
          1235,
          273,
          937,
          1709,
          1340,
          458,
          1655,
          1638,
          1403,
          2344,
          1252,
          1428,
          1021,
          1008,
          1541,
          1029,
          1474,
          1478,
          1214,
          1373,
          966,
          1180,
          1092,
          1844,
          882,
          1189,
          1222,
          1550,
          1033,
          756,
          1079,
          1310,
          1600,
          1680,
          1898,
          1575,
          2398,
          1894,
          1873,
          1970,
          1890,
          1000,
          638,
          1777,
          1777,
          1512,
          1680,
          1579,
          1541,
          2058,
          2239,
          2222,
          2239,
          2071,
          2050,
          2701,
          823,
          1848,
          2419,
          2041,
          899,
          1898,
          1348,
          1327,
          2272,
          1978,
          1487,
          1487,
          1617,
          1802,
          2188,
          1562,
          1575,
          2100,
          2302,
          1575,
          1646,
          2012,
          2092,
          1882,
          1336,
          1726,
          1512,
          1772,
          1886,
          1940,
          2239,
          769,
          1592,
          1995,
          2100,
          1793,
          1504,
          2444,
          2352,
          2251,
          563,
          1898,
          1991,
          2100,
          1428,
          1701,
          1499,
          2100,
          2033,
          1525,
          1970,
          2100,
          1999,
          2205,
          781,
          2079,
          1142,
          1680,
          1004,
          958,
          1042,
          890,
          903,
          907,
          458,
          991,
          974,
          840,
          731,
          781,
          941,
          1079,
          1071,
          844,
          890,
          525,
          781,
          995,
          596,
          668,
          966,
          1260,
          1323,
          1491,
          1596,
          1432,
          1247,
          643,
          781,
          504,
          1004,
          1079,
          1033,
          832,
          1512,
          932,
          420,
          991,
          664,
          903,
          1138,
          680,
          844,
          244,
          185,
          193,
          235,
          210,
          202,
          227,
          172,
          168,
          0,
          189,
          252,
          979,
          80,
          298,
          281,
          298,
          193,
          42,
          202,
          365,
          462,
          252,
          193,
          88,
          210,
          88,
          538,
          277,
          88,
          193,
          244,
          202,
          227,
          227,
          252,
          252,
          223,
          210,
          298,
          277,
          59,
          181,
          71,
          88,
          315,
          1462,
          1189,
          1302,
          979,
          580,
          1373,
          1373,
          181,
          1021,
          979,
          895,
          907,
          1462,
          315,
          206,
          987,
          1344,
          1504,
          1000,
          1105,
          966,
          1063,
          979,
          613,
          1050,
          932,
          756,
          1050,
          1050,
          1121,
          277,
          260,
          357,
          298,
          970,
          1399,
          403,
          932,
          487,
          1394,
          1037,
          462,
          643,
          546,
          970,
          1050,
          344,
          349,
          147,
          181,
          189,
          164,
          181,
          202,
          210,
          88,
          147,
          122,
          181,
          143,
          118,
          63,
          172,
          218,
          155,
          113,
          71,
          134,
          109,
          185,
          176,
          122,
          76,
          176,
          193,
          193,
          176,
          147,
          147,
          176,
          164,
          214,
          168,
          122,
          181,
          181,
          181,
          176,
          122,
          189,
          155,
          197,
          185,
          134,
          113,
          109,
          113,
          130,
          168,
          168,
          130,
          113,
          151,
          118,
          176,
          185,
          113,
          164,
          155,
          80,
          172,
          67,
          189,
          172,
          176,
          181,
          227,
          189,
          155,
          126,
          172,
          189,
          197,
          210,
          260,
          311,
          176,
          265,
          214,
          214,
          231,
          269,
          189,
          185,
          101,
          0,
          0,
          374,
          525,
          126,
          176,
          4,
          4,
          176,
          1105,
          4,
          395,
          370,
          122,
          0,
          97,
          0,
          130,
          206,
          227,
          374,
          113,
          113,
          155,
          55,
          109,
          437,
          239,
          176,
          155,
          256,
          1382,
          1718,
          223,
          151,
          155,
          67,
          17,
          210,
          155,
          189,
          475,
          1600,
          0,
          4,
          626,
          0,
          0,
          260,
          185,
          193,
          143,
          172,
          185,
          176,
          0,
          4,
          4,
          0,
          0,
          0,
          223,
          113,
          164,
          0,
          147,
          0,
          462,
          84,
          105,
          105,
          147,
          113,
          185,
          109,
          176,
          206,
          193,
          8,
          176,
          202,
          185,
          168,
          504,
          160,
          223,
          155,
          0,
          185,
          105,
          202,
          0,
          147,
          189,
          323,
          319,
          319,
          357,
          336,
          1075,
          357,
          328,
          344,
          344,
          420,
          349,
          349,
          319,
          823,
          349,
          315,
          685,
          672,
          298,
          357,
          357,
          336,
          336,
          298,
          554,
          340,
          487,
          298,
          798,
          340,
          344,
          349,
          454,
          344,
          370,
          349,
          298,
          370,
          1558,
          1487,
          420,
          1630,
          1441,
          1453,
          1151,
          1520,
          1600,
          1579,
          2108,
          1667,
          2243,
          2184,
          1554,
          1714,
          1415,
          1588,
          1562,
          193,
          1033,
          1478,
          1537,
          2213,
          1596,
          1546,
          1722,
          1180,
          1487,
          1457,
          2108,
          1420,
          743,
          1512,
          2453,
          995,
          2096,
          907,
          1604,
          1365,
          1512,
          1474,
          1424,
          1575,
          1495,
          1697,
          1457,
          1625,
          1541,
          1596,
          1819,
          1579,
          1621,
          1541,
          1680,
          1680,
          1499,
          1583,
          1709,
          1688,
          1529,
          2520,
          2520,
          1121,
          1592,
          1651,
          1541,
          1483,
          1541,
          1680,
          1680,
          1520,
          1651,
          1554,
          1667,
          1642,
          1583,
          1499,
          1541,
          1562,
          1575,
          1705,
          214,
          1483,
          1411,
          1596,
          1474,
          1768,
          1575,
          1810,
          1352,
          1457,
          1541,
          1609,
          1541,
          1445,
          1575,
          1680,
          1352,
          1491,
          1491,
          1541,
          1508,
          1625,
          1655,
          1541,
          1428,
          1474,
          1558,
          1583,
          1630,
          1575,
          1449,
          1592,
          1516,
          1680,
          1483,
          1504,
          1588,
          1541,
          613,
          1483,
          689,
          1474,
          1222,
          1151,
          416,
          1667,
          1613,
          1504,
          1483,
          1478,
          806,
          1138,
          1499,
          1184,
          1554,
          1499,
          773,
          1554,
          1499,
          1474,
          1554,
          840,
          323,
          1483,
          1483,
          1483,
          76,
          907,
          1546,
          1554,
          1319,
          1541,
          1554,
          1222,
          1546,
          1457,
          1474,
          1478,
          1088,
          1058,
          395,
          689,
          1071,
          399,
          739,
          1063,
          1357,
          1037,
          1520,
          685,
          588,
          391,
          533,
          634,
          403,
          462,
          937,
          340,
          441,
          974,
          496,
          118,
          1050,
          689,
          584,
          1386,
          844,
          811,
          277,
          706,
          491,
          819,
          781,
          1163,
          1210,
          1012,
          743,
          420,
          903,
          554,
          1554,
          1554,
          349,
          1016,
          1067,
          1302,
          1088,
          630,
          655,
          1365,
          315,
          1714,
          945,
          1050,
          1121,
          945,
          601,
          886,
          1877,
          853,
          874,
          466,
          832,
          899,
          1470,
          1247,
          294,
          1949,
          298,
          647,
          554,
          1050,
          1050,
          911,
          475,
          2323,
          105,
          559,
          13,
          143,
          139,
          67,
          365,
          365,
          118,
          105,
          105,
          17,
          67,
          97,
          105,
          67,
          130,
          101,
          147,
          189,
          155,
          202,
          164,
          185,
          126,
          97,
          97,
          273,
          4238,
          1831,
          235,
          420,
          206,
          143,
          147,
          143,
          97,
          118,
          315,
          336,
          122,
          1831,
          139,
          483,
          252,
          197,
          126,
          130,
          21,
          118,
          21,
          223,
          521,
          113,
          319,
          126,
          1529,
          1432,
          1529,
          1432,
          1483,
          2570,
          1529,
          407,
          966,
          1138,
          382,
          294,
          357,
          1138,
          130,
          1457,
          1079,
          1415,
          1483,
          298,
          882,
          836,
          50,
          890,
          1415,
          323,
          139,
          2381,
          176,
          2902,
          1457,
          1449,
          588,
          521,
          1415,
          1382,
          382,
          1978,
          231,
          256,
          987,
          1352,
          2360,
          1978,
          277,
          987,
          617,
          2360,
          176,
          202,
          811,
          2398,
          1399,
          319,
          1411,
          160,
          1277,
          739,
          1625,
          97,
          2415,
          2419,
          2755,
          802,
          2570,
          2323,
          895,
          2041,
          1487,
          2125,
          2243,
          764,
          1718,
          2638,
          2759,
          298,
          374,
          3016,
          2381,
          340,
          2902,
          2902,
          3020,
          2827,
          1457,
          2360,
          2205,
          2348,
          181,
          2171,
          2407,
          2415,
          617,
          2453,
          815,
          2747,
          126,
          3704,
          3599,
          3024,
          3713,
          3599,
          4200,
          3360,
          3704,
          3713,
          504,
          3772,
          3713,
          3389,
          3788,
          1499,
          3788,
          3440,
          3011,
          3713,
          3713,
          3704,
          3599,
          3024,
          3734,
          3599,
          3788,
          3713,
          3734,
          3713,
          3734,
          3704,
          3734,
          3763,
          3599,
          3713,
          3713,
          3599,
          3360,
          3704,
          3713,
          3713,
          3734,
          3515,
          3826,
          3713,
          3713,
          3360,
          3704,
          3704,
          3599,
          3713,
          3696,
          3734,
          3599,
          3826,
          3734,
          3713,
          3704,
          3713,
          3713,
          3360,
          3734,
          3902,
          109,
          1302,
          1529,
          1084,
          2222,
          420,
          223,
          0,
          1516,
          2486,
          1659,
          260,
          2264,
          1520,
          407,
          1625,
          1961,
          2100,
          958,
          1915,
          210,
          1516,
          1180,
          1520,
          1600,
          2520,
          227,
          1084,
          1407,
          1415,
          907,
          1575,
          1012,
          1294,
          1046,
          449,
          777,
          407,
          370,
          55,
          1352,
          563,
          1529,
          1546,
          1407,
          1201,
          1625,
          1625,
          1037,
          2638,
          1449,
          1609,
          601,
          1516,
          1701,
          882,
          1575,
          1445,
          1134,
          1218,
          1995,
          0,
          2205,
          2083,
          1634,
          1726,
          1991,
          206,
          2625,
          1613,
          1033,
          1470,
          2407,
          2104,
          1575,
          172,
          1420,
          2100,
          1600,
          1168,
          1625,
          1701,
          491,
          1348,
          1512,
          3011,
          1210,
          1499,
          3713,
          3713,
          550,
          256,
          1428,
          1008,
          1365,
          550,
          668,
          567,
          785,
          735,
          680,
          1109,
          622,
          441,
          344,
          365,
          991,
          1218,
          1218,
          361,
          496,
          378,
          298,
          466,
          853,
          508,
          911,
          458,
          374,
          1100,
          798,
          407,
          630,
          722,
          689,
          466,
          1100,
          475,
          382,
          466,
          538,
          395,
          718,
          865,
          874,
          466,
          353,
          521,
          1058,
          546,
          521,
          361,
          386,
          567,
          630,
          722,
          391,
          798,
          554,
          785,
          512,
          701,
          722,
          487,
          353,
          1571,
          1415,
          1415,
          273,
          105,
          370,
          979,
          1054,
          2407,
          420,
          97,
          1399,
          1306,
          672,
          1336,
          80,
          97,
          302,
          1184,
          1184,
          126,
          88,
          97,
          1037,
          1151,
          97,
          1084,
          134,
          1407,
          1575,
          1575,
          1365,
          189,
          181,
          181,
          130,
          1449,
          1357,
          626,
          1390,
          0,
          336,
          391,
          1407,
          202,
          1336,
          0,
          55,
          189,
          416,
          1575,
          437,
          1138,
          168,
          294,
          2134,
          2205,
          139,
          168,
          1432,
          407,
          1113,
          1184,
          151,
          315,
          1054,
          2205,
          1289,
          1436,
          1054,
          80,
          550,
          1302,
          1323,
          0,
          1142,
          0,
          134,
          2407,
          0,
          1004,
          470,
          1239,
          1159,
          1487,
          1050,
          1210,
          76,
          1243,
          496,
          995,
          1462,
          1079,
          1151,
          1369,
          1369,
          953,
          1130,
          1050,
          1134,
          643,
          1680,
          1453,
          1033,
          1701,
          1327,
          1067,
          1617,
          1189,
          1008,
          1138,
          1831,
          1756,
          1483,
          752,
          941,
          1705,
          748,
          1281,
          1768,
          878,
          1407,
          953,
          1306,
          1046,
          1470,
          1172,
          1138,
          794,
          1474,
          1218,
          1243,
          1113,
          1155,
          1890,
          1827,
          1231,
          979,
          1231,
          1336,
          1126,
          995,
          1155,
          1117,
          1420,
          1420,
          2344,
          1050,
          1151,
          1327,
          1109,
          1088,
          1277,
          1054,
          1520,
          2285,
          1218,
          857,
          1214,
          1033,
          1394,
          1399,
          1315,
          1096,
          1247,
          1113,
          1000,
          1037,
          1554,
          76,
          151,
          1218,
          630,
          945,
          1739,
          2239,
          445,
          2239,
          1802,
          1184,
          189,
          470,
          756,
          521,
          109,
          252,
          223,
          1961,
          1609,
          218,
          2247,
          1949,
          202,
          1231,
          420,
          2906,
          252,
          2709,
          752,
          1924,
          2142,
          2667,
          1680,
          1886,
          88,
          1949,
          2499,
          911,
          252,
          281,
          752,
          294,
          374,
          651,
          344,
          160,
          101,
          395,
          504,
          328,
          189,
          1121,
          2579,
          727,
          286,
          1050,
          1050,
          1050,
          1050,
          1218,
          1050,
          1205,
          2272,
          1436,
          407,
          1071,
          1277,
          1168,
          2436,
          1281,
          3011,
          945,
          2797,
          2285,
          2310,
          1340,
          2474,
          2558,
          1436,
          1050,
          3011,
          2495,
          1050,
          1050,
          1050,
          2591,
          2591,
          979,
          3011,
          756,
          1201
         ],
         "yaxis": "y"
        }
       ],
       "layout": {
        "barmode": "relative",
        "legend": {
         "tracegroupgap": 0
        },
        "template": {
         "data": {
          "bar": [
           {
            "error_x": {
             "color": "#2a3f5f"
            },
            "error_y": {
             "color": "#2a3f5f"
            },
            "marker": {
             "line": {
              "color": "#E5ECF6",
              "width": 0.5
             },
             "pattern": {
              "fillmode": "overlay",
              "size": 10,
              "solidity": 0.2
             }
            },
            "type": "bar"
           }
          ],
          "barpolar": [
           {
            "marker": {
             "line": {
              "color": "#E5ECF6",
              "width": 0.5
             },
             "pattern": {
              "fillmode": "overlay",
              "size": 10,
              "solidity": 0.2
             }
            },
            "type": "barpolar"
           }
          ],
          "carpet": [
           {
            "aaxis": {
             "endlinecolor": "#2a3f5f",
             "gridcolor": "white",
             "linecolor": "white",
             "minorgridcolor": "white",
             "startlinecolor": "#2a3f5f"
            },
            "baxis": {
             "endlinecolor": "#2a3f5f",
             "gridcolor": "white",
             "linecolor": "white",
             "minorgridcolor": "white",
             "startlinecolor": "#2a3f5f"
            },
            "type": "carpet"
           }
          ],
          "choropleth": [
           {
            "colorbar": {
             "outlinewidth": 0,
             "ticks": ""
            },
            "type": "choropleth"
           }
          ],
          "contour": [
           {
            "colorbar": {
             "outlinewidth": 0,
             "ticks": ""
            },
            "colorscale": [
             [
              0,
              "#0d0887"
             ],
             [
              0.1111111111111111,
              "#46039f"
             ],
             [
              0.2222222222222222,
              "#7201a8"
             ],
             [
              0.3333333333333333,
              "#9c179e"
             ],
             [
              0.4444444444444444,
              "#bd3786"
             ],
             [
              0.5555555555555556,
              "#d8576b"
             ],
             [
              0.6666666666666666,
              "#ed7953"
             ],
             [
              0.7777777777777778,
              "#fb9f3a"
             ],
             [
              0.8888888888888888,
              "#fdca26"
             ],
             [
              1,
              "#f0f921"
             ]
            ],
            "type": "contour"
           }
          ],
          "contourcarpet": [
           {
            "colorbar": {
             "outlinewidth": 0,
             "ticks": ""
            },
            "type": "contourcarpet"
           }
          ],
          "heatmap": [
           {
            "colorbar": {
             "outlinewidth": 0,
             "ticks": ""
            },
            "colorscale": [
             [
              0,
              "#0d0887"
             ],
             [
              0.1111111111111111,
              "#46039f"
             ],
             [
              0.2222222222222222,
              "#7201a8"
             ],
             [
              0.3333333333333333,
              "#9c179e"
             ],
             [
              0.4444444444444444,
              "#bd3786"
             ],
             [
              0.5555555555555556,
              "#d8576b"
             ],
             [
              0.6666666666666666,
              "#ed7953"
             ],
             [
              0.7777777777777778,
              "#fb9f3a"
             ],
             [
              0.8888888888888888,
              "#fdca26"
             ],
             [
              1,
              "#f0f921"
             ]
            ],
            "type": "heatmap"
           }
          ],
          "heatmapgl": [
           {
            "colorbar": {
             "outlinewidth": 0,
             "ticks": ""
            },
            "colorscale": [
             [
              0,
              "#0d0887"
             ],
             [
              0.1111111111111111,
              "#46039f"
             ],
             [
              0.2222222222222222,
              "#7201a8"
             ],
             [
              0.3333333333333333,
              "#9c179e"
             ],
             [
              0.4444444444444444,
              "#bd3786"
             ],
             [
              0.5555555555555556,
              "#d8576b"
             ],
             [
              0.6666666666666666,
              "#ed7953"
             ],
             [
              0.7777777777777778,
              "#fb9f3a"
             ],
             [
              0.8888888888888888,
              "#fdca26"
             ],
             [
              1,
              "#f0f921"
             ]
            ],
            "type": "heatmapgl"
           }
          ],
          "histogram": [
           {
            "marker": {
             "pattern": {
              "fillmode": "overlay",
              "size": 10,
              "solidity": 0.2
             }
            },
            "type": "histogram"
           }
          ],
          "histogram2d": [
           {
            "colorbar": {
             "outlinewidth": 0,
             "ticks": ""
            },
            "colorscale": [
             [
              0,
              "#0d0887"
             ],
             [
              0.1111111111111111,
              "#46039f"
             ],
             [
              0.2222222222222222,
              "#7201a8"
             ],
             [
              0.3333333333333333,
              "#9c179e"
             ],
             [
              0.4444444444444444,
              "#bd3786"
             ],
             [
              0.5555555555555556,
              "#d8576b"
             ],
             [
              0.6666666666666666,
              "#ed7953"
             ],
             [
              0.7777777777777778,
              "#fb9f3a"
             ],
             [
              0.8888888888888888,
              "#fdca26"
             ],
             [
              1,
              "#f0f921"
             ]
            ],
            "type": "histogram2d"
           }
          ],
          "histogram2dcontour": [
           {
            "colorbar": {
             "outlinewidth": 0,
             "ticks": ""
            },
            "colorscale": [
             [
              0,
              "#0d0887"
             ],
             [
              0.1111111111111111,
              "#46039f"
             ],
             [
              0.2222222222222222,
              "#7201a8"
             ],
             [
              0.3333333333333333,
              "#9c179e"
             ],
             [
              0.4444444444444444,
              "#bd3786"
             ],
             [
              0.5555555555555556,
              "#d8576b"
             ],
             [
              0.6666666666666666,
              "#ed7953"
             ],
             [
              0.7777777777777778,
              "#fb9f3a"
             ],
             [
              0.8888888888888888,
              "#fdca26"
             ],
             [
              1,
              "#f0f921"
             ]
            ],
            "type": "histogram2dcontour"
           }
          ],
          "mesh3d": [
           {
            "colorbar": {
             "outlinewidth": 0,
             "ticks": ""
            },
            "type": "mesh3d"
           }
          ],
          "parcoords": [
           {
            "line": {
             "colorbar": {
              "outlinewidth": 0,
              "ticks": ""
             }
            },
            "type": "parcoords"
           }
          ],
          "pie": [
           {
            "automargin": true,
            "type": "pie"
           }
          ],
          "scatter": [
           {
            "fillpattern": {
             "fillmode": "overlay",
             "size": 10,
             "solidity": 0.2
            },
            "type": "scatter"
           }
          ],
          "scatter3d": [
           {
            "line": {
             "colorbar": {
              "outlinewidth": 0,
              "ticks": ""
             }
            },
            "marker": {
             "colorbar": {
              "outlinewidth": 0,
              "ticks": ""
             }
            },
            "type": "scatter3d"
           }
          ],
          "scattercarpet": [
           {
            "marker": {
             "colorbar": {
              "outlinewidth": 0,
              "ticks": ""
             }
            },
            "type": "scattercarpet"
           }
          ],
          "scattergeo": [
           {
            "marker": {
             "colorbar": {
              "outlinewidth": 0,
              "ticks": ""
             }
            },
            "type": "scattergeo"
           }
          ],
          "scattergl": [
           {
            "marker": {
             "colorbar": {
              "outlinewidth": 0,
              "ticks": ""
             }
            },
            "type": "scattergl"
           }
          ],
          "scattermapbox": [
           {
            "marker": {
             "colorbar": {
              "outlinewidth": 0,
              "ticks": ""
             }
            },
            "type": "scattermapbox"
           }
          ],
          "scatterpolar": [
           {
            "marker": {
             "colorbar": {
              "outlinewidth": 0,
              "ticks": ""
             }
            },
            "type": "scatterpolar"
           }
          ],
          "scatterpolargl": [
           {
            "marker": {
             "colorbar": {
              "outlinewidth": 0,
              "ticks": ""
             }
            },
            "type": "scatterpolargl"
           }
          ],
          "scatterternary": [
           {
            "marker": {
             "colorbar": {
              "outlinewidth": 0,
              "ticks": ""
             }
            },
            "type": "scatterternary"
           }
          ],
          "surface": [
           {
            "colorbar": {
             "outlinewidth": 0,
             "ticks": ""
            },
            "colorscale": [
             [
              0,
              "#0d0887"
             ],
             [
              0.1111111111111111,
              "#46039f"
             ],
             [
              0.2222222222222222,
              "#7201a8"
             ],
             [
              0.3333333333333333,
              "#9c179e"
             ],
             [
              0.4444444444444444,
              "#bd3786"
             ],
             [
              0.5555555555555556,
              "#d8576b"
             ],
             [
              0.6666666666666666,
              "#ed7953"
             ],
             [
              0.7777777777777778,
              "#fb9f3a"
             ],
             [
              0.8888888888888888,
              "#fdca26"
             ],
             [
              1,
              "#f0f921"
             ]
            ],
            "type": "surface"
           }
          ],
          "table": [
           {
            "cells": {
             "fill": {
              "color": "#EBF0F8"
             },
             "line": {
              "color": "white"
             }
            },
            "header": {
             "fill": {
              "color": "#C8D4E3"
             },
             "line": {
              "color": "white"
             }
            },
            "type": "table"
           }
          ]
         },
         "layout": {
          "annotationdefaults": {
           "arrowcolor": "#2a3f5f",
           "arrowhead": 0,
           "arrowwidth": 1
          },
          "autotypenumbers": "strict",
          "coloraxis": {
           "colorbar": {
            "outlinewidth": 0,
            "ticks": ""
           }
          },
          "colorscale": {
           "diverging": [
            [
             0,
             "#8e0152"
            ],
            [
             0.1,
             "#c51b7d"
            ],
            [
             0.2,
             "#de77ae"
            ],
            [
             0.3,
             "#f1b6da"
            ],
            [
             0.4,
             "#fde0ef"
            ],
            [
             0.5,
             "#f7f7f7"
            ],
            [
             0.6,
             "#e6f5d0"
            ],
            [
             0.7,
             "#b8e186"
            ],
            [
             0.8,
             "#7fbc41"
            ],
            [
             0.9,
             "#4d9221"
            ],
            [
             1,
             "#276419"
            ]
           ],
           "sequential": [
            [
             0,
             "#0d0887"
            ],
            [
             0.1111111111111111,
             "#46039f"
            ],
            [
             0.2222222222222222,
             "#7201a8"
            ],
            [
             0.3333333333333333,
             "#9c179e"
            ],
            [
             0.4444444444444444,
             "#bd3786"
            ],
            [
             0.5555555555555556,
             "#d8576b"
            ],
            [
             0.6666666666666666,
             "#ed7953"
            ],
            [
             0.7777777777777778,
             "#fb9f3a"
            ],
            [
             0.8888888888888888,
             "#fdca26"
            ],
            [
             1,
             "#f0f921"
            ]
           ],
           "sequentialminus": [
            [
             0,
             "#0d0887"
            ],
            [
             0.1111111111111111,
             "#46039f"
            ],
            [
             0.2222222222222222,
             "#7201a8"
            ],
            [
             0.3333333333333333,
             "#9c179e"
            ],
            [
             0.4444444444444444,
             "#bd3786"
            ],
            [
             0.5555555555555556,
             "#d8576b"
            ],
            [
             0.6666666666666666,
             "#ed7953"
            ],
            [
             0.7777777777777778,
             "#fb9f3a"
            ],
            [
             0.8888888888888888,
             "#fdca26"
            ],
            [
             1,
             "#f0f921"
            ]
           ]
          },
          "colorway": [
           "#636efa",
           "#EF553B",
           "#00cc96",
           "#ab63fa",
           "#FFA15A",
           "#19d3f3",
           "#FF6692",
           "#B6E880",
           "#FF97FF",
           "#FECB52"
          ],
          "font": {
           "color": "#2a3f5f"
          },
          "geo": {
           "bgcolor": "white",
           "lakecolor": "white",
           "landcolor": "#E5ECF6",
           "showlakes": true,
           "showland": true,
           "subunitcolor": "white"
          },
          "hoverlabel": {
           "align": "left"
          },
          "hovermode": "closest",
          "mapbox": {
           "style": "light"
          },
          "paper_bgcolor": "white",
          "plot_bgcolor": "#E5ECF6",
          "polar": {
           "angularaxis": {
            "gridcolor": "white",
            "linecolor": "white",
            "ticks": ""
           },
           "bgcolor": "#E5ECF6",
           "radialaxis": {
            "gridcolor": "white",
            "linecolor": "white",
            "ticks": ""
           }
          },
          "scene": {
           "xaxis": {
            "backgroundcolor": "#E5ECF6",
            "gridcolor": "white",
            "gridwidth": 2,
            "linecolor": "white",
            "showbackground": true,
            "ticks": "",
            "zerolinecolor": "white"
           },
           "yaxis": {
            "backgroundcolor": "#E5ECF6",
            "gridcolor": "white",
            "gridwidth": 2,
            "linecolor": "white",
            "showbackground": true,
            "ticks": "",
            "zerolinecolor": "white"
           },
           "zaxis": {
            "backgroundcolor": "#E5ECF6",
            "gridcolor": "white",
            "gridwidth": 2,
            "linecolor": "white",
            "showbackground": true,
            "ticks": "",
            "zerolinecolor": "white"
           }
          },
          "shapedefaults": {
           "line": {
            "color": "#2a3f5f"
           }
          },
          "ternary": {
           "aaxis": {
            "gridcolor": "white",
            "linecolor": "white",
            "ticks": ""
           },
           "baxis": {
            "gridcolor": "white",
            "linecolor": "white",
            "ticks": ""
           },
           "bgcolor": "#E5ECF6",
           "caxis": {
            "gridcolor": "white",
            "linecolor": "white",
            "ticks": ""
           }
          },
          "title": {
           "x": 0.05
          },
          "xaxis": {
           "automargin": true,
           "gridcolor": "white",
           "linecolor": "white",
           "ticks": "",
           "title": {
            "standoff": 15
           },
           "zerolinecolor": "white",
           "zerolinewidth": 2
          },
          "yaxis": {
           "automargin": true,
           "gridcolor": "white",
           "linecolor": "white",
           "ticks": "",
           "title": {
            "standoff": 15
           },
           "zerolinecolor": "white",
           "zerolinewidth": 2
          }
         }
        },
        "title": {
         "text": "Kilojoules per 100 grams by Food Category"
        },
        "xaxis": {
         "anchor": "y",
         "domain": [
          0,
          1
         ],
         "title": {
          "text": "FoodCategory"
         }
        },
        "yaxis": {
         "anchor": "x",
         "domain": [
          0,
          1
         ],
         "title": {
          "text": "sum of KJ_per100grams"
         }
        }
       }
      }
     },
     "metadata": {},
     "output_type": "display_data"
    }
   ],
   "source": [
    "# explore the food categories with the most KJ\n",
    "plt = px.histogram(df, x='FoodCategory', y ='KJ_per100grams', title='Kilojoules per 100 grams by Food Category', color_discrete_sequence=px.colors.sequential.deep_r)\n",
    "plt.show()"
   ]
  },
  {
   "cell_type": "markdown",
   "metadata": {},
   "source": [
    "<h2 style=\"color: #4CAF50;text-align:center\">Top 10 Food Items by High and Low Kilojoules</h2>"
   ]
  },
  {
   "cell_type": "markdown",
   "metadata": {},
   "source": [
    "### High Kilojoules"
   ]
  },
  {
   "cell_type": "code",
   "execution_count": 81,
   "metadata": {},
   "outputs": [
    {
     "data": {
      "application/vnd.plotly.v1+json": {
       "config": {
        "plotlyServerURL": "https://plot.ly"
       },
       "data": [
        {
         "alignmentgroup": "True",
         "bingroup": "x",
         "histfunc": "sum",
         "hovertemplate": "x=%{x}<br>sum of y=%{y}<extra></extra>",
         "legendgroup": "",
         "marker": {
          "color": "rgb(3, 5, 18)",
          "pattern": {
           "shape": ""
          }
         },
         "name": "",
         "offsetgroup": "",
         "orientation": "v",
         "showlegend": false,
         "type": "histogram",
         "x": [
          "Goulash",
          "Cod Liver Oil",
          "Wheat Germ Oil",
          "Menhaden Oil",
          "Salmon Oil",
          "Beef Tallow",
          "Herring Oil",
          "Lard",
          "Sardine Oil",
          "Chicken Fat"
         ],
         "xaxis": "x",
         "y": [
          4238,
          4200,
          3902,
          3826,
          3826,
          3788,
          3788,
          3788,
          3788,
          3772
         ],
         "yaxis": "y"
        }
       ],
       "layout": {
        "barmode": "relative",
        "legend": {
         "tracegroupgap": 0
        },
        "template": {
         "data": {
          "bar": [
           {
            "error_x": {
             "color": "#2a3f5f"
            },
            "error_y": {
             "color": "#2a3f5f"
            },
            "marker": {
             "line": {
              "color": "#E5ECF6",
              "width": 0.5
             },
             "pattern": {
              "fillmode": "overlay",
              "size": 10,
              "solidity": 0.2
             }
            },
            "type": "bar"
           }
          ],
          "barpolar": [
           {
            "marker": {
             "line": {
              "color": "#E5ECF6",
              "width": 0.5
             },
             "pattern": {
              "fillmode": "overlay",
              "size": 10,
              "solidity": 0.2
             }
            },
            "type": "barpolar"
           }
          ],
          "carpet": [
           {
            "aaxis": {
             "endlinecolor": "#2a3f5f",
             "gridcolor": "white",
             "linecolor": "white",
             "minorgridcolor": "white",
             "startlinecolor": "#2a3f5f"
            },
            "baxis": {
             "endlinecolor": "#2a3f5f",
             "gridcolor": "white",
             "linecolor": "white",
             "minorgridcolor": "white",
             "startlinecolor": "#2a3f5f"
            },
            "type": "carpet"
           }
          ],
          "choropleth": [
           {
            "colorbar": {
             "outlinewidth": 0,
             "ticks": ""
            },
            "type": "choropleth"
           }
          ],
          "contour": [
           {
            "colorbar": {
             "outlinewidth": 0,
             "ticks": ""
            },
            "colorscale": [
             [
              0,
              "#0d0887"
             ],
             [
              0.1111111111111111,
              "#46039f"
             ],
             [
              0.2222222222222222,
              "#7201a8"
             ],
             [
              0.3333333333333333,
              "#9c179e"
             ],
             [
              0.4444444444444444,
              "#bd3786"
             ],
             [
              0.5555555555555556,
              "#d8576b"
             ],
             [
              0.6666666666666666,
              "#ed7953"
             ],
             [
              0.7777777777777778,
              "#fb9f3a"
             ],
             [
              0.8888888888888888,
              "#fdca26"
             ],
             [
              1,
              "#f0f921"
             ]
            ],
            "type": "contour"
           }
          ],
          "contourcarpet": [
           {
            "colorbar": {
             "outlinewidth": 0,
             "ticks": ""
            },
            "type": "contourcarpet"
           }
          ],
          "heatmap": [
           {
            "colorbar": {
             "outlinewidth": 0,
             "ticks": ""
            },
            "colorscale": [
             [
              0,
              "#0d0887"
             ],
             [
              0.1111111111111111,
              "#46039f"
             ],
             [
              0.2222222222222222,
              "#7201a8"
             ],
             [
              0.3333333333333333,
              "#9c179e"
             ],
             [
              0.4444444444444444,
              "#bd3786"
             ],
             [
              0.5555555555555556,
              "#d8576b"
             ],
             [
              0.6666666666666666,
              "#ed7953"
             ],
             [
              0.7777777777777778,
              "#fb9f3a"
             ],
             [
              0.8888888888888888,
              "#fdca26"
             ],
             [
              1,
              "#f0f921"
             ]
            ],
            "type": "heatmap"
           }
          ],
          "heatmapgl": [
           {
            "colorbar": {
             "outlinewidth": 0,
             "ticks": ""
            },
            "colorscale": [
             [
              0,
              "#0d0887"
             ],
             [
              0.1111111111111111,
              "#46039f"
             ],
             [
              0.2222222222222222,
              "#7201a8"
             ],
             [
              0.3333333333333333,
              "#9c179e"
             ],
             [
              0.4444444444444444,
              "#bd3786"
             ],
             [
              0.5555555555555556,
              "#d8576b"
             ],
             [
              0.6666666666666666,
              "#ed7953"
             ],
             [
              0.7777777777777778,
              "#fb9f3a"
             ],
             [
              0.8888888888888888,
              "#fdca26"
             ],
             [
              1,
              "#f0f921"
             ]
            ],
            "type": "heatmapgl"
           }
          ],
          "histogram": [
           {
            "marker": {
             "pattern": {
              "fillmode": "overlay",
              "size": 10,
              "solidity": 0.2
             }
            },
            "type": "histogram"
           }
          ],
          "histogram2d": [
           {
            "colorbar": {
             "outlinewidth": 0,
             "ticks": ""
            },
            "colorscale": [
             [
              0,
              "#0d0887"
             ],
             [
              0.1111111111111111,
              "#46039f"
             ],
             [
              0.2222222222222222,
              "#7201a8"
             ],
             [
              0.3333333333333333,
              "#9c179e"
             ],
             [
              0.4444444444444444,
              "#bd3786"
             ],
             [
              0.5555555555555556,
              "#d8576b"
             ],
             [
              0.6666666666666666,
              "#ed7953"
             ],
             [
              0.7777777777777778,
              "#fb9f3a"
             ],
             [
              0.8888888888888888,
              "#fdca26"
             ],
             [
              1,
              "#f0f921"
             ]
            ],
            "type": "histogram2d"
           }
          ],
          "histogram2dcontour": [
           {
            "colorbar": {
             "outlinewidth": 0,
             "ticks": ""
            },
            "colorscale": [
             [
              0,
              "#0d0887"
             ],
             [
              0.1111111111111111,
              "#46039f"
             ],
             [
              0.2222222222222222,
              "#7201a8"
             ],
             [
              0.3333333333333333,
              "#9c179e"
             ],
             [
              0.4444444444444444,
              "#bd3786"
             ],
             [
              0.5555555555555556,
              "#d8576b"
             ],
             [
              0.6666666666666666,
              "#ed7953"
             ],
             [
              0.7777777777777778,
              "#fb9f3a"
             ],
             [
              0.8888888888888888,
              "#fdca26"
             ],
             [
              1,
              "#f0f921"
             ]
            ],
            "type": "histogram2dcontour"
           }
          ],
          "mesh3d": [
           {
            "colorbar": {
             "outlinewidth": 0,
             "ticks": ""
            },
            "type": "mesh3d"
           }
          ],
          "parcoords": [
           {
            "line": {
             "colorbar": {
              "outlinewidth": 0,
              "ticks": ""
             }
            },
            "type": "parcoords"
           }
          ],
          "pie": [
           {
            "automargin": true,
            "type": "pie"
           }
          ],
          "scatter": [
           {
            "fillpattern": {
             "fillmode": "overlay",
             "size": 10,
             "solidity": 0.2
            },
            "type": "scatter"
           }
          ],
          "scatter3d": [
           {
            "line": {
             "colorbar": {
              "outlinewidth": 0,
              "ticks": ""
             }
            },
            "marker": {
             "colorbar": {
              "outlinewidth": 0,
              "ticks": ""
             }
            },
            "type": "scatter3d"
           }
          ],
          "scattercarpet": [
           {
            "marker": {
             "colorbar": {
              "outlinewidth": 0,
              "ticks": ""
             }
            },
            "type": "scattercarpet"
           }
          ],
          "scattergeo": [
           {
            "marker": {
             "colorbar": {
              "outlinewidth": 0,
              "ticks": ""
             }
            },
            "type": "scattergeo"
           }
          ],
          "scattergl": [
           {
            "marker": {
             "colorbar": {
              "outlinewidth": 0,
              "ticks": ""
             }
            },
            "type": "scattergl"
           }
          ],
          "scattermapbox": [
           {
            "marker": {
             "colorbar": {
              "outlinewidth": 0,
              "ticks": ""
             }
            },
            "type": "scattermapbox"
           }
          ],
          "scatterpolar": [
           {
            "marker": {
             "colorbar": {
              "outlinewidth": 0,
              "ticks": ""
             }
            },
            "type": "scatterpolar"
           }
          ],
          "scatterpolargl": [
           {
            "marker": {
             "colorbar": {
              "outlinewidth": 0,
              "ticks": ""
             }
            },
            "type": "scatterpolargl"
           }
          ],
          "scatterternary": [
           {
            "marker": {
             "colorbar": {
              "outlinewidth": 0,
              "ticks": ""
             }
            },
            "type": "scatterternary"
           }
          ],
          "surface": [
           {
            "colorbar": {
             "outlinewidth": 0,
             "ticks": ""
            },
            "colorscale": [
             [
              0,
              "#0d0887"
             ],
             [
              0.1111111111111111,
              "#46039f"
             ],
             [
              0.2222222222222222,
              "#7201a8"
             ],
             [
              0.3333333333333333,
              "#9c179e"
             ],
             [
              0.4444444444444444,
              "#bd3786"
             ],
             [
              0.5555555555555556,
              "#d8576b"
             ],
             [
              0.6666666666666666,
              "#ed7953"
             ],
             [
              0.7777777777777778,
              "#fb9f3a"
             ],
             [
              0.8888888888888888,
              "#fdca26"
             ],
             [
              1,
              "#f0f921"
             ]
            ],
            "type": "surface"
           }
          ],
          "table": [
           {
            "cells": {
             "fill": {
              "color": "#EBF0F8"
             },
             "line": {
              "color": "white"
             }
            },
            "header": {
             "fill": {
              "color": "#C8D4E3"
             },
             "line": {
              "color": "white"
             }
            },
            "type": "table"
           }
          ]
         },
         "layout": {
          "annotationdefaults": {
           "arrowcolor": "#2a3f5f",
           "arrowhead": 0,
           "arrowwidth": 1
          },
          "autotypenumbers": "strict",
          "coloraxis": {
           "colorbar": {
            "outlinewidth": 0,
            "ticks": ""
           }
          },
          "colorscale": {
           "diverging": [
            [
             0,
             "#8e0152"
            ],
            [
             0.1,
             "#c51b7d"
            ],
            [
             0.2,
             "#de77ae"
            ],
            [
             0.3,
             "#f1b6da"
            ],
            [
             0.4,
             "#fde0ef"
            ],
            [
             0.5,
             "#f7f7f7"
            ],
            [
             0.6,
             "#e6f5d0"
            ],
            [
             0.7,
             "#b8e186"
            ],
            [
             0.8,
             "#7fbc41"
            ],
            [
             0.9,
             "#4d9221"
            ],
            [
             1,
             "#276419"
            ]
           ],
           "sequential": [
            [
             0,
             "#0d0887"
            ],
            [
             0.1111111111111111,
             "#46039f"
            ],
            [
             0.2222222222222222,
             "#7201a8"
            ],
            [
             0.3333333333333333,
             "#9c179e"
            ],
            [
             0.4444444444444444,
             "#bd3786"
            ],
            [
             0.5555555555555556,
             "#d8576b"
            ],
            [
             0.6666666666666666,
             "#ed7953"
            ],
            [
             0.7777777777777778,
             "#fb9f3a"
            ],
            [
             0.8888888888888888,
             "#fdca26"
            ],
            [
             1,
             "#f0f921"
            ]
           ],
           "sequentialminus": [
            [
             0,
             "#0d0887"
            ],
            [
             0.1111111111111111,
             "#46039f"
            ],
            [
             0.2222222222222222,
             "#7201a8"
            ],
            [
             0.3333333333333333,
             "#9c179e"
            ],
            [
             0.4444444444444444,
             "#bd3786"
            ],
            [
             0.5555555555555556,
             "#d8576b"
            ],
            [
             0.6666666666666666,
             "#ed7953"
            ],
            [
             0.7777777777777778,
             "#fb9f3a"
            ],
            [
             0.8888888888888888,
             "#fdca26"
            ],
            [
             1,
             "#f0f921"
            ]
           ]
          },
          "colorway": [
           "#636efa",
           "#EF553B",
           "#00cc96",
           "#ab63fa",
           "#FFA15A",
           "#19d3f3",
           "#FF6692",
           "#B6E880",
           "#FF97FF",
           "#FECB52"
          ],
          "font": {
           "color": "#2a3f5f"
          },
          "geo": {
           "bgcolor": "white",
           "lakecolor": "white",
           "landcolor": "#E5ECF6",
           "showlakes": true,
           "showland": true,
           "subunitcolor": "white"
          },
          "hoverlabel": {
           "align": "left"
          },
          "hovermode": "closest",
          "mapbox": {
           "style": "light"
          },
          "paper_bgcolor": "white",
          "plot_bgcolor": "#E5ECF6",
          "polar": {
           "angularaxis": {
            "gridcolor": "white",
            "linecolor": "white",
            "ticks": ""
           },
           "bgcolor": "#E5ECF6",
           "radialaxis": {
            "gridcolor": "white",
            "linecolor": "white",
            "ticks": ""
           }
          },
          "scene": {
           "xaxis": {
            "backgroundcolor": "#E5ECF6",
            "gridcolor": "white",
            "gridwidth": 2,
            "linecolor": "white",
            "showbackground": true,
            "ticks": "",
            "zerolinecolor": "white"
           },
           "yaxis": {
            "backgroundcolor": "#E5ECF6",
            "gridcolor": "white",
            "gridwidth": 2,
            "linecolor": "white",
            "showbackground": true,
            "ticks": "",
            "zerolinecolor": "white"
           },
           "zaxis": {
            "backgroundcolor": "#E5ECF6",
            "gridcolor": "white",
            "gridwidth": 2,
            "linecolor": "white",
            "showbackground": true,
            "ticks": "",
            "zerolinecolor": "white"
           }
          },
          "shapedefaults": {
           "line": {
            "color": "#2a3f5f"
           }
          },
          "ternary": {
           "aaxis": {
            "gridcolor": "white",
            "linecolor": "white",
            "ticks": ""
           },
           "baxis": {
            "gridcolor": "white",
            "linecolor": "white",
            "ticks": ""
           },
           "bgcolor": "#E5ECF6",
           "caxis": {
            "gridcolor": "white",
            "linecolor": "white",
            "ticks": ""
           }
          },
          "title": {
           "x": 0.05
          },
          "xaxis": {
           "automargin": true,
           "gridcolor": "white",
           "linecolor": "white",
           "ticks": "",
           "title": {
            "standoff": 15
           },
           "zerolinecolor": "white",
           "zerolinewidth": 2
          },
          "yaxis": {
           "automargin": true,
           "gridcolor": "white",
           "linecolor": "white",
           "ticks": "",
           "title": {
            "standoff": 15
           },
           "zerolinecolor": "white",
           "zerolinewidth": 2
          }
         }
        },
        "title": {
         "text": "High Kilojoules per 100 grams by Food Category"
        },
        "xaxis": {
         "anchor": "y",
         "domain": [
          0,
          1
         ],
         "title": {
          "text": "x"
         }
        },
        "yaxis": {
         "anchor": "x",
         "domain": [
          0,
          1
         ],
         "title": {
          "text": "sum of y"
         }
        }
       }
      }
     },
     "metadata": {},
     "output_type": "display_data"
    }
   ],
   "source": [
    "# top 10 food categories with the most KJ\n",
    "top_10_food_categories_kj = df.nlargest(10, 'KJ_per100grams')\n",
    "plt = px.histogram(df, x=top_10_food_categories_kj['FoodItem'], y=top_10_food_categories_kj['KJ_per100grams'], title='High Kilojoules per 100 grams by Food Category', color_discrete_sequence=px.colors.sequential.ice)\n",
    "plt.show()\n"
   ]
  },
  {
   "cell_type": "markdown",
   "metadata": {},
   "source": [
    "### Low Kilojoules"
   ]
  },
  {
   "cell_type": "code",
   "execution_count": 80,
   "metadata": {},
   "outputs": [
    {
     "data": {
      "application/vnd.plotly.v1+json": {
       "config": {
        "plotlyServerURL": "https://plot.ly"
       },
       "data": [
        {
         "alignmentgroup": "True",
         "bingroup": "x",
         "histfunc": "sum",
         "hovertemplate": "x=%{x}<br>sum of y=%{y}<extra></extra>",
         "legendgroup": "",
         "marker": {
          "color": "rgb(234, 252, 253)",
          "pattern": {
           "shape": ""
          }
         },
         "name": "",
         "offsetgroup": "",
         "orientation": "v",
         "showlegend": false,
         "type": "histogram",
         "x": [
          "Chamomile Tea",
          "Chai",
          "Chai Tea",
          "Evian",
          "Ginger Tea",
          "Tap Water",
          "Volvic",
          "Water",
          "Coke Zero",
          "Diet Dr. Pepper"
         ],
         "xaxis": "x",
         "y": [
          0,
          0,
          0,
          0,
          0,
          0,
          0,
          0,
          0,
          0
         ],
         "yaxis": "y"
        }
       ],
       "layout": {
        "barmode": "relative",
        "legend": {
         "tracegroupgap": 0
        },
        "template": {
         "data": {
          "bar": [
           {
            "error_x": {
             "color": "#2a3f5f"
            },
            "error_y": {
             "color": "#2a3f5f"
            },
            "marker": {
             "line": {
              "color": "#E5ECF6",
              "width": 0.5
             },
             "pattern": {
              "fillmode": "overlay",
              "size": 10,
              "solidity": 0.2
             }
            },
            "type": "bar"
           }
          ],
          "barpolar": [
           {
            "marker": {
             "line": {
              "color": "#E5ECF6",
              "width": 0.5
             },
             "pattern": {
              "fillmode": "overlay",
              "size": 10,
              "solidity": 0.2
             }
            },
            "type": "barpolar"
           }
          ],
          "carpet": [
           {
            "aaxis": {
             "endlinecolor": "#2a3f5f",
             "gridcolor": "white",
             "linecolor": "white",
             "minorgridcolor": "white",
             "startlinecolor": "#2a3f5f"
            },
            "baxis": {
             "endlinecolor": "#2a3f5f",
             "gridcolor": "white",
             "linecolor": "white",
             "minorgridcolor": "white",
             "startlinecolor": "#2a3f5f"
            },
            "type": "carpet"
           }
          ],
          "choropleth": [
           {
            "colorbar": {
             "outlinewidth": 0,
             "ticks": ""
            },
            "type": "choropleth"
           }
          ],
          "contour": [
           {
            "colorbar": {
             "outlinewidth": 0,
             "ticks": ""
            },
            "colorscale": [
             [
              0,
              "#0d0887"
             ],
             [
              0.1111111111111111,
              "#46039f"
             ],
             [
              0.2222222222222222,
              "#7201a8"
             ],
             [
              0.3333333333333333,
              "#9c179e"
             ],
             [
              0.4444444444444444,
              "#bd3786"
             ],
             [
              0.5555555555555556,
              "#d8576b"
             ],
             [
              0.6666666666666666,
              "#ed7953"
             ],
             [
              0.7777777777777778,
              "#fb9f3a"
             ],
             [
              0.8888888888888888,
              "#fdca26"
             ],
             [
              1,
              "#f0f921"
             ]
            ],
            "type": "contour"
           }
          ],
          "contourcarpet": [
           {
            "colorbar": {
             "outlinewidth": 0,
             "ticks": ""
            },
            "type": "contourcarpet"
           }
          ],
          "heatmap": [
           {
            "colorbar": {
             "outlinewidth": 0,
             "ticks": ""
            },
            "colorscale": [
             [
              0,
              "#0d0887"
             ],
             [
              0.1111111111111111,
              "#46039f"
             ],
             [
              0.2222222222222222,
              "#7201a8"
             ],
             [
              0.3333333333333333,
              "#9c179e"
             ],
             [
              0.4444444444444444,
              "#bd3786"
             ],
             [
              0.5555555555555556,
              "#d8576b"
             ],
             [
              0.6666666666666666,
              "#ed7953"
             ],
             [
              0.7777777777777778,
              "#fb9f3a"
             ],
             [
              0.8888888888888888,
              "#fdca26"
             ],
             [
              1,
              "#f0f921"
             ]
            ],
            "type": "heatmap"
           }
          ],
          "heatmapgl": [
           {
            "colorbar": {
             "outlinewidth": 0,
             "ticks": ""
            },
            "colorscale": [
             [
              0,
              "#0d0887"
             ],
             [
              0.1111111111111111,
              "#46039f"
             ],
             [
              0.2222222222222222,
              "#7201a8"
             ],
             [
              0.3333333333333333,
              "#9c179e"
             ],
             [
              0.4444444444444444,
              "#bd3786"
             ],
             [
              0.5555555555555556,
              "#d8576b"
             ],
             [
              0.6666666666666666,
              "#ed7953"
             ],
             [
              0.7777777777777778,
              "#fb9f3a"
             ],
             [
              0.8888888888888888,
              "#fdca26"
             ],
             [
              1,
              "#f0f921"
             ]
            ],
            "type": "heatmapgl"
           }
          ],
          "histogram": [
           {
            "marker": {
             "pattern": {
              "fillmode": "overlay",
              "size": 10,
              "solidity": 0.2
             }
            },
            "type": "histogram"
           }
          ],
          "histogram2d": [
           {
            "colorbar": {
             "outlinewidth": 0,
             "ticks": ""
            },
            "colorscale": [
             [
              0,
              "#0d0887"
             ],
             [
              0.1111111111111111,
              "#46039f"
             ],
             [
              0.2222222222222222,
              "#7201a8"
             ],
             [
              0.3333333333333333,
              "#9c179e"
             ],
             [
              0.4444444444444444,
              "#bd3786"
             ],
             [
              0.5555555555555556,
              "#d8576b"
             ],
             [
              0.6666666666666666,
              "#ed7953"
             ],
             [
              0.7777777777777778,
              "#fb9f3a"
             ],
             [
              0.8888888888888888,
              "#fdca26"
             ],
             [
              1,
              "#f0f921"
             ]
            ],
            "type": "histogram2d"
           }
          ],
          "histogram2dcontour": [
           {
            "colorbar": {
             "outlinewidth": 0,
             "ticks": ""
            },
            "colorscale": [
             [
              0,
              "#0d0887"
             ],
             [
              0.1111111111111111,
              "#46039f"
             ],
             [
              0.2222222222222222,
              "#7201a8"
             ],
             [
              0.3333333333333333,
              "#9c179e"
             ],
             [
              0.4444444444444444,
              "#bd3786"
             ],
             [
              0.5555555555555556,
              "#d8576b"
             ],
             [
              0.6666666666666666,
              "#ed7953"
             ],
             [
              0.7777777777777778,
              "#fb9f3a"
             ],
             [
              0.8888888888888888,
              "#fdca26"
             ],
             [
              1,
              "#f0f921"
             ]
            ],
            "type": "histogram2dcontour"
           }
          ],
          "mesh3d": [
           {
            "colorbar": {
             "outlinewidth": 0,
             "ticks": ""
            },
            "type": "mesh3d"
           }
          ],
          "parcoords": [
           {
            "line": {
             "colorbar": {
              "outlinewidth": 0,
              "ticks": ""
             }
            },
            "type": "parcoords"
           }
          ],
          "pie": [
           {
            "automargin": true,
            "type": "pie"
           }
          ],
          "scatter": [
           {
            "fillpattern": {
             "fillmode": "overlay",
             "size": 10,
             "solidity": 0.2
            },
            "type": "scatter"
           }
          ],
          "scatter3d": [
           {
            "line": {
             "colorbar": {
              "outlinewidth": 0,
              "ticks": ""
             }
            },
            "marker": {
             "colorbar": {
              "outlinewidth": 0,
              "ticks": ""
             }
            },
            "type": "scatter3d"
           }
          ],
          "scattercarpet": [
           {
            "marker": {
             "colorbar": {
              "outlinewidth": 0,
              "ticks": ""
             }
            },
            "type": "scattercarpet"
           }
          ],
          "scattergeo": [
           {
            "marker": {
             "colorbar": {
              "outlinewidth": 0,
              "ticks": ""
             }
            },
            "type": "scattergeo"
           }
          ],
          "scattergl": [
           {
            "marker": {
             "colorbar": {
              "outlinewidth": 0,
              "ticks": ""
             }
            },
            "type": "scattergl"
           }
          ],
          "scattermapbox": [
           {
            "marker": {
             "colorbar": {
              "outlinewidth": 0,
              "ticks": ""
             }
            },
            "type": "scattermapbox"
           }
          ],
          "scatterpolar": [
           {
            "marker": {
             "colorbar": {
              "outlinewidth": 0,
              "ticks": ""
             }
            },
            "type": "scatterpolar"
           }
          ],
          "scatterpolargl": [
           {
            "marker": {
             "colorbar": {
              "outlinewidth": 0,
              "ticks": ""
             }
            },
            "type": "scatterpolargl"
           }
          ],
          "scatterternary": [
           {
            "marker": {
             "colorbar": {
              "outlinewidth": 0,
              "ticks": ""
             }
            },
            "type": "scatterternary"
           }
          ],
          "surface": [
           {
            "colorbar": {
             "outlinewidth": 0,
             "ticks": ""
            },
            "colorscale": [
             [
              0,
              "#0d0887"
             ],
             [
              0.1111111111111111,
              "#46039f"
             ],
             [
              0.2222222222222222,
              "#7201a8"
             ],
             [
              0.3333333333333333,
              "#9c179e"
             ],
             [
              0.4444444444444444,
              "#bd3786"
             ],
             [
              0.5555555555555556,
              "#d8576b"
             ],
             [
              0.6666666666666666,
              "#ed7953"
             ],
             [
              0.7777777777777778,
              "#fb9f3a"
             ],
             [
              0.8888888888888888,
              "#fdca26"
             ],
             [
              1,
              "#f0f921"
             ]
            ],
            "type": "surface"
           }
          ],
          "table": [
           {
            "cells": {
             "fill": {
              "color": "#EBF0F8"
             },
             "line": {
              "color": "white"
             }
            },
            "header": {
             "fill": {
              "color": "#C8D4E3"
             },
             "line": {
              "color": "white"
             }
            },
            "type": "table"
           }
          ]
         },
         "layout": {
          "annotationdefaults": {
           "arrowcolor": "#2a3f5f",
           "arrowhead": 0,
           "arrowwidth": 1
          },
          "autotypenumbers": "strict",
          "coloraxis": {
           "colorbar": {
            "outlinewidth": 0,
            "ticks": ""
           }
          },
          "colorscale": {
           "diverging": [
            [
             0,
             "#8e0152"
            ],
            [
             0.1,
             "#c51b7d"
            ],
            [
             0.2,
             "#de77ae"
            ],
            [
             0.3,
             "#f1b6da"
            ],
            [
             0.4,
             "#fde0ef"
            ],
            [
             0.5,
             "#f7f7f7"
            ],
            [
             0.6,
             "#e6f5d0"
            ],
            [
             0.7,
             "#b8e186"
            ],
            [
             0.8,
             "#7fbc41"
            ],
            [
             0.9,
             "#4d9221"
            ],
            [
             1,
             "#276419"
            ]
           ],
           "sequential": [
            [
             0,
             "#0d0887"
            ],
            [
             0.1111111111111111,
             "#46039f"
            ],
            [
             0.2222222222222222,
             "#7201a8"
            ],
            [
             0.3333333333333333,
             "#9c179e"
            ],
            [
             0.4444444444444444,
             "#bd3786"
            ],
            [
             0.5555555555555556,
             "#d8576b"
            ],
            [
             0.6666666666666666,
             "#ed7953"
            ],
            [
             0.7777777777777778,
             "#fb9f3a"
            ],
            [
             0.8888888888888888,
             "#fdca26"
            ],
            [
             1,
             "#f0f921"
            ]
           ],
           "sequentialminus": [
            [
             0,
             "#0d0887"
            ],
            [
             0.1111111111111111,
             "#46039f"
            ],
            [
             0.2222222222222222,
             "#7201a8"
            ],
            [
             0.3333333333333333,
             "#9c179e"
            ],
            [
             0.4444444444444444,
             "#bd3786"
            ],
            [
             0.5555555555555556,
             "#d8576b"
            ],
            [
             0.6666666666666666,
             "#ed7953"
            ],
            [
             0.7777777777777778,
             "#fb9f3a"
            ],
            [
             0.8888888888888888,
             "#fdca26"
            ],
            [
             1,
             "#f0f921"
            ]
           ]
          },
          "colorway": [
           "#636efa",
           "#EF553B",
           "#00cc96",
           "#ab63fa",
           "#FFA15A",
           "#19d3f3",
           "#FF6692",
           "#B6E880",
           "#FF97FF",
           "#FECB52"
          ],
          "font": {
           "color": "#2a3f5f"
          },
          "geo": {
           "bgcolor": "white",
           "lakecolor": "white",
           "landcolor": "#E5ECF6",
           "showlakes": true,
           "showland": true,
           "subunitcolor": "white"
          },
          "hoverlabel": {
           "align": "left"
          },
          "hovermode": "closest",
          "mapbox": {
           "style": "light"
          },
          "paper_bgcolor": "white",
          "plot_bgcolor": "#E5ECF6",
          "polar": {
           "angularaxis": {
            "gridcolor": "white",
            "linecolor": "white",
            "ticks": ""
           },
           "bgcolor": "#E5ECF6",
           "radialaxis": {
            "gridcolor": "white",
            "linecolor": "white",
            "ticks": ""
           }
          },
          "scene": {
           "xaxis": {
            "backgroundcolor": "#E5ECF6",
            "gridcolor": "white",
            "gridwidth": 2,
            "linecolor": "white",
            "showbackground": true,
            "ticks": "",
            "zerolinecolor": "white"
           },
           "yaxis": {
            "backgroundcolor": "#E5ECF6",
            "gridcolor": "white",
            "gridwidth": 2,
            "linecolor": "white",
            "showbackground": true,
            "ticks": "",
            "zerolinecolor": "white"
           },
           "zaxis": {
            "backgroundcolor": "#E5ECF6",
            "gridcolor": "white",
            "gridwidth": 2,
            "linecolor": "white",
            "showbackground": true,
            "ticks": "",
            "zerolinecolor": "white"
           }
          },
          "shapedefaults": {
           "line": {
            "color": "#2a3f5f"
           }
          },
          "ternary": {
           "aaxis": {
            "gridcolor": "white",
            "linecolor": "white",
            "ticks": ""
           },
           "baxis": {
            "gridcolor": "white",
            "linecolor": "white",
            "ticks": ""
           },
           "bgcolor": "#E5ECF6",
           "caxis": {
            "gridcolor": "white",
            "linecolor": "white",
            "ticks": ""
           }
          },
          "title": {
           "x": 0.05
          },
          "xaxis": {
           "automargin": true,
           "gridcolor": "white",
           "linecolor": "white",
           "ticks": "",
           "title": {
            "standoff": 15
           },
           "zerolinecolor": "white",
           "zerolinewidth": 2
          },
          "yaxis": {
           "automargin": true,
           "gridcolor": "white",
           "linecolor": "white",
           "ticks": "",
           "title": {
            "standoff": 15
           },
           "zerolinecolor": "white",
           "zerolinewidth": 2
          }
         }
        },
        "title": {
         "text": "Lowest Kilojoules per 100 grams by Food Item"
        },
        "xaxis": {
         "anchor": "y",
         "domain": [
          0,
          1
         ],
         "title": {
          "text": "x"
         }
        },
        "yaxis": {
         "anchor": "x",
         "domain": [
          0,
          1
         ],
         "title": {
          "text": "sum of y"
         }
        }
       }
      }
     },
     "metadata": {},
     "output_type": "display_data"
    }
   ],
   "source": [
    "low_kj_food_items = df.nsmallest(10, 'KJ_per100grams')\n",
    "\n",
    "plt = px.histogram(df, x=less_cal_food_items['FoodItem'], y=less_cal_food_items['KJ_per100grams'], title='Lowest Kilojoules per 100 grams by Food Item', color_discrete_sequence=px.colors.sequential.ice_r)\n",
    "plt.show()"
   ]
  },
  {
   "cell_type": "markdown",
   "metadata": {},
   "source": [
    "<h2 style=\"color: #4CAF50;text-align:center\">Calories and Kilojoules Distribution</h2>"
   ]
  },
  {
   "cell_type": "code",
   "execution_count": 47,
   "metadata": {},
   "outputs": [
    {
     "data": {
      "image/png": "[encoded data removed]",
      "text/plain": [
       "<Figure size 1200x600 with 1 Axes>"
      ]
     },
     "metadata": {},
     "output_type": "display_data"
    },
    {
     "data": {
      "image/png": "[encoded data removed]",
      "text/plain": [
       "<Figure size 1200x600 with 1 Axes>"
      ]
     },
     "metadata": {},
     "output_type": "display_data"
    }
   ],
   "source": [
    "plt.figure(figsize=(12, 6))\n",
    "sns.histplot(df['Cals_per100grams'], kde=True)\n",
    "plt.title('Distribution of Calories per 100 grams')\n",
    "plt.xlabel('Calories (per 100 grams)')\n",
    "plt.ylabel('Frequency')\n",
    "plt.show()\n",
    "\n",
    "plt.figure(figsize=(12, 6))\n",
    "sns.histplot(df['KJ_per100grams'], kde=True)\n",
    "plt.title('Distribution of Kilojoules per 100 grams')\n",
    "plt.xlabel('Kilojoules (per 100 grams)')\n",
    "plt.ylabel('Frequency')\n",
    "plt.show()"
   ]
  },
  {
   "cell_type": "markdown",
   "metadata": {},
   "source": [
    "<h1><b><p style=\"background-color:#09375b;font-family:camtasia;font-size:110%;color:white;text-align:center;border-radius:15px 50px; padding:7px; border:solid 2px #09375b; box-shadow: 10px 10px 10px #042b4c\">THE END</p></b></h1>"
   ]
  }
 ],
 "metadata": {
  "kernelspec": {
   "display_name": "data_science",
   "language": "python",
   "name": "python3"
  },
  "language_info": {
   "codemirror_mode": {
    "name": "ipython",
    "version": 3
   },
   "file_extension": ".py",
   "mimetype": "text/x-python",
   "name": "python",
   "nbconvert_exporter": "python",
   "pygments_lexer": "ipython3",
   "version": "3.11.9"
  }
 },
 "nbformat": 4,
 "nbformat_minor": 2
}
